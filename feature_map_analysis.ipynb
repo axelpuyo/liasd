{
  "nbformat": 4,
  "nbformat_minor": 0,
  "metadata": {
    "colab": {
      "name": "feature_map_analysis",
      "provenance": [],
      "collapsed_sections": [],
      "authorship_tag": "ABX9TyM92jUEpgZYnvm07E0X4Fp1",
      "include_colab_link": true
    },
    "kernelspec": {
      "name": "python3",
      "display_name": "Python 3"
    },
    "language_info": {
      "name": "python"
    }
  },
  "cells": [
    {
      "cell_type": "markdown",
      "metadata": {
        "id": "view-in-github",
        "colab_type": "text"
      },
      "source": [
        "<a href=\"https://colab.research.google.com/github/axelpuyo/liasd/blob/working/feature_map_analysis.ipynb\" target=\"_parent\"><img src=\"https://colab.research.google.com/assets/colab-badge.svg\" alt=\"Open In Colab\"/></a>"
      ]
    },
    {
      "cell_type": "code",
      "source": [
        "clear all"
      ],
      "metadata": {
        "colab": {
          "base_uri": "https://localhost:8080/"
        },
        "id": "eDfLhVBcclEO",
        "outputId": "62f4d6ee-6cc6-46b8-d342-d13b0765cd48"
      },
      "execution_count": 18,
      "outputs": [
        {
          "output_type": "stream",
          "name": "stdout",
          "text": [
            "\u001b[H\u001b[2J"
          ]
        }
      ]
    },
    {
      "cell_type": "code",
      "execution_count": 19,
      "metadata": {
        "id": "MZ2BeWvGXvJL"
      },
      "outputs": [],
      "source": [
        "## IMPORTS.\n",
        "import os\n",
        "import numpy as np\n",
        "import pandas as pd\n",
        "import matplotlib.pyplot as plt\n",
        "from tensorflow import keras\n",
        "from tensorflow.keras import layers"
      ]
    },
    {
      "cell_type": "code",
      "source": [
        "## MODEL PARAMETERS (STATIC).\n",
        "n_dense1 = 1000\n",
        "n_dense2 = 1000"
      ],
      "metadata": {
        "id": "y8JYwzroYtTX"
      },
      "execution_count": 20,
      "outputs": []
    },
    {
      "cell_type": "code",
      "source": [
        "## PREPROCESSING\n",
        "(x_train, y_train), (x_test, y_test) = keras.datasets.cifar10.load_data()\n",
        "\n",
        "# Scale images to the [0, 1] range\n",
        "x_train = x_train.astype(\"float32\") / 255\n",
        "x_test = x_test.astype(\"float32\") / 255\n",
        "\n",
        "# Make sure images have shape (28, 28, 1)\n",
        "if x_train.ndim < 4:\n",
        "  x_train = np.expand_dims(x_train, -1)\n",
        "  x_test = np.expand_dims(x_test, -1)\n",
        "\n",
        "# Make sure train/test split is representative.\n",
        "print(x_train.shape, \"input shape\")\n",
        "print(x_train.shape[0], \"train samples\")\n",
        "print(x_test.shape[0], \"test samples\")\n",
        "\n",
        "values, counts = np.unique(y_train, return_counts = True)\n",
        "print('----training----')\n",
        "print('labels : counts')\n",
        "print('---------------')\n",
        "for i in range(len(values)):\n",
        "    print(' ', values[i], '   : ', counts[i])\n",
        "\n",
        "values, counts = np.unique(y_test, return_counts = True)\n",
        "print('----testing----')\n",
        "print('labels : counts')\n",
        "print('---------------')\n",
        "for i in range(len(values)):\n",
        "    print(' ', values[i], '   : ', counts[i])\n",
        "\n",
        "num_classes = len(counts)\n",
        "\n",
        "# Convert class vectors to binary class matrices\n",
        "y_train = keras.utils.to_categorical(y_train, num_classes)\n",
        "y_test = keras.utils.to_categorical(y_test, num_classes)"
      ],
      "metadata": {
        "colab": {
          "base_uri": "https://localhost:8080/"
        },
        "id": "TqfSXnmOX5Xa",
        "outputId": "6d4ed85d-df9d-427a-d530-a1bc0edfac25"
      },
      "execution_count": 21,
      "outputs": [
        {
          "output_type": "stream",
          "name": "stdout",
          "text": [
            "(50000, 32, 32, 3) input shape\n",
            "50000 train samples\n",
            "10000 test samples\n",
            "----training----\n",
            "labels : counts\n",
            "---------------\n",
            "  0    :  5000\n",
            "  1    :  5000\n",
            "  2    :  5000\n",
            "  3    :  5000\n",
            "  4    :  5000\n",
            "  5    :  5000\n",
            "  6    :  5000\n",
            "  7    :  5000\n",
            "  8    :  5000\n",
            "  9    :  5000\n",
            "----testing----\n",
            "labels : counts\n",
            "---------------\n",
            "  0    :  1000\n",
            "  1    :  1000\n",
            "  2    :  1000\n",
            "  3    :  1000\n",
            "  4    :  1000\n",
            "  5    :  1000\n",
            "  6    :  1000\n",
            "  7    :  1000\n",
            "  8    :  1000\n",
            "  9    :  1000\n"
          ]
        }
      ]
    },
    {
      "cell_type": "code",
      "source": [
        "## MODEL BUILD\n",
        "model = keras.Sequential(\n",
        "    [\n",
        "        keras.Input(shape=x_train[0].shape),\n",
        "        layers.Conv2D(64, kernel_size=(3, 3), activation=\"relu\"),\n",
        "        layers.MaxPooling2D(pool_size=(2, 2)),\n",
        "        layers.Conv2D(64, kernel_size=(3, 3), activation=\"relu\"),\n",
        "        layers.MaxPooling2D(pool_size=(2, 2)),\n",
        "        layers.Flatten(),\n",
        "        layers.Dense(num_classes, activation=\"softmax\"),\n",
        "    ]\n",
        ")\n",
        "\n",
        "model.summary()\n"
      ],
      "metadata": {
        "colab": {
          "base_uri": "https://localhost:8080/"
        },
        "id": "TUee9P9lcPIm",
        "outputId": "825d2d3f-7bca-451a-cd30-83833c764a86"
      },
      "execution_count": 22,
      "outputs": [
        {
          "output_type": "stream",
          "name": "stdout",
          "text": [
            "Model: \"sequential_1\"\n",
            "_________________________________________________________________\n",
            " Layer (type)                Output Shape              Param #   \n",
            "=================================================================\n",
            " conv2d_2 (Conv2D)           (None, 30, 30, 64)        1792      \n",
            "                                                                 \n",
            " max_pooling2d_2 (MaxPooling  (None, 15, 15, 64)       0         \n",
            " 2D)                                                             \n",
            "                                                                 \n",
            " conv2d_3 (Conv2D)           (None, 13, 13, 64)        36928     \n",
            "                                                                 \n",
            " max_pooling2d_3 (MaxPooling  (None, 6, 6, 64)         0         \n",
            " 2D)                                                             \n",
            "                                                                 \n",
            " flatten_1 (Flatten)         (None, 2304)              0         \n",
            "                                                                 \n",
            " dense_1 (Dense)             (None, 10)                23050     \n",
            "                                                                 \n",
            "=================================================================\n",
            "Total params: 61,770\n",
            "Trainable params: 61,770\n",
            "Non-trainable params: 0\n",
            "_________________________________________________________________\n"
          ]
        }
      ]
    },
    {
      "cell_type": "code",
      "source": [
        "## HYPER-PARAMETERS.\n",
        "batch_size = 128\n",
        "epochs = 15"
      ],
      "metadata": {
        "id": "r2lknQYjYrFv"
      },
      "execution_count": 26,
      "outputs": []
    },
    {
      "cell_type": "code",
      "source": [
        "## OPTIMIZER AND LOSS.\n",
        "model.compile(loss='categorical_crossentropy', optimizer='adam', metrics=['accuracy'])"
      ],
      "metadata": {
        "id": "HQ3Eburbc5Js"
      },
      "execution_count": 27,
      "outputs": []
    },
    {
      "cell_type": "code",
      "source": [
        "## MODEL TRAINING.\n",
        "model.fit(x_train, y_train, batch_size=batch_size, epochs=epochs, verbose=True, callbacks=None, validation_split=0.8)"
      ],
      "metadata": {
        "colab": {
          "base_uri": "https://localhost:8080/"
        },
        "id": "SbiONWjsdDHL",
        "outputId": "3f28b888-5ec3-4409-c6bd-7c140d2e1b9c"
      },
      "execution_count": 28,
      "outputs": [
        {
          "output_type": "stream",
          "name": "stdout",
          "text": [
            "Epoch 1/15\n",
            "79/79 [==============================] - 41s 515ms/step - loss: 1.3925 - accuracy: 0.5080 - val_loss: 1.4239 - val_accuracy: 0.4974\n",
            "Epoch 2/15\n",
            "79/79 [==============================] - 38s 486ms/step - loss: 1.3001 - accuracy: 0.5402 - val_loss: 1.3906 - val_accuracy: 0.5065\n",
            "Epoch 3/15\n",
            "79/79 [==============================] - 38s 484ms/step - loss: 1.2561 - accuracy: 0.5572 - val_loss: 1.3551 - val_accuracy: 0.5185\n",
            "Epoch 4/15\n",
            "79/79 [==============================] - 37s 477ms/step - loss: 1.1955 - accuracy: 0.5836 - val_loss: 1.3178 - val_accuracy: 0.5362\n",
            "Epoch 5/15\n",
            "79/79 [==============================] - 37s 477ms/step - loss: 1.1601 - accuracy: 0.6000 - val_loss: 1.3070 - val_accuracy: 0.5427\n",
            "Epoch 6/15\n",
            "79/79 [==============================] - 38s 480ms/step - loss: 1.1167 - accuracy: 0.6085 - val_loss: 1.2644 - val_accuracy: 0.5619\n",
            "Epoch 7/15\n",
            "79/79 [==============================] - 37s 475ms/step - loss: 1.0692 - accuracy: 0.6239 - val_loss: 1.2338 - val_accuracy: 0.5717\n",
            "Epoch 8/15\n",
            "79/79 [==============================] - 38s 478ms/step - loss: 1.0371 - accuracy: 0.6403 - val_loss: 1.2401 - val_accuracy: 0.5652\n",
            "Epoch 9/15\n",
            "79/79 [==============================] - 38s 478ms/step - loss: 1.0095 - accuracy: 0.6486 - val_loss: 1.2290 - val_accuracy: 0.5740\n",
            "Epoch 10/15\n",
            "79/79 [==============================] - 40s 506ms/step - loss: 0.9659 - accuracy: 0.6679 - val_loss: 1.1838 - val_accuracy: 0.5924\n",
            "Epoch 11/15\n",
            "79/79 [==============================] - 38s 486ms/step - loss: 0.9416 - accuracy: 0.6712 - val_loss: 1.2189 - val_accuracy: 0.5814\n",
            "Epoch 12/15\n",
            "79/79 [==============================] - 38s 479ms/step - loss: 0.9101 - accuracy: 0.6853 - val_loss: 1.2075 - val_accuracy: 0.5842\n",
            "Epoch 13/15\n",
            "79/79 [==============================] - 38s 479ms/step - loss: 0.8757 - accuracy: 0.6990 - val_loss: 1.2133 - val_accuracy: 0.5809\n",
            "Epoch 14/15\n",
            "79/79 [==============================] - 38s 484ms/step - loss: 0.8542 - accuracy: 0.7058 - val_loss: 1.1971 - val_accuracy: 0.5906\n",
            "Epoch 15/15\n",
            "79/79 [==============================] - 38s 484ms/step - loss: 0.8289 - accuracy: 0.7153 - val_loss: 1.1471 - val_accuracy: 0.6084\n"
          ]
        },
        {
          "output_type": "execute_result",
          "data": {
            "text/plain": [
              "<keras.callbacks.History at 0x7f16090fc410>"
            ]
          },
          "metadata": {},
          "execution_count": 28
        }
      ]
    },
    {
      "cell_type": "code",
      "source": [
        "## SAVE TRAINED MODEL.\n",
        "from google.colab import drive\n",
        "drive.mount('/content/gdrive')\n",
        "work_dir = f'/content/gdrive/My Drive/Colab Notebooks/Data'\n",
        "model.save(work_dir)"
      ],
      "metadata": {
        "id": "jbWXzUZPdj0Q"
      },
      "execution_count": null,
      "outputs": []
    },
    {
      "cell_type": "code",
      "source": [
        "## FEATURE MAPS VISUALIZATION.\n",
        "from keras.models import Model\n",
        "# Construction of basic image, to see what happens to it at every stage of the model.\n",
        "im = np.zeros(x_train[0].shape)\n",
        "c = int(np.floor(x_train[0].shape[1] / 2))\n",
        "im[8:24, c, 1] = 1 # Je lui donne une barre verte.\n",
        "im[c, 8:24, 1] = 1\n",
        "if im.ndim < 4:\n",
        "  im = np.expand_dims(im, axis=0)\n",
        "\n",
        "# plt.imshow(np.squeeze(im[..., -1]), cmap='gray', aspect='auto')\n",
        "# plt.colorbar()\n",
        "# plt.show()\n",
        "\n",
        "for i in range(len(model.layers)):\n",
        "  if 'conv' not in model.layers[i].name:\n",
        "    continue\n",
        "  model2 = Model(inputs=model.inputs, outputs=model.layers[i].output)\n",
        "\n",
        "  kernels, biases = model.layers[i].get_weights()\n",
        "  k_min, k_max = kernels.min(), kernels.max()\n",
        "  kernels = (kernels - k_min) / (k_max - k_min)\n",
        "  feature_map = model2.predict(im)\n",
        "\n",
        "  # f_map = np.squeeze(feature_map[..., 0])\n",
        "  # kernel = np.squeeze(kernels[..., 0, 0]) # Ce zéro est suspect, on ne sait pas si ce feature map vient forcément du 1er input du convolutional layer d'avant.\n",
        "\n",
        "  # print(model.layers[i].name, kernels.shape)\n",
        "  # plt.figure(figsize=(20,5))\n",
        "  # plt.subplot(131)\n",
        "  # plt.imshow(np.squeeze(im), aspect='auto')\n",
        "  # plt.colorbar()\n",
        "  # plt.subplot(132)\n",
        "  # plt.imshow(kernel, aspect='auto')\n",
        "  # plt.colorbar()\n",
        "  # plt.subplot(133)\n",
        "  # plt.imshow(f_map, aspect='auto')\n",
        "  # plt.colorbar()\n",
        "  # plt.show()\n",
        "  # Visualize all feature maps and corresponding filters.\n",
        "  num_maps = feature_map.shape[-1]\n",
        "  rows = int(np.floor(np.sqrt(num_maps)))\n",
        "  idx = 1\n",
        "  plt.figure(figsize=(20, 10))\n",
        "  print(model.layers[i].name, kernels.shape)\n",
        "  for j in range(0, num_maps, 8):\n",
        "    # print(num_maps, idx, rows*2*rows)\n",
        "    f_map = np.squeeze(feature_map[..., j])\n",
        "    kernel = np.squeeze(kernels[..., 0, j]) # Ce zéro est suspect : revoir les shape des kernels.\n",
        "\n",
        "    plt.subplot(2, 8, idx)\n",
        "    plt.imshow(kernel, aspect='auto')\n",
        "    plt.subplot(2, 8, idx + 1)\n",
        "    plt.imshow(f_map, aspect='auto')\n",
        "\n",
        "    idx += 2\n",
        "  plt.show()\n",
        "  "
      ],
      "metadata": {
        "colab": {
          "base_uri": "https://localhost:8080/",
          "height": 1000
        },
        "id": "gzddIwowl4an",
        "outputId": "b3ef4a8a-512b-4a0d-ef57-de1be515839d"
      },
      "execution_count": 54,
      "outputs": [
        {
          "output_type": "stream",
          "name": "stdout",
          "text": [
            "conv2d_2 (3, 3, 3, 64)\n"
          ]
        },
        {
          "output_type": "display_data",
          "data": {
            "text/plain": [
              "<Figure size 1440x720 with 16 Axes>"
            ],
            "image/png": "[encoded data removed]"
          },
          "metadata": {
            "needs_background": "light"
          }
        },
        {
          "output_type": "stream",
          "name": "stdout",
          "text": [
            "conv2d_3 (3, 3, 64, 64)\n"
          ]
        },
        {
          "output_type": "display_data",
          "data": {
            "text/plain": [
              "<Figure size 1440x720 with 16 Axes>"
            ],
            "image/png": "[encoded data removed]"
          },
          "metadata": {
            "needs_background": "light"
          }
        }
      ]
    }
  ]
}