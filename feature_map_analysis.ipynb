{
  "nbformat": 4,
  "nbformat_minor": 0,
  "metadata": {
    "colab": {
      "name": "feature_map_analysis",
      "provenance": [],
      "collapsed_sections": [],
      "authorship_tag": "ABX9TyPtljAw2dfdE4rMccdIBpCQ",
      "include_colab_link": true
    },
    "kernelspec": {
      "name": "python3",
      "display_name": "Python 3"
    },
    "language_info": {
      "name": "python"
    }
  },
  "cells": [
    {
      "cell_type": "markdown",
      "metadata": {
        "id": "view-in-github",
        "colab_type": "text"
      },
      "source": [
        "<a href=\"https://colab.research.google.com/github/axelpuyo/liasd/blob/working/feature_map_analysis.ipynb\" target=\"_parent\"><img src=\"https://colab.research.google.com/assets/colab-badge.svg\" alt=\"Open In Colab\"/></a>"
      ]
    },
    {
      "cell_type": "code",
      "source": [
        "clear all"
      ],
      "metadata": {
        "colab": {
          "base_uri": "https://localhost:8080/"
        },
        "id": "eDfLhVBcclEO",
        "outputId": "05a083ef-069b-439d-c7a6-c08f1ab0648c"
      },
      "execution_count": null,
      "outputs": [
        {
          "output_type": "stream",
          "name": "stdout",
          "text": [
            "\u001b[H\u001b[2J"
          ]
        }
      ]
    },
    {
      "cell_type": "code",
      "execution_count": null,
      "metadata": {
        "id": "MZ2BeWvGXvJL"
      },
      "outputs": [],
      "source": [
        "## IMPORTS.\n",
        "import os\n",
        "import numpy as np\n",
        "import pandas as pd\n",
        "%matplotlib inline\n",
        "from tensorflow import keras\n",
        "from tensorflow.keras import layers"
      ]
    },
    {
      "cell_type": "code",
      "source": [
        "## MODEL PARAMETERS (STATIC).\n",
        "n_dense1 = 1000\n",
        "n_dense2 = 1000"
      ],
      "metadata": {
        "id": "y8JYwzroYtTX"
      },
      "execution_count": null,
      "outputs": []
    },
    {
      "cell_type": "code",
      "source": [
        "## PREPROCESSING\n",
        "(x_train, y_train), (x_test, y_test) = keras.datasets.mnist.load_data()\n",
        "\n",
        "# Scale images to the [0, 1] range\n",
        "x_train = x_train.astype(\"float32\") / 255\n",
        "x_test = x_test.astype(\"float32\") / 255\n",
        "\n",
        "# Make sure images have shape (28, 28, 1)\n",
        "x_train = np.expand_dims(x_train, -1)\n",
        "x_test = np.expand_dims(x_test, -1)\n",
        "\n",
        "# Make sure train/test split is representative.\n",
        "print(x_train.shape, \"input shape\")\n",
        "print(x_train.shape[0], \"train samples\")\n",
        "print(x_test.shape[0], \"test samples\")\n",
        "\n",
        "values, counts = np.unique(y_train, return_counts = True)\n",
        "print('----training----')\n",
        "print('labels : counts')\n",
        "print('---------------')\n",
        "for i in range(len(values)):\n",
        "    print(' ', values[i], '   : ', counts[i])\n",
        "\n",
        "values, counts = np.unique(y_test, return_counts = True)\n",
        "print('----testing----')\n",
        "print('labels : counts')\n",
        "print('---------------')\n",
        "for i in range(len(values)):\n",
        "    print(' ', values[i], '   : ', counts[i])\n",
        "\n",
        "num_classes = len(counts)\n",
        "\n",
        "# Convert class vectors to binary class matrices\n",
        "y_train = keras.utils.to_categorical(y_train, num_classes)\n",
        "y_test = keras.utils.to_categorical(y_test, num_classes)"
      ],
      "metadata": {
        "colab": {
          "base_uri": "https://localhost:8080/"
        },
        "id": "TqfSXnmOX5Xa",
        "outputId": "8ed08f11-05c7-4f93-e022-44fc588d2225"
      },
      "execution_count": null,
      "outputs": [
        {
          "output_type": "stream",
          "name": "stdout",
          "text": [
            "(60000, 28, 28, 1) input shape\n",
            "60000 train samples\n",
            "10000 test samples\n",
            "----training----\n",
            "labels : counts\n",
            "---------------\n",
            "  0    :  5923\n",
            "  1    :  6742\n",
            "  2    :  5958\n",
            "  3    :  6131\n",
            "  4    :  5842\n",
            "  5    :  5421\n",
            "  6    :  5918\n",
            "  7    :  6265\n",
            "  8    :  5851\n",
            "  9    :  5949\n",
            "----testing----\n",
            "labels : counts\n",
            "---------------\n",
            "  0    :  980\n",
            "  1    :  1135\n",
            "  2    :  1032\n",
            "  3    :  1010\n",
            "  4    :  982\n",
            "  5    :  892\n",
            "  6    :  958\n",
            "  7    :  1028\n",
            "  8    :  974\n",
            "  9    :  1009\n"
          ]
        }
      ]
    },
    {
      "cell_type": "code",
      "source": [
        "## MODEL BUILD\n",
        "model = keras.Sequential(\n",
        "    [\n",
        "        keras.Input(shape=x_train[0].shape),\n",
        "        layers.Conv2D(5, kernel_size=(3, 3), activation=\"relu\"),\n",
        "        layers.MaxPooling2D(pool_size=(2, 2)),\n",
        "        layers.Conv2D(16, kernel_size=(3, 3), activation=\"relu\"),\n",
        "        layers.MaxPooling2D(pool_size=(2, 2)),\n",
        "        layers.Flatten(),\n",
        "        layers.Dense(num_classes, activation=\"softmax\"),\n",
        "    ]\n",
        ")\n",
        "\n",
        "model.summary()\n"
      ],
      "metadata": {
        "colab": {
          "base_uri": "https://localhost:8080/"
        },
        "id": "TUee9P9lcPIm",
        "outputId": "b7607e66-ba8d-428b-de52-2ccb8a019622"
      },
      "execution_count": null,
      "outputs": [
        {
          "output_type": "stream",
          "name": "stdout",
          "text": [
            "Model: \"sequential_9\"\n",
            "_________________________________________________________________\n",
            " Layer (type)                Output Shape              Param #   \n",
            "=================================================================\n",
            " conv2d_17 (Conv2D)          (None, 26, 26, 5)         50        \n",
            "                                                                 \n",
            " max_pooling2d_17 (MaxPoolin  (None, 13, 13, 5)        0         \n",
            " g2D)                                                            \n",
            "                                                                 \n",
            " conv2d_18 (Conv2D)          (None, 11, 11, 16)        736       \n",
            "                                                                 \n",
            " max_pooling2d_18 (MaxPoolin  (None, 5, 5, 16)         0         \n",
            " g2D)                                                            \n",
            "                                                                 \n",
            " flatten_9 (Flatten)         (None, 400)               0         \n",
            "                                                                 \n",
            " dense_9 (Dense)             (None, 10)                4010      \n",
            "                                                                 \n",
            "=================================================================\n",
            "Total params: 4,796\n",
            "Trainable params: 4,796\n",
            "Non-trainable params: 0\n",
            "_________________________________________________________________\n"
          ]
        }
      ]
    },
    {
      "cell_type": "code",
      "source": [
        "## HYPER-PARAMETERS.\n",
        "batch_size = 128\n",
        "epochs = 15"
      ],
      "metadata": {
        "id": "r2lknQYjYrFv"
      },
      "execution_count": null,
      "outputs": []
    },
    {
      "cell_type": "code",
      "source": [
        "## OPTIMIZER AND LOSS.\n",
        "model.compile(loss='categorical_crossentropy', optimizer='adam', metrics=['accuracy'])"
      ],
      "metadata": {
        "id": "HQ3Eburbc5Js"
      },
      "execution_count": null,
      "outputs": []
    },
    {
      "cell_type": "code",
      "source": [
        "## MODEL TRAINING.\n",
        "model.fit(x_train, y_train, batch_size=batch_size, epochs=epochs, verbose=True, callbacks=None, validation_split=0.8)"
      ],
      "metadata": {
        "colab": {
          "base_uri": "https://localhost:8080/"
        },
        "id": "SbiONWjsdDHL",
        "outputId": "1eca3f53-d2c7-4a19-b6e4-7df5f9ab3868"
      },
      "execution_count": null,
      "outputs": [
        {
          "output_type": "stream",
          "name": "stdout",
          "text": [
            "Epoch 1/15\n",
            "94/94 [==============================] - 11s 117ms/step - loss: 1.3226 - accuracy: 0.6251 - val_loss: 0.5339 - val_accuracy: 0.8446\n",
            "Epoch 2/15\n",
            "94/94 [==============================] - 11s 113ms/step - loss: 0.3803 - accuracy: 0.8888 - val_loss: 0.3395 - val_accuracy: 0.8991\n",
            "Epoch 3/15\n",
            "94/94 [==============================] - 11s 114ms/step - loss: 0.2681 - accuracy: 0.9204 - val_loss: 0.2677 - val_accuracy: 0.9180\n",
            "Epoch 4/15\n",
            "94/94 [==============================] - 11s 113ms/step - loss: 0.2124 - accuracy: 0.9395 - val_loss: 0.2184 - val_accuracy: 0.9351\n",
            "Epoch 5/15\n",
            "94/94 [==============================] - 11s 113ms/step - loss: 0.1822 - accuracy: 0.9465 - val_loss: 0.1846 - val_accuracy: 0.9440\n",
            "Epoch 6/15\n",
            "94/94 [==============================] - 11s 113ms/step - loss: 0.1545 - accuracy: 0.9542 - val_loss: 0.1682 - val_accuracy: 0.9493\n",
            "Epoch 7/15\n",
            "94/94 [==============================] - 11s 113ms/step - loss: 0.1409 - accuracy: 0.9576 - val_loss: 0.1527 - val_accuracy: 0.9538\n",
            "Epoch 8/15\n",
            "94/94 [==============================] - 11s 113ms/step - loss: 0.1236 - accuracy: 0.9631 - val_loss: 0.1478 - val_accuracy: 0.9551\n",
            "Epoch 9/15\n",
            "94/94 [==============================] - 11s 114ms/step - loss: 0.1158 - accuracy: 0.9655 - val_loss: 0.1375 - val_accuracy: 0.9582\n",
            "Epoch 10/15\n",
            "94/94 [==============================] - 10s 112ms/step - loss: 0.1059 - accuracy: 0.9693 - val_loss: 0.1294 - val_accuracy: 0.9606\n",
            "Epoch 11/15\n",
            "94/94 [==============================] - 11s 113ms/step - loss: 0.0971 - accuracy: 0.9701 - val_loss: 0.1246 - val_accuracy: 0.9625\n",
            "Epoch 12/15\n",
            "94/94 [==============================] - 11s 114ms/step - loss: 0.0921 - accuracy: 0.9729 - val_loss: 0.1179 - val_accuracy: 0.9638\n",
            "Epoch 13/15\n",
            "94/94 [==============================] - 11s 113ms/step - loss: 0.0867 - accuracy: 0.9743 - val_loss: 0.1124 - val_accuracy: 0.9666\n",
            "Epoch 14/15\n",
            "94/94 [==============================] - 11s 113ms/step - loss: 0.0793 - accuracy: 0.9772 - val_loss: 0.1106 - val_accuracy: 0.9660\n",
            "Epoch 15/15\n",
            "94/94 [==============================] - 11s 112ms/step - loss: 0.0766 - accuracy: 0.9772 - val_loss: 0.1077 - val_accuracy: 0.9670\n"
          ]
        },
        {
          "output_type": "execute_result",
          "data": {
            "text/plain": [
              "<keras.callbacks.History at 0x7f08a62b7f50>"
            ]
          },
          "metadata": {},
          "execution_count": 159
        }
      ]
    },
    {
      "cell_type": "code",
      "source": [
        "## SAVE TRAINED MODEL.\n",
        "from google.colab import drive\n",
        "drive.mount('/content/gdrive')\n",
        "work_dir = f'/content/gdrive/My Drive/Colab Notebooks/Data'\n",
        "model.save(work_dir)"
      ],
      "metadata": {
        "colab": {
          "base_uri": "https://localhost:8080/"
        },
        "id": "jbWXzUZPdj0Q",
        "outputId": "ff26bab5-a84c-4995-cff4-987f656df921"
      },
      "execution_count": null,
      "outputs": [
        {
          "output_type": "stream",
          "name": "stdout",
          "text": [
            "Drive already mounted at /content/gdrive; to attempt to forcibly remount, call drive.mount(\"/content/gdrive\", force_remount=True).\n",
            "INFO:tensorflow:Assets written to: /content/gdrive/My Drive/Colab Notebooks/Data/assets\n"
          ]
        }
      ]
    },
    {
      "cell_type": "code",
      "source": [
        "## FEATURE MAPS VISUALIZATION.\n",
        "from keras.models import Model\n",
        "# Construction of basic image, to see what happens to it at every stage of the model.\n",
        "im = np.zeros(x_train[0].shape)\n",
        "c = int(np.floor(x_train[0].shape[1] / 2))\n",
        "im[:, c, 0] = 1\n",
        "im = np.expand_dims(im, axis=0)\n",
        "\n",
        "# plt.imshow(np.squeeze(im[..., -1]), cmap='gray', aspect='auto')\n",
        "# plt.colorbar()\n",
        "# plt.show()\n",
        "\n",
        "for i in range(len(model.layers)):\n",
        "  if 'conv' not in model.layers[i].name:\n",
        "    continue\n",
        "  model2 = Model(inputs=model.inputs, outputs=model.layers[i].output)\n",
        "\n",
        "  kernels, biases = model.layers[i].get_weights()\n",
        "  k_min, k_max = kernels.min(), kernels.max()\n",
        "  kernels = (kernels - k_min) / (k_max - k_min)\n",
        "  feature_map = model2.predict(im)\n",
        "\n",
        "  f_map = np.squeeze(feature_map[..., 0])\n",
        "  kernel = np.squeeze(kernels[..., 0, 0]) # Ce zéro est suspect, on ne sait pas si ce feature map vient forcément du 1er input du convolutional layer d'avant.\n",
        "\n",
        "  print(model.layers[i].name, kernels.shape)\n",
        "  plt.figure(figsize=(20,5))\n",
        "  plt.subplot(131)\n",
        "  plt.imshow(np.squeeze(im[..., -1]), cmap='gray', aspect='auto')\n",
        "  plt.colorbar()\n",
        "  plt.subplot(132)\n",
        "  plt.imshow(kernel, cmap='gray', aspect='auto')\n",
        "  plt.colorbar()\n",
        "  plt.subplot(133)\n",
        "  plt.imshow(f_map, cmap='gray', aspect='auto')\n",
        "  plt.colorbar()\n",
        "  plt.show()\n",
        "  ## Visualize all feature maps and corresponding filters.\n",
        "  # num_maps = feature_map.shape[-1]\n",
        "  # rows = int(np.floor(np.sqrt(num_maps)))\n",
        "  \n",
        "  # idx = 1\n",
        "  # plt.figure(figsize=(16, 10))\n",
        "  # print(model.layers[i].name, kernels.shape)\n",
        "  # for j in range(num_maps):\n",
        "  #   print(num_maps, idx, rows*2*rows)\n",
        "  #   f_map = np.squeeze(feature_map[..., j])\n",
        "  #   kernel = np.squeeze(kernels[..., 0, j]) # Ce zéro est suspect : revoir les shape des kernels.\n",
        "\n",
        "  #   plt.subplot(rows, 2*rows, idx)\n",
        "  #   plt.imshow(kernel, cmap='gray', aspect='auto')\n",
        "  #   plt.colorbar()\n",
        "  #   plt.subplot(rows, 2*rows, idx + 1)\n",
        "  #   plt.imshow(f_map, cmap='gray', aspect='auto')\n",
        "  #   plt.colorbar()\n",
        "\n",
        "  #   idx += 1\n",
        "  # plt.show()\n",
        "  "
      ],
      "metadata": {
        "colab": {
          "base_uri": "https://localhost:8080/",
          "height": 647
        },
        "id": "gzddIwowl4an",
        "outputId": "76bbaa9c-b7ff-4543-f3f3-e28b6ba90711"
      },
      "execution_count": null,
      "outputs": [
        {
          "output_type": "stream",
          "name": "stdout",
          "text": [
            "conv2d_17 (3, 3, 1, 5)\n"
          ]
        },
        {
          "output_type": "display_data",
          "data": {
            "text/plain": [
              "<Figure size 1440x360 with 6 Axes>"
            ],
            "image/png": "[encoded data removed]"
          },
          "metadata": {
            "needs_background": "light"
          }
        },
        {
          "output_type": "stream",
          "name": "stdout",
          "text": [
            "conv2d_18 (3, 3, 5, 16)\n"
          ]
        },
        {
          "output_type": "display_data",
          "data": {
            "text/plain": [
              "<Figure size 1440x360 with 6 Axes>"
            ],
            "image/png": "[encoded data removed]"
          },
          "metadata": {
            "needs_background": "light"
          }
        }
      ]
    }
  ]
}