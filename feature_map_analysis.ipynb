{
  "nbformat": 4,
  "nbformat_minor": 0,
  "metadata": {
    "colab": {
      "name": "feature_map_analysis",
      "provenance": [],
      "collapsed_sections": [],
      "authorship_tag": "ABX9TyPeZxqSp4VlhPyPeYdMhAdO",
      "include_colab_link": true
    },
    "kernelspec": {
      "name": "python3",
      "display_name": "Python 3"
    },
    "language_info": {
      "name": "python"
    }
  },
  "cells": [
    {
      "cell_type": "markdown",
      "metadata": {
        "id": "view-in-github",
        "colab_type": "text"
      },
      "source": [
        "<a href=\"https://colab.research.google.com/github/axelpuyo/liasd/blob/working/feature_map_analysis.ipynb\" target=\"_parent\"><img src=\"https://colab.research.google.com/assets/colab-badge.svg\" alt=\"Open In Colab\"/></a>"
      ]
    },
    {
      "cell_type": "code",
      "source": [
        "clear all"
      ],
      "metadata": {
        "colab": {
          "base_uri": "https://localhost:8080/"
        },
        "id": "eDfLhVBcclEO",
        "outputId": "ba61d8ae-05b4-430b-e7ee-d7500ded99b1"
      },
      "execution_count": 167,
      "outputs": [
        {
          "output_type": "stream",
          "name": "stdout",
          "text": [
            "\u001b[H\u001b[2J"
          ]
        }
      ]
    },
    {
      "cell_type": "code",
      "execution_count": 168,
      "metadata": {
        "id": "MZ2BeWvGXvJL"
      },
      "outputs": [],
      "source": [
        "## IMPORTS.\n",
        "import os\n",
        "import numpy as np\n",
        "import pandas as pd\n",
        "%matplotlib inline\n",
        "from tensorflow import keras\n",
        "from tensorflow.keras import layers"
      ]
    },
    {
      "cell_type": "code",
      "source": [
        "## MODEL PARAMETERS (STATIC).\n",
        "n_dense1 = 1000\n",
        "n_dense2 = 1000"
      ],
      "metadata": {
        "id": "y8JYwzroYtTX"
      },
      "execution_count": 169,
      "outputs": []
    },
    {
      "cell_type": "code",
      "source": [
        "## PREPROCESSING\n",
        "(x_train, y_train), (x_test, y_test) = keras.datasets.cifar10.load_data()\n",
        "\n",
        "# Scale images to the [0, 1] range\n",
        "x_train = x_train.astype(\"float32\") / 255\n",
        "x_test = x_test.astype(\"float32\") / 255\n",
        "\n",
        "# Make sure images have shape (28, 28, 1)\n",
        "if x_train.ndim < 4:\n",
        "  x_train = np.expand_dims(x_train, -1)\n",
        "  x_test = np.expand_dims(x_test, -1)\n",
        "\n",
        "# Make sure train/test split is representative.\n",
        "print(x_train.shape, \"input shape\")\n",
        "print(x_train.shape[0], \"train samples\")\n",
        "print(x_test.shape[0], \"test samples\")\n",
        "\n",
        "values, counts = np.unique(y_train, return_counts = True)\n",
        "print('----training----')\n",
        "print('labels : counts')\n",
        "print('---------------')\n",
        "for i in range(len(values)):\n",
        "    print(' ', values[i], '   : ', counts[i])\n",
        "\n",
        "values, counts = np.unique(y_test, return_counts = True)\n",
        "print('----testing----')\n",
        "print('labels : counts')\n",
        "print('---------------')\n",
        "for i in range(len(values)):\n",
        "    print(' ', values[i], '   : ', counts[i])\n",
        "\n",
        "num_classes = len(counts)\n",
        "\n",
        "# Convert class vectors to binary class matrices\n",
        "y_train = keras.utils.to_categorical(y_train, num_classes)\n",
        "y_test = keras.utils.to_categorical(y_test, num_classes)"
      ],
      "metadata": {
        "colab": {
          "base_uri": "https://localhost:8080/"
        },
        "id": "TqfSXnmOX5Xa",
        "outputId": "4fef7f67-5750-4ae9-c062-298a73d76fa1"
      },
      "execution_count": 170,
      "outputs": [
        {
          "output_type": "stream",
          "name": "stdout",
          "text": [
            "(50000, 32, 32, 3) input shape\n",
            "50000 train samples\n",
            "10000 test samples\n",
            "----training----\n",
            "labels : counts\n",
            "---------------\n",
            "  0    :  5000\n",
            "  1    :  5000\n",
            "  2    :  5000\n",
            "  3    :  5000\n",
            "  4    :  5000\n",
            "  5    :  5000\n",
            "  6    :  5000\n",
            "  7    :  5000\n",
            "  8    :  5000\n",
            "  9    :  5000\n",
            "----testing----\n",
            "labels : counts\n",
            "---------------\n",
            "  0    :  1000\n",
            "  1    :  1000\n",
            "  2    :  1000\n",
            "  3    :  1000\n",
            "  4    :  1000\n",
            "  5    :  1000\n",
            "  6    :  1000\n",
            "  7    :  1000\n",
            "  8    :  1000\n",
            "  9    :  1000\n"
          ]
        }
      ]
    },
    {
      "cell_type": "code",
      "source": [
        "## MODEL BUILD\n",
        "model = keras.Sequential(\n",
        "    [\n",
        "        keras.Input(shape=x_train[0].shape),\n",
        "        layers.Conv2D(5, kernel_size=(3, 3), activation=\"relu\"),\n",
        "        layers.MaxPooling2D(pool_size=(2, 2)),\n",
        "        layers.Conv2D(16, kernel_size=(3, 3), activation=\"relu\"),\n",
        "        layers.MaxPooling2D(pool_size=(2, 2)),\n",
        "        layers.Flatten(),\n",
        "        layers.Dense(num_classes, activation=\"softmax\"),\n",
        "    ]\n",
        ")\n",
        "\n",
        "model.summary()\n"
      ],
      "metadata": {
        "colab": {
          "base_uri": "https://localhost:8080/"
        },
        "id": "TUee9P9lcPIm",
        "outputId": "90ebfc05-995b-490e-fba1-2a31f7cb7aaa"
      },
      "execution_count": 171,
      "outputs": [
        {
          "output_type": "stream",
          "name": "stdout",
          "text": [
            "Model: \"sequential_11\"\n",
            "_________________________________________________________________\n",
            " Layer (type)                Output Shape              Param #   \n",
            "=================================================================\n",
            " conv2d_21 (Conv2D)          (None, 30, 30, 5)         140       \n",
            "                                                                 \n",
            " max_pooling2d_21 (MaxPoolin  (None, 15, 15, 5)        0         \n",
            " g2D)                                                            \n",
            "                                                                 \n",
            " conv2d_22 (Conv2D)          (None, 13, 13, 16)        736       \n",
            "                                                                 \n",
            " max_pooling2d_22 (MaxPoolin  (None, 6, 6, 16)         0         \n",
            " g2D)                                                            \n",
            "                                                                 \n",
            " flatten_11 (Flatten)        (None, 576)               0         \n",
            "                                                                 \n",
            " dense_11 (Dense)            (None, 10)                5770      \n",
            "                                                                 \n",
            "=================================================================\n",
            "Total params: 6,646\n",
            "Trainable params: 6,646\n",
            "Non-trainable params: 0\n",
            "_________________________________________________________________\n"
          ]
        }
      ]
    },
    {
      "cell_type": "code",
      "source": [
        "## HYPER-PARAMETERS.\n",
        "batch_size = 128\n",
        "epochs = 15"
      ],
      "metadata": {
        "id": "r2lknQYjYrFv"
      },
      "execution_count": 172,
      "outputs": []
    },
    {
      "cell_type": "code",
      "source": [
        "## OPTIMIZER AND LOSS.\n",
        "model.compile(loss='categorical_crossentropy', optimizer='adam', metrics=['accuracy'])"
      ],
      "metadata": {
        "id": "HQ3Eburbc5Js"
      },
      "execution_count": 173,
      "outputs": []
    },
    {
      "cell_type": "code",
      "source": [
        "## MODEL TRAINING.\n",
        "model.fit(x_train, y_train, batch_size=batch_size, epochs=epochs, verbose=True, callbacks=None, validation_split=0.8)"
      ],
      "metadata": {
        "colab": {
          "base_uri": "https://localhost:8080/"
        },
        "id": "SbiONWjsdDHL",
        "outputId": "35f7f643-b0e8-4ac0-885a-3457c0207753"
      },
      "execution_count": 174,
      "outputs": [
        {
          "output_type": "stream",
          "name": "stdout",
          "text": [
            "Epoch 1/15\n",
            "79/79 [==============================] - 15s 189ms/step - loss: 2.2236 - accuracy: 0.1697 - val_loss: 2.0486 - val_accuracy: 0.2803\n",
            "Epoch 2/15\n",
            "79/79 [==============================] - 12s 157ms/step - loss: 1.9170 - accuracy: 0.3195 - val_loss: 1.8408 - val_accuracy: 0.3456\n",
            "Epoch 3/15\n",
            "79/79 [==============================] - 13s 160ms/step - loss: 1.7874 - accuracy: 0.3741 - val_loss: 1.7683 - val_accuracy: 0.3632\n",
            "Epoch 4/15\n",
            "79/79 [==============================] - 13s 160ms/step - loss: 1.7114 - accuracy: 0.3934 - val_loss: 1.7148 - val_accuracy: 0.3923\n",
            "Epoch 5/15\n",
            "79/79 [==============================] - 13s 165ms/step - loss: 1.6598 - accuracy: 0.4073 - val_loss: 1.6625 - val_accuracy: 0.4075\n",
            "Epoch 6/15\n",
            "79/79 [==============================] - 12s 157ms/step - loss: 1.6218 - accuracy: 0.4236 - val_loss: 1.6713 - val_accuracy: 0.4074\n",
            "Epoch 7/15\n",
            "79/79 [==============================] - 12s 157ms/step - loss: 1.5895 - accuracy: 0.4367 - val_loss: 1.6192 - val_accuracy: 0.4236\n",
            "Epoch 8/15\n",
            "79/79 [==============================] - 12s 156ms/step - loss: 1.5672 - accuracy: 0.4423 - val_loss: 1.6159 - val_accuracy: 0.4271\n",
            "Epoch 9/15\n",
            "79/79 [==============================] - 12s 157ms/step - loss: 1.5418 - accuracy: 0.4604 - val_loss: 1.5858 - val_accuracy: 0.4372\n",
            "Epoch 10/15\n",
            "79/79 [==============================] - 12s 157ms/step - loss: 1.5289 - accuracy: 0.4626 - val_loss: 1.5711 - val_accuracy: 0.4437\n",
            "Epoch 11/15\n",
            "79/79 [==============================] - 12s 157ms/step - loss: 1.5043 - accuracy: 0.4697 - val_loss: 1.5903 - val_accuracy: 0.4265\n",
            "Epoch 12/15\n",
            "79/79 [==============================] - 12s 158ms/step - loss: 1.4891 - accuracy: 0.4771 - val_loss: 1.5531 - val_accuracy: 0.4499\n",
            "Epoch 13/15\n",
            "79/79 [==============================] - 12s 157ms/step - loss: 1.4662 - accuracy: 0.4858 - val_loss: 1.5382 - val_accuracy: 0.4553\n",
            "Epoch 14/15\n",
            "79/79 [==============================] - 12s 157ms/step - loss: 1.4534 - accuracy: 0.4900 - val_loss: 1.5320 - val_accuracy: 0.4572\n",
            "Epoch 15/15\n",
            "79/79 [==============================] - 12s 157ms/step - loss: 1.4350 - accuracy: 0.4979 - val_loss: 1.5256 - val_accuracy: 0.4605\n"
          ]
        },
        {
          "output_type": "execute_result",
          "data": {
            "text/plain": [
              "<keras.callbacks.History at 0x7f088928d7d0>"
            ]
          },
          "metadata": {},
          "execution_count": 174
        }
      ]
    },
    {
      "cell_type": "code",
      "source": [
        "## SAVE TRAINED MODEL.\n",
        "from google.colab import drive\n",
        "drive.mount('/content/gdrive')\n",
        "work_dir = f'/content/gdrive/My Drive/Colab Notebooks/Data'\n",
        "model.save(work_dir)"
      ],
      "metadata": {
        "colab": {
          "base_uri": "https://localhost:8080/"
        },
        "id": "jbWXzUZPdj0Q",
        "outputId": "2420d700-7fb4-41c8-f7e3-8c2942092e2a"
      },
      "execution_count": 175,
      "outputs": [
        {
          "output_type": "stream",
          "name": "stdout",
          "text": [
            "Drive already mounted at /content/gdrive; to attempt to forcibly remount, call drive.mount(\"/content/gdrive\", force_remount=True).\n",
            "INFO:tensorflow:Assets written to: /content/gdrive/My Drive/Colab Notebooks/Data/assets\n"
          ]
        }
      ]
    },
    {
      "cell_type": "code",
      "source": [
        "## FEATURE MAPS VISUALIZATION.\n",
        "from keras.models import Model\n",
        "# Construction of basic image, to see what happens to it at every stage of the model.\n",
        "im = np.zeros(x_train[0].shape)\n",
        "c = int(np.floor(x_train[0].shape[1] / 2))\n",
        "im[:, c, 1] = 1 # Je lui donne une barre verte.\n",
        "if im.ndim < 4:\n",
        "  im = np.expand_dims(im, axis=0)\n",
        "\n",
        "# plt.imshow(np.squeeze(im[..., -1]), cmap='gray', aspect='auto')\n",
        "# plt.colorbar()\n",
        "# plt.show()\n",
        "\n",
        "for i in range(len(model.layers)):\n",
        "  if 'conv' not in model.layers[i].name:\n",
        "    continue\n",
        "  model2 = Model(inputs=model.inputs, outputs=model.layers[i].output)\n",
        "\n",
        "  kernels, biases = model.layers[i].get_weights()\n",
        "  k_min, k_max = kernels.min(), kernels.max()\n",
        "  kernels = (kernels - k_min) / (k_max - k_min)\n",
        "  feature_map = model2.predict(im)\n",
        "\n",
        "  f_map = np.squeeze(feature_map[..., 0])\n",
        "  kernel = np.squeeze(kernels[..., 0, 0]) # Ce zéro est suspect, on ne sait pas si ce feature map vient forcément du 1er input du convolutional layer d'avant.\n",
        "\n",
        "  print(model.layers[i].name, kernels.shape)\n",
        "  plt.figure(figsize=(20,5))\n",
        "  plt.subplot(131)\n",
        "  plt.imshow(np.squeeze(im), aspect='auto')\n",
        "  plt.colorbar()\n",
        "  plt.subplot(132)\n",
        "  plt.imshow(kernel, aspect='auto')\n",
        "  plt.colorbar()\n",
        "  plt.subplot(133)\n",
        "  plt.imshow(f_map, aspect='auto')\n",
        "  plt.colorbar()\n",
        "  plt.show()\n",
        "  ## Visualize all feature maps and corresponding filters.\n",
        "  # num_maps = feature_map.shape[-1]\n",
        "  # rows = int(np.floor(np.sqrt(num_maps)))\n",
        "  \n",
        "  # idx = 1\n",
        "  # plt.figure(figsize=(16, 10))\n",
        "  # print(model.layers[i].name, kernels.shape)\n",
        "  # for j in range(num_maps):\n",
        "  #   print(num_maps, idx, rows*2*rows)\n",
        "  #   f_map = np.squeeze(feature_map[..., j])\n",
        "  #   kernel = np.squeeze(kernels[..., 0, j]) # Ce zéro est suspect : revoir les shape des kernels.\n",
        "\n",
        "  #   plt.subplot(rows, 2*rows, idx)\n",
        "  #   plt.imshow(kernel, cmap='gray', aspect='auto')\n",
        "  #   plt.colorbar()\n",
        "  #   plt.subplot(rows, 2*rows, idx + 1)\n",
        "  #   plt.imshow(f_map, cmap='gray', aspect='auto')\n",
        "  #   plt.colorbar()\n",
        "\n",
        "  #   idx += 1\n",
        "  # plt.show()\n",
        "  "
      ],
      "metadata": {
        "colab": {
          "base_uri": "https://localhost:8080/",
          "height": 642
        },
        "id": "gzddIwowl4an",
        "outputId": "850526e3-1383-4cce-9f94-e8122b8f157d"
      },
      "execution_count": 181,
      "outputs": [
        {
          "output_type": "stream",
          "name": "stdout",
          "text": [
            "conv2d_21 (3, 3, 3, 5)\n"
          ]
        },
        {
          "output_type": "display_data",
          "data": {
            "text/plain": [
              "<Figure size 1440x360 with 6 Axes>"
            ],
            "image/png": "[encoded data removed]"
          },
          "metadata": {
            "needs_background": "light"
          }
        },
        {
          "output_type": "stream",
          "name": "stdout",
          "text": [
            "conv2d_22 (3, 3, 5, 16)\n"
          ]
        },
        {
          "output_type": "display_data",
          "data": {
            "text/plain": [
              "<Figure size 1440x360 with 6 Axes>"
            ],
            "image/png": "[encoded data removed]"
          },
          "metadata": {
            "needs_background": "light"
          }
        }
      ]
    }
  ]
}