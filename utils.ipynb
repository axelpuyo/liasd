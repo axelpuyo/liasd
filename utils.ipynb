{
  "nbformat": 4,
  "nbformat_minor": 0,
  "metadata": {
    "colab": {
      "provenance": [],
      "collapsed_sections": [],
      "authorship_tag": "ABX9TyOtjT/UhX5BCywmCdVhIre0",
      "include_colab_link": true
    },
    "kernelspec": {
      "name": "python3",
      "display_name": "Python 3"
    },
    "language_info": {
      "name": "python"
    }
  },
  "cells": [
    {
      "cell_type": "markdown",
      "metadata": {
        "id": "view-in-github",
        "colab_type": "text"
      },
      "source": [
        "<a href=\"https://colab.research.google.com/github/axelpuyo/liasd/blob/master/utils.ipynb\" target=\"_parent\"><img src=\"https://colab.research.google.com/assets/colab-badge.svg\" alt=\"Open In Colab\"/></a>"
      ]
    },
    {
      "cell_type": "markdown",
      "source": [
        "# Imports\n",
        "\n",
        "\n"
      ],
      "metadata": {
        "id": "w8Gt84TJJDZD"
      }
    },
    {
      "cell_type": "code",
      "source": [
        "import os\n",
        "import numpy as np\n",
        "import matplotlib.pyplot as plt"
      ],
      "metadata": {
        "colab": {
          "base_uri": "https://localhost:8080/"
        },
        "id": "xMJOHfQO9v3k",
        "outputId": "d3adbd9d-9799-4d15-8861-9b7fb5b6a656"
      },
      "execution_count": null,
      "outputs": [
        {
          "output_type": "stream",
          "name": "stdout",
          "text": [
            "Mounted at /content/drive\n"
          ]
        }
      ]
    },
    {
      "cell_type": "markdown",
      "source": [
        "# Utilitary functions"
      ],
      "metadata": {
        "id": "Nye9h8jgJGPp"
      }
    },
    {
      "cell_type": "code",
      "execution_count": null,
      "metadata": {
        "id": "HSl8prVP9WkB"
      },
      "outputs": [],
      "source": [
        "def uncategoric(label):\n",
        "  'Inverse function of keras.utils.to_categorical() : returns the name and value of a one-hot label vector.'\n",
        "  names = np.array(['0', '1', '2', '3', '4', '5', '6', '7', '8', '9', 'r', 'g', 'b'])\n",
        "  if isinstance(label, np.floating):\n",
        "    index = label\n",
        "  else:\n",
        "    index = np.argmax(label)\n",
        "\n",
        "  name, value = names[int(index)], int(index)\n",
        "  return name, value"
      ]
    },
    {
      "cell_type": "code",
      "source": [
        "def to_uncategoric(labels):\n",
        "  uncategoric_labels = np.zeros(labels.shape[0])\n",
        "  for i in range(labels.shape[0]):\n",
        "    uncategoric_labels[i] = uncategoric(labels[i])[1]\n",
        "    \n",
        "  return uncategoric_labels"
      ],
      "metadata": {
        "id": "mLOmhFmB4t7S"
      },
      "execution_count": null,
      "outputs": []
    },
    {
      "cell_type": "code",
      "source": [
        "def image_plots(label, image, heatmap):\n",
        "  'Utilitary function for automatically plotting side-to-side an image and its heatmap provided by a certain XAI CAM technique.'\n",
        "  plt.subplot(1, 2, 1)\n",
        "  plt.title('label = {}'.format(uncategoric(label)[0]))\n",
        "  plt.imshow(image)\n",
        "  plt.axis('off')\n",
        "  # plot the heatmap\n",
        "  plt.subplot(1, 2, 2)\n",
        "  plt.title('gradcam')\n",
        "  plt.imshow(heatmap, cmap='hot')\n",
        "  plt.axis('off')\n",
        "  \n",
        "  # plt.colorbar()\n",
        "  plt.show()\n",
        "  return None"
      ],
      "metadata": {
        "id": "McRNV60F24Js"
      },
      "execution_count": null,
      "outputs": []
    },
    {
      "cell_type": "code",
      "source": [
        "def pathfinder(tf1, level, model_type, bools=(False, False)):\n",
        "  'Utilitary function for automatically saving and fetching models in a given directory structure.'\n",
        "  flag = 1\n",
        "  path = os.getcwd() + '/saved_models/'\n",
        "  # check TensorFlow version\n",
        "  if tf1:\n",
        "    path += 'tf1/'\n",
        "  else:\n",
        "    path+= 'tf2/'\n",
        "\n",
        "  # check colored-mnist version\n",
        "  (background, noise) = bools\n",
        "  if any(bools):\n",
        "    path += 'digit/'\n",
        "    flag = 0\n",
        "  if background:\n",
        "    path += 'background/'\n",
        "  if noise:\n",
        "    path += 'noise/'\n",
        "\n",
        "  # check model type\n",
        "  if model_type == 'rule':\n",
        "    path += 'rule_biased'\n",
        "  elif model_type == 'shape':\n",
        "    path += 'shape_biased'\n",
        "  else:\n",
        "    path += 'color_biased'\n",
        "  \n",
        "  # check noise level\n",
        "  if flag:\n",
        "    path += str(level)\n",
        "  \n",
        "  return path"
      ],
      "metadata": {
        "id": "MtFTVH0fKYXj",
        "colab": {
          "base_uri": "https://localhost:8080/",
          "height": 130
        },
        "outputId": "b84e3522-e24b-4bf0-d6c6-7844b4d9841a"
      },
      "execution_count": null,
      "outputs": [
        {
          "output_type": "error",
          "ename": "SyntaxError",
          "evalue": "ignored",
          "traceback": [
            "\u001b[0;36m  File \u001b[0;32m\"<ipython-input-1-e35f3ab34e6a>\"\u001b[0;36m, line \u001b[0;32m25\u001b[0m\n\u001b[0;31m    path += str(level) if not level\u001b[0m\n\u001b[0m                                   ^\u001b[0m\n\u001b[0;31mSyntaxError\u001b[0m\u001b[0;31m:\u001b[0m invalid syntax\n"
          ]
        }
      ]
    }
  ]
}