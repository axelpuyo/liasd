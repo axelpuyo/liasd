{
  "nbformat": 4,
  "nbformat_minor": 0,
  "metadata": {
    "colab": {
      "name": "utils.ipynb",
      "provenance": [],
      "collapsed_sections": [],
      "authorship_tag": "ABX9TyP/syjfCykVr591vTgvHNMa",
      "include_colab_link": true
    },
    "kernelspec": {
      "name": "python3",
      "display_name": "Python 3"
    },
    "language_info": {
      "name": "python"
    }
  },
  "cells": [
    {
      "cell_type": "markdown",
      "metadata": {
        "id": "view-in-github",
        "colab_type": "text"
      },
      "source": [
        "<a href=\"https://colab.research.google.com/github/axelpuyo/liasd/blob/master/utils.ipynb\" target=\"_parent\"><img src=\"https://colab.research.google.com/assets/colab-badge.svg\" alt=\"Open In Colab\"/></a>"
      ]
    },
    {
      "cell_type": "code",
      "source": [
        "import numpy as np\n",
        "import matplotlib.pyplot as plt"
      ],
      "metadata": {
        "colab": {
          "base_uri": "https://localhost:8080/"
        },
        "id": "xMJOHfQO9v3k",
        "outputId": "d3adbd9d-9799-4d15-8861-9b7fb5b6a656"
      },
      "execution_count": null,
      "outputs": [
        {
          "output_type": "stream",
          "name": "stdout",
          "text": [
            "Mounted at /content/drive\n"
          ]
        }
      ]
    },
    {
      "cell_type": "code",
      "execution_count": null,
      "metadata": {
        "id": "HSl8prVP9WkB"
      },
      "outputs": [],
      "source": [
        "def uncategoric(lab):\n",
        "  names = np.array(['0', '1', '2', '3', '4', '5', '6', '7', '8', '9', 'r', 'g', 'b'])\n",
        "  numbers = np.array([i for i in range(13)])\n",
        "  idx = (lab == 1)\n",
        "  return str(names[idx == True]), int(numbers[idx == True])"
      ]
    },
    {
      "cell_type": "code",
      "source": [
        "def image_plots(label, image, heatmap):\n",
        "  plt.subplot(1, 2, 1)\n",
        "  plt.title('label = {}'.format(str(uncategoric(label)[0])))\n",
        "  plt.imshow(image)\n",
        "  plt.axis('off')\n",
        "  # plot the heatmap\n",
        "  plt.subplot(1, 2, 2)\n",
        "  plt.title('gradcam')\n",
        "  plt.imshow(heatmap, cmap='hot')\n",
        "  plt.axis('off')\n",
        "\n",
        "  plt.show()\n",
        "  return None"
      ],
      "metadata": {
        "id": "McRNV60F24Js"
      },
      "execution_count": null,
      "outputs": []
    }
  ]
}