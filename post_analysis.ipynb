{
  "cells": [
    {
      "cell_type": "markdown",
      "metadata": {
        "id": "view-in-github",
        "colab_type": "text"
      },
      "source": [
        "<a href=\"https://colab.research.google.com/github/axelpuyo/liasd/blob/master/post_analysis.ipynb\" target=\"_parent\"><img src=\"https://colab.research.google.com/assets/colab-badge.svg\" alt=\"Open In Colab\"/></a>"
      ]
    },
    {
      "cell_type": "markdown",
      "source": [
        "# Imports"
      ],
      "metadata": {
        "id": "2YMWqDG1JNkm"
      }
    },
    {
      "cell_type": "code",
      "execution_count": null,
      "metadata": {
        "colab": {
          "base_uri": "https://localhost:8080/"
        },
        "id": "jcmbMotr2mhH",
        "outputId": "20b5dbd4-d904-4c14-922b-b5fb92f34ded"
      },
      "outputs": [
        {
          "output_type": "stream",
          "name": "stdout",
          "text": [
            "Drive already mounted at /content/drive; to attempt to forcibly remount, call drive.mount(\"/content/drive\", force_remount=True).\n",
            "/content\n",
            "['.config', 'drive', 'sample_data']\n",
            "/content/drive/MyDrive/Colab Notebooks/liasd\n"
          ]
        }
      ],
      "source": [
        "## Run once\n",
        "!pip -q install import-ipynb\n",
        "\n",
        "from google.colab import drive\n",
        "drive.mount('/content/drive')\n",
        "\n",
        "import os\n",
        "print(os.getcwd())\n",
        "print(os.listdir())\n",
        "\n",
        "#%cd your_path/Colab Notebooks\n",
        "%cd drive/MyDrive/Colab Notebooks/liasd"
      ]
    },
    {
      "cell_type": "code",
      "execution_count": null,
      "metadata": {
        "id": "2rcusxVW2spA",
        "colab": {
          "base_uri": "https://localhost:8080/"
        },
        "outputId": "403666c0-0f4e-482a-fb8e-5f0a78de5ed9"
      },
      "outputs": [
        {
          "output_type": "stream",
          "name": "stdout",
          "text": [
            "importing Jupyter notebook from utils.ipynb\n",
            "importing Jupyter notebook from explainers.ipynb\n",
            "importing Jupyter notebook from colored_mnist.ipynb\n"
          ]
        }
      ],
      "source": [
        "import import_ipynb\n",
        "import utils\n",
        "import explainers\n",
        "import colored_mnist\n",
        "\n",
        "import numpy as np\n",
        "import random as rd\n",
        "import tensorflow as tf\n",
        "import tensorflow.keras as keras\n",
        "import matplotlib.pyplot as plt"
      ]
    },
    {
      "cell_type": "markdown",
      "source": [
        "# Parameters\n"
      ],
      "metadata": {
        "id": "_aiyK5hiJSJT"
      }
    },
    {
      "cell_type": "code",
      "execution_count": null,
      "metadata": {
        "id": "013JrxGDJd8S"
      },
      "outputs": [],
      "source": [
        "## Parameters\n",
        "# General\n",
        "tf1 = False # TensorFlow version\n",
        "explainer = 'cam' # which explainer is to be used: 'cam' = Grad-CAM, 'rise' = RISE, 'shap' = SHAP\n",
        "model_type = 'rule' # which labels the model was trained on in order to fetch the correct labels\n",
        "\n",
        "# Noise level\n",
        "level = 0"
      ]
    },
    {
      "cell_type": "code",
      "source": [
        "def find_index(target, labels):\n",
        "  'Returns the positions of the labels which correspond to a target. Ex: find_index(4, train_color) returns the index of all labels = 4 in train_color labels.'\n",
        "  \n",
        "  uncategoric_labels = utils.to_uncategoric(labels)\n",
        "  indexes = np.where(uncategoric_labels == target)[0]\n",
        "  return indexes"
      ],
      "metadata": {
        "id": "MRPpd6RuQeDC"
      },
      "execution_count": null,
      "outputs": []
    },
    {
      "cell_type": "code",
      "source": [
        "## Fetch dataset\n",
        "# Load data\n",
        "mnist_type = 'noisy'\n",
        "(train_ims, test_ims, val_ims), (train_color, test_color, val_color), (train_shape, test_shape, val_shape), (train_rule, test_rule, val_rule) = colored_mnist.load_data(8000, mnist_type=mnist_type, noise_level=level, plot=True, regularity_check=True)\n",
        "\n",
        "# Fetch test_labels and number of unique elements within those labels\n",
        "if model_type == 'rule':\n",
        "  num_labels = 11\n",
        "  test_labels = test_rule\n",
        "elif model_type == 'shape':\n",
        "  num_labels = 10\n",
        "  test_labels = test_shape\n",
        "else:\n",
        "  num_labels = 3\n",
        "  test_labels = test_color"
      ],
      "metadata": {
        "colab": {
          "base_uri": "https://localhost:8080/",
          "height": 339
        },
        "id": "iRXIIe44M3AM",
        "outputId": "cf0d8418-df75-4597-c1db-ff24aa568c8b"
      },
      "execution_count": null,
      "outputs": [
        {
          "output_type": "stream",
          "name": "stdout",
          "text": [
            ">> checking dataset regularity\n",
            "label r / counts 425\n",
            "label 9 / counts 517\n",
            "label 8 / counts 488\n",
            "label 7 / counts 580\n",
            "label 6 / counts 515\n",
            "label 5 / counts 447\n",
            "label 4 / counts 547\n",
            "label 3 / counts 513\n",
            "label 2 / counts 507\n",
            "label 1 / counts 560\n",
            "label 0 / counts 501\n"
          ]
        },
        {
          "output_type": "display_data",
          "data": {
            "text/plain": [
              "<Figure size 432x288 with 5 Axes>"
            ],
            "image/png": "[encoded data removed]"
          },
          "metadata": {
            "needs_background": "light"
          }
        }
      ]
    },
    {
      "cell_type": "markdown",
      "source": [
        "# Deep Explainer Analysis of Feature Maps"
      ],
      "metadata": {
        "id": "2Y-WxnSRWKJN"
      }
    },
    {
      "cell_type": "code",
      "execution_count": null,
      "metadata": {
        "id": "Pi1CwxYW3fxU",
        "colab": {
          "base_uri": "https://localhost:8080/",
          "height": 397
        },
        "outputId": "e2fc7dac-30dd-4f1f-d7de-83b0d310d9fd"
      },
      "outputs": [
        {
          "output_type": "error",
          "ename": "ValueError",
          "evalue": "ignored",
          "traceback": [
            "\u001b[0;31m---------------------------------------------------------------------------\u001b[0m",
            "\u001b[0;31mValueError\u001b[0m                                Traceback (most recent call last)",
            "\u001b[0;32m<ipython-input-6-178e91c922b4>\u001b[0m in \u001b[0;36m<module>\u001b[0;34m\u001b[0m\n\u001b[1;32m     19\u001b[0m \u001b[0;34m\u001b[0m\u001b[0m\n\u001b[1;32m     20\u001b[0m     \u001b[0;32mif\u001b[0m \u001b[0mexplainer\u001b[0m \u001b[0;34m==\u001b[0m \u001b[0;34m'cam'\u001b[0m\u001b[0;34m:\u001b[0m\u001b[0;34m\u001b[0m\u001b[0;34m\u001b[0m\u001b[0m\n\u001b[0;32m---> 21\u001b[0;31m       \u001b[0mheatmap\u001b[0m\u001b[0;34m,\u001b[0m \u001b[0m_\u001b[0m \u001b[0;34m=\u001b[0m \u001b[0mexplainers\u001b[0m\u001b[0;34m.\u001b[0m\u001b[0mgradcam\u001b[0m\u001b[0;34m(\u001b[0m\u001b[0mmodel\u001b[0m\u001b[0;34m,\u001b[0m \u001b[0;34m'conv2'\u001b[0m\u001b[0;34m,\u001b[0m \u001b[0mimg\u001b[0m\u001b[0;34m,\u001b[0m \u001b[0mlab\u001b[0m\u001b[0;34m)\u001b[0m\u001b[0;34m\u001b[0m\u001b[0;34m\u001b[0m\u001b[0m\n\u001b[0m\u001b[1;32m     22\u001b[0m \u001b[0;34m\u001b[0m\u001b[0m\n\u001b[1;32m     23\u001b[0m     \u001b[0;32melif\u001b[0m \u001b[0mexplainer\u001b[0m \u001b[0;34m==\u001b[0m \u001b[0;34m'rise'\u001b[0m\u001b[0;34m:\u001b[0m\u001b[0;34m\u001b[0m\u001b[0;34m\u001b[0m\u001b[0m\n",
            "\u001b[0;32m/content/drive/MyDrive/Colab Notebooks/liasd/explainers.ipynb\u001b[0m in \u001b[0;36mgradcam\u001b[0;34m(model, layer_name, image, label, pred_index, plots, verbose)\u001b[0m\n",
            "\u001b[0;32m/usr/local/lib/python3.7/dist-packages/keras/engine/training.py\u001b[0m in \u001b[0;36mget_layer\u001b[0;34m(self, name, index)\u001b[0m\n\u001b[1;32m   2826\u001b[0m         \u001b[0;32mif\u001b[0m \u001b[0mlayer\u001b[0m\u001b[0;34m.\u001b[0m\u001b[0mname\u001b[0m \u001b[0;34m==\u001b[0m \u001b[0mname\u001b[0m\u001b[0;34m:\u001b[0m\u001b[0;34m\u001b[0m\u001b[0;34m\u001b[0m\u001b[0m\n\u001b[1;32m   2827\u001b[0m           \u001b[0;32mreturn\u001b[0m \u001b[0mlayer\u001b[0m\u001b[0;34m\u001b[0m\u001b[0;34m\u001b[0m\u001b[0m\n\u001b[0;32m-> 2828\u001b[0;31m       raise ValueError(f'No such layer: {name}. Existing layers are: '\n\u001b[0m\u001b[1;32m   2829\u001b[0m                        f'{list(layer.name for layer in self.layers)}.')\n\u001b[1;32m   2830\u001b[0m     raise ValueError('Provide either a layer name or layer index at '\n",
            "\u001b[0;31mValueError\u001b[0m: No such layer: conv2. Existing layers are: ['conv2d_13', 'conv2d_14', 'max_pooling2d_5', 'conv2d_15', 'conv2d_16', 'max_pooling2d_6', 'conv2d_17', 'conv2d_18', 'conv2d_19', 'max_pooling2d_7', 'conv2d_20', 'conv2d_21', 'conv2d_22', 'max_pooling2d_8', 'conv2d_23', 'conv2d_24', 'conv2d_25', 'max_pooling2d_9', 'flatten_7', 'dense_9', 'dense_10', 'dense_11']."
          ]
        }
      ],
      "source": [
        "# Deep Explainers\n",
        "if __name__ == '__main__':\n",
        "  path = utils.pathfinder(tf1, level, model_type)\n",
        "  model = keras.models.load_model(path)\n",
        "  \n",
        "  if explainer == 'shap': # works great\n",
        "    # Switch to TensorFlow 1.x behavior (SHAP doesn't work with TF 2.x)\n",
        "    tf.compat.v1.disable_v2_behavior()\n",
        "    tf.compat.v1.disable_eager_execution()\n",
        "    # Load model that was trained in TF 1.x. (non-eager mode)\n",
        "    model = keras.models.load_model(path)\n",
        "\n",
        "    vals, imgs = explainers.shap(model, test_ims, test_labels, 100, num_labels)\n",
        "\n",
        "  else:\n",
        "    # Pick a random image from test set to analyze\n",
        "    idx = np.random.randint(0, test_labels.shape[0])\n",
        "    img, lab = test_ims[idx], test_labels[idx]\n",
        "      \n",
        "    if explainer == 'cam':\n",
        "      heatmap, _ = explainers.gradcam(model, 'conv2', img, lab)\n",
        "      \n",
        "    elif explainer == 'rise':\n",
        "      # Parameters : num = number of masks, proba = percentage of occlusion\n",
        "      num = 500\n",
        "      proba = 3/4\n",
        "      heatmap = explainers.rise(model, img, lab, num, proba)\n",
        "    \n",
        "    else:\n",
        "      pass"
      ]
    },
    {
      "cell_type": "markdown",
      "source": [
        "# Until here"
      ],
      "metadata": {
        "id": "3biuPp6TcyYv"
      }
    },
    {
      "cell_type": "code",
      "source": [
        "# This piece of code plots 3 Grad-CAM heatmaps of every unique label in test_labels, next to their original image. \n",
        "uncategoric_labels = utils.to_uncategoric(test_labels)\n",
        "\n",
        "vals, counts = np.unique(uncategoric_labels, return_counts=True)\n",
        "labels = list(np.flip(vals))\n",
        "\n",
        "counter = 1\n",
        "num_reps = 3\n",
        "plt.figure(figsize=(10*num_labels, num_labels))\n",
        "while labels:\n",
        "  for label in np.flip(labels):\n",
        "    print('Label', label, end='\\n')\n",
        "\n",
        "    reps = 0\n",
        "    indexes = np.where(uncategoric_labels == label)[0]\n",
        "\n",
        "    for (num, index) in enumerate(indexes):\n",
        "      print(f'\\r({reps + 1}/{num_reps}) reps - {round(100*num/indexes.shape[0], 1)}%', end='')\n",
        "\n",
        "      heatmap, acc = explainers.gradcam(model, 'conv2', test_ims[index], test_labels[index], plots=False, verbose=False)\n",
        "      constant_condition = np.all(heatmap == heatmap[0])\n",
        "      \n",
        "      if not constant_condition and acc > 0:\n",
        "        print(f'\\rManaged to compute non-zero heatmap ({reps + 1}/{ num_reps}).', end='')\n",
        "\n",
        "        # plot image and its heatmap\n",
        "        plt.subplot(2, 3*len(vals), counter)\n",
        "        im = test_ims[index] + np.random.rand(test_ims.shape[1], test_ims.shape[2], 3)\n",
        "        im /= 2\n",
        "        plt.imshow(im, cmap='hot')\n",
        "        plt.title('Label {}'.format(utils.uncategoric(test_labels[index])[0]))\n",
        "        plt.colorbar(fraction=0.046, pad=0.04)\n",
        "        plt.axis('off')\n",
        "\n",
        "        plt.subplot(2, 3*len(vals), 3*len(vals) + counter)\n",
        "        plt.imshow(heatmap, cmap='hot')\n",
        "        plt.title('Accuracy {}'.format(acc))\n",
        "        plt.colorbar(fraction=0.046, pad=0.04)\n",
        "        plt.axis('off')\n",
        "\n",
        "        # update plot numbers\n",
        "        reps += 1\n",
        "        counter += 1\n",
        "\n",
        "        \n",
        "      # if they're all constant give up and go next  \n",
        "      else:\n",
        "        if index == indexes[-1]:\n",
        "          print('\\rAll computed heatmaps were constant.', end='')\n",
        "\n",
        "          reps += 1\n",
        "          labels.pop()\n",
        "          break\n",
        "      \n",
        "      # if 3 plots have been drawn for this label, move on to the next label\n",
        "      if reps == num_reps:\n",
        "        labels.pop()\n",
        "        print('')\n",
        "        break\n",
        "\n",
        "plt.tight_layout()\n",
        "plt.show()"
      ],
      "metadata": {
        "id": "1ar-LF7QePEs"
      },
      "execution_count": null,
      "outputs": []
    },
    {
      "cell_type": "code",
      "source": [
        "# This piece of code studies the effect of noise_level on the heatmaps returned by Grad-CAM. For a given label, it plots the heatmap of a representative of that label for each noise level in noise_range.\n",
        "if mnist_type=='noisy':\n",
        "  label = 5 # label we wish to study\n",
        "  noise_range = range(1, 10) # range of noise levels to span\n",
        "  inds = find_index(label, test_labels) # indexes of labels = label in test_labels\n",
        "  \n",
        "  compteur = 0\n",
        "  plt.figure(figsize=(10*num_labels, num_labels))\n",
        "\n",
        "  for (count, index) in enumerate(inds):\n",
        "    num = 0\n",
        "    print('\\r>>{}/{}'.format(count+1, len(inds), end=''))\n",
        "\n",
        "    for level in noise_range:\n",
        "      # Load corresponding data\n",
        "      (train_ims, test_ims, val_ims), (train_color, test_color, val_color), (train_shape, test_shape, val_shape), (train_rule, test_rule, val_rule) = colored_mnist.load_data(8000, noise_level=level/10, plot=False, regularity_check=False)\n",
        "      path = utils.pathfinder(tf1, level/10, model_type)\n",
        "\n",
        "      if level == 100:\n",
        "        path = path[:-2] # when noise_level = int, for instance noise_level=1, keras saves them as 'path/to/model/model_name1.0' instead of 'path/to/model/model_name1', thus the two last characters must be removed in order to fetch the correct path.\n",
        "\n",
        "      model = keras.models.load_model(path) # load corresponding model @path\n",
        "      heatmap, acc = explainers.gradcam(model, 'conv2', test_ims[index], test_labels[index], plots=False, verbose=False) # compute gradcam heatmap\n",
        "      constant_condition = np.all(heatmap == heatmap[0]) # checks if the heatmap is constant (thus gradcam failed)\n",
        "\n",
        "      if not constant_condition and acc > 0:\n",
        "        compteur += 1\n",
        "\n",
        "        # plots\n",
        "        print(f'\\rGrad-CAM worked {num}/{len(noise_range)}', end='')\n",
        "        plt.subplot(1, len(noise_range)+1, compteur+1)\n",
        "        plt.imshow(heatmap, cmap='jet')\n",
        "        plt.title(f'Noise Level {level/10}')\n",
        "        plt.colorbar(fraction=0.046, pad=0.04)\n",
        "        plt.axis('off')\n",
        "\n",
        "        num += 1\n",
        "\n",
        "      else:\n",
        "        print('\\rGrad-CAM failed at Noise Level = {}'.format(level/10), end='')\n",
        "        compteur = 0\n",
        "        plt.clf()\n",
        "        break\n",
        "      \n",
        "    print(num)\n",
        "\n",
        "    # stop condition\n",
        "    if num == len(noise_range):\n",
        "      plt.subplot(1, len(noise_range)+1, 1)\n",
        "      plt.imshow(test_ims[index])\n",
        "      plt.title('Label {} / Accuracy {}'.format(label, acc))\n",
        "      plt.colorbar(fraction=0.046, pad=0.04)\n",
        "      plt.axis('off')\n",
        "      break\n",
        "\n",
        "  plt.tight_layout()\n",
        "  plt.show()"
      ],
      "metadata": {
        "id": "2kUDtrjKWU5B"
      },
      "execution_count": null,
      "outputs": []
    },
    {
      "cell_type": "markdown",
      "source": [
        "# Hide more stuff"
      ],
      "metadata": {
        "id": "hdnNfK5xc2js"
      }
    },
    {
      "cell_type": "code",
      "source": [
        "# # plt.imshow(test_images[inds[0]])\n",
        "# im = test_ims[1]\n",
        "# new_im_7_1 = np.zeros(im.shape)\n",
        "# new_im_7_1[..., 2] = im[..., 0]\n",
        "# new_im_7_1[..., 1] = im[..., 1]\n",
        "# label_7_1 = np.zeros(13,)\n",
        "# label_7_1[12] = 1\n",
        "# pred = model.predict(new_im_7_1[np.newaxis])[0]\n",
        "# acc = model.evaluate(new_im_7_1[np.newaxis], label_7_1[np.newaxis])[1]\n",
        "# print('acc', acc, 'label', pred)\n",
        "\n",
        "# heatmap = explainers.gradcam(model, 'conv1', new_im_7_1, label_7_1, plots=True)\n",
        "# # plt.subplot(1, 2, 1)\n",
        "# # plt.imshow(new_im_7_1)\n",
        "# # plt.imshow(new_im_7_1)"
      ],
      "metadata": {
        "id": "z0drpkOPE9Or"
      },
      "execution_count": null,
      "outputs": []
    },
    {
      "cell_type": "code",
      "source": [
        "# # k = 0\n",
        "# plt.imshow(test_images[0])\n",
        "# im_inverse = np.zeros(test_images[1].shape)\n",
        "# im_inverse[..., 2] = 1 - test_images[1, ..., 0]\n",
        "# plt.imshow(im_inverse)\n",
        "# pred = model.predict(im_inverse[np.newaxis])[0]\n",
        "# acc = model.evaluate(im_inverse[np.newaxis], test_numbers[1][np.newaxis])[1]\n",
        "# print(pred)\n",
        "\n",
        "# heatmap = explainers.gradcam(model, 'conv1', im_inverse, test_numbers[1])\n",
        "# print(test_numbers[1])"
      ],
      "metadata": {
        "id": "vqvEipwnHcm_"
      },
      "execution_count": null,
      "outputs": []
    },
    {
      "cell_type": "code",
      "execution_count": null,
      "metadata": {
        "id": "nT8qW_lWPH6_"
      },
      "outputs": [],
      "source": [
        "# ## Test number 1 : pass it a colored image without a defined number in it.\n",
        "# # Image construction\n",
        "# new_image = np.zeros((1, 28, 28, 3))\n",
        "# new_image[..., 0] = np.random.rand(28, 28)\n",
        "# plt.imshow(np.squeeze(new_image))\n",
        "# plt.show()\n",
        "\n",
        "# new_label = np.array([0, 0, 0, 0, 0, 0, 0, 0, 0, 0, 1, 0, 0])\n",
        "\n",
        "# # Pass it to the model\n",
        "# accuracy = model.evaluate(new_image, new_label[np.newaxis])[1]\n",
        "# print('Accuracy : ', accuracy)\n",
        "# pred = model.predict(new_image)[0]\n",
        "# print('Predicted label : ', pred)\n",
        "\n",
        "# ## Test number 2 : pass it a number of a different color than red, green or blue.\n",
        "# k = 1\n",
        "# # Image construction\n",
        "# new_image_2 = np.zeros((1, 28, 28, 3))\n",
        "# for i in range(3):\n",
        "#   new_image_2[..., i] = test_images[k, ..., 2]\n",
        "# plt.imshow(np.squeeze(new_image_2))\n",
        "# plt.show()\n",
        "\n",
        "# new_label_2 = np.array([0, 0, 1, 0, 0, 0, 0, 0, 0, 0, 0, 0, 0])\n",
        "\n",
        "# # Pass it to the model\n",
        "# accuracy = model.evaluate(new_image_2, new_label_2[np.newaxis])[1]\n",
        "# print('Accuracy : ', accuracy)\n",
        "# pred_2 = model.predict(new_image_2)[0]\n",
        "# print('Predicted label : ', pred_2)"
      ]
    },
    {
      "cell_type": "code",
      "execution_count": null,
      "metadata": {
        "id": "SaZJXzLMjzLk"
      },
      "outputs": [],
      "source": [
        "# def adversarial_tests():\n",
        "#   red_image = np.random.rand(1,28,28,3)\n",
        "#   red_image[..., 1] = red_image[..., 2] = 0\n",
        "#   plt.imshow(np.squeeze(red_image))\n",
        "#   plt.axis('off')\n",
        "#   plt.show()\n",
        "\n",
        "#   pred = model.predict(red_image)[0]\n",
        "#   pred_bool = (pred == np.max(pred))\n",
        "#   print(pred, utils.uncategoric(pred_bool)[0])\n",
        "#   heatmap = explainers.gradcam(model, 'conv1', red_image)\n",
        "#   # plot gradcam\n",
        "#   plt.imshow(heatmap, cmap='hot')\n",
        "#   plt.title('gradcam')\n",
        "#   plt.show()\n",
        "\n",
        "#   color_im = np.zeros((1,28,28,3))\n",
        "#   color_im[0, 0, 0, 1] = 1\n",
        "#   color_im[0, 0, 1:3, 2] = 1\n",
        "#   # color_im[0, 5:12, 14:24, 2] = 1\n",
        "#   # color_im[0, 13:24, 3:14, 2] = 1\n",
        "#   plt.imshow(np.squeeze(color_im))\n",
        "#   plt.show()\n",
        "#   plt.imshow(np.squeeze(color_im[..., 1]), cmap='gray')\n",
        "#   plt.colorbar()\n",
        "#   plt.show()\n",
        "\n",
        "# adversarial_tests()\n",
        "#   # print('>> Color')\n",
        "#   # color_model.predict(color_im)\n",
        "#   # print('>> Shape')\n",
        "#   # shape_model.predict(color_im)\n",
        "#   # print('>> Normal')\n",
        "#   # model.predict(color_im)\n",
        "\n",
        "#   ## Grad-CAM+SHAP pour voir si ca s'allume autour ou au niveau du chiffre\n",
        "\n",
        "#   # plt.imshow(np.squeeze(train_images[0]))\n",
        "#   # plt.axis('off')\n",
        "#   # plt.show()\n",
        "\n",
        "#   # new_im = np.zeros((1,28,28,3))\n",
        "#   # new_im[..., 2] = (1 - train_images[0, ..., 0])\n",
        "#   # new_im[..., 1] = train_images[0, ..., 0]\n",
        "#   # plt.imshow(np.squeeze(new_im)[..., 2], cmap='gray')\n",
        "#   # plt.colorbar()\n",
        "#   # plt.show()\n",
        "\n",
        "#   # model.predict(new_im)"
      ]
    },
    {
      "cell_type": "code",
      "execution_count": null,
      "metadata": {
        "id": "8n_YndzgZOPI"
      },
      "outputs": [],
      "source": [
        "## CONFUSIONS\n",
        "ims, labels = test_ims, test_rule\n",
        "labs = [0, 1, 2, 3, 4, 5, 6, 7, 8, 9, 'r', 'g', 'b']\n",
        "\n",
        "n = 200\n",
        "wrong_list = []\n",
        "test_ims = ims[:n]\n",
        "preds = model.predict(test_ims)\n",
        "for i in range(test_ims.shape[0]):\n",
        "  pred_max = max(preds[i]) # preds and ground are categorical, we must extract the number corresponding to the max value in the array.\n",
        "  ground_max = max(labels[i])\n",
        "  pred_value = list(preds[i]).index(pred_max)\n",
        "  ground_value = list(labels[i]).index(ground_max)\n",
        "\n",
        "  if pred_value != ground_value:\n",
        "    print('predicted value: ', labs[pred_value], '  ground truth: ', labs[ground_value], ' <<')\n",
        "    wrong_list.append((i, pred_value))\n",
        "  else:\n",
        "    print('predicted value: ', labs[pred_value] , '  ground truth: ', labs[ground_value])"
      ]
    },
    {
      "cell_type": "code",
      "execution_count": null,
      "metadata": {
        "id": "BhWt4F6MZSEs"
      },
      "outputs": [],
      "source": [
        "## PLOT WRONG CLASSIFICATIONS\n",
        "c, plots = 1, 1\n",
        "print('>> Wrongly classified : ', len(wrong_list), '/', test_ims.shape[0])\n",
        "plt.suptitle('prediction vs. label', y=0.9)\n",
        "labs = [0, 1, 2, 3, 4, 5, 6, 7, 8, 9, 'red', 'green', 'blue']\n",
        "for (i, j) in wrong_list:\n",
        "  ground_truth = list(test_rule[i])\n",
        "  max_val = max(ground_truth)\n",
        "  true_label = ground_truth.index(max_val)\n",
        "  pred_label = labs[j]\n",
        "\n",
        "  if plots and wrong_list:\n",
        "    plt.subplot(1, len(wrong_list), c)\n",
        "    plt.title('{} vs. {}'.format(pred_label, true_label))\n",
        "    plt.imshow(test_ims[i])\n",
        "    plt.axis('off')\n",
        "  c += 1"
      ]
    },
    {
      "cell_type": "code",
      "execution_count": null,
      "metadata": {
        "id": "8-pjzZA8ZSxJ"
      },
      "outputs": [],
      "source": [
        "## PLOT COLOR CONFUSION PIE CHART\n",
        "if wrong_list: # THIS IS DEPRECATED\n",
        "  rgb_confusion = np.zeros((3,))\n",
        "  for (i, j) in wrong_list: # i : index of wrongly classified image in the test dataset, # j : predicted label of that image.\n",
        "    im = test_ims[i]\n",
        "    for k in range(3):\n",
        "      if im[..., k].any():\n",
        "        rgb_confusion[k] += 1\n",
        "\n",
        "  rgb_confusion /= len(wrong_list)\n",
        "  pie_labels = ['red', 'green', 'blue']\n",
        "  plt.pie(rgb_confusion, labels = pie_labels, colors = pie_labels, autopct='%1.1f%%')\n",
        "  plt.title('is misclassification linked to color?')\n",
        "  plt.show()"
      ]
    },
    {
      "cell_type": "code",
      "execution_count": null,
      "metadata": {
        "id": "TkhYHc693iQ_"
      },
      "outputs": [],
      "source": [
        "# ## REPRESENTATIONAL SIMILARITY ANALYSIS\n",
        "# from keras.models import Model\n",
        "\n",
        "# models = [color_model, shape_model, model]\n",
        "# model_names = ['Color-biased model', 'Shape-biased model', 'Rule-biased model']\n",
        "# im = train_images[0]\n",
        "# if im.ndim < 4:\n",
        "#   im = np.expand_dims(im, axis=0)\n",
        "\n",
        "# f_map = [[],[],[]]\n",
        "# for (n, model) in enumerate(models):\n",
        "#   print(model_names[n])\n",
        "#   for i in range(len(model.layers)):\n",
        "#     if 'conv' not in model.layers[i].name:\n",
        "#       continue\n",
        "#     model2 = Model(inputs=model.inputs, outputs=model.layers[i].output)\n",
        "\n",
        "#     kernels, biases = model.layers[i].get_weights()\n",
        "#     k_min, k_max = kernels.min(), kernels.max()\n",
        "#     kernels = (kernels - k_min) / (k_max - k_min)\n",
        "#     feature_map = model2.predict(im)\n",
        "\n",
        "#     # f_map = np.squeeze(feature_map[..., 0])\n",
        "#     # kernel = np.squeeze(kernels[..., 0, 0]) # Ce zéro est suspect, on ne sait pas si ce feature map vient forcément du 1er input du convolutional layer d'avant.\n",
        "\n",
        "#     # print(model.layers[i].name, kernels.shape)\n",
        "#     # plt.figure(figsize=(20,5))\n",
        "#     # plt.subplot(131)\n",
        "#     # plt.imshow(np.squeeze(im), aspect='auto')\n",
        "#     # plt.colorbar()\n",
        "#     # plt.subplot(132)\n",
        "#     # plt.imshow(kernel, aspect='auto')\n",
        "#     # plt.colorbar()\n",
        "#     # plt.subplot(133)\n",
        "#     # plt.imshow(f_map, aspect='auto')\n",
        "#     # plt.colorbar()\n",
        "#     # plt.show()\n",
        "#     # Visualize all feature maps and corresponding filters.\n",
        "#     num_maps = feature_map.shape[-1]\n",
        "#     rows = int(np.floor(np.sqrt(num_maps)))\n",
        "#     idx = 1\n",
        "#     # plt.figure(figsize=(20, 10))\n",
        "#     print(model.layers[i].name, kernels.shape)\n",
        "#     for j in range(0, num_maps, 8):\n",
        "#       # print(num_maps, idx, rows*2*rows)\n",
        "#       f_map[n].append(np.squeeze(feature_map[..., j]))\n",
        "#       kernel = np.squeeze(kernels[..., 0, j]) # Ce zéro est suspect : revoir les shape des kernels.\n",
        "\n",
        "#       if n == 2:\n",
        "#         print(np.array(f_map).shape)\n",
        "#         print('color_bias : ', np.corrcoef(f_map[0][-1], f_map[2][-1]))\n",
        "#         print('shape_bias : ', np.corrcoef(f_map[1][-1], f_map[2][-1]))\n",
        "#       # plt.subplot(2, 8, idx)\n",
        "#       # plt.imshow(kernel, aspect='auto')\n",
        "#       # plt.subplot(2, 8, idx + 1)\n",
        "#       # plt.imshow(f_map, aspect='auto')\n",
        "\n",
        "#       idx += 2\n",
        "#     # plt.show()\n",
        "#   pass # use feature map analysis code developed last week"
      ]
    }
  ],
  "metadata": {
    "colab": {
      "collapsed_sections": [
        "2YMWqDG1JNkm",
        "hdnNfK5xc2js"
      ],
      "provenance": [],
      "authorship_tag": "ABX9TyNZkJHc8NGSQLMHVacsetkP",
      "include_colab_link": true
    },
    "kernelspec": {
      "display_name": "Python 3",
      "name": "python3"
    },
    "language_info": {
      "name": "python"
    }
  },
  "nbformat": 4,
  "nbformat_minor": 0
}