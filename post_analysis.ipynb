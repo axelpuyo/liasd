{
  "nbformat": 4,
  "nbformat_minor": 0,
  "metadata": {
    "colab": {
      "name": "post_analysis.ipynb",
      "provenance": [],
      "collapsed_sections": [],
      "authorship_tag": "ABX9TyPhNKZqlfeNvHclKohj60mX",
      "include_colab_link": true
    },
    "kernelspec": {
      "name": "python3",
      "display_name": "Python 3"
    },
    "language_info": {
      "name": "python"
    }
  },
  "cells": [
    {
      "cell_type": "markdown",
      "metadata": {
        "id": "view-in-github",
        "colab_type": "text"
      },
      "source": [
        "<a href=\"https://colab.research.google.com/github/axelpuyo/liasd/blob/master/post_analysis.ipynb\" target=\"_parent\"><img src=\"https://colab.research.google.com/assets/colab-badge.svg\" alt=\"Open In Colab\"/></a>"
      ]
    },
    {
      "cell_type": "code",
      "execution_count": 36,
      "metadata": {
        "id": "jcmbMotr2mhH",
        "colab": {
          "base_uri": "https://localhost:8080/"
        },
        "outputId": "18e81f26-298c-4de9-9ac8-8ec906414990"
      },
      "outputs": [
        {
          "output_type": "stream",
          "name": "stdout",
          "text": [
            "Drive already mounted at /content/drive; to attempt to forcibly remount, call drive.mount(\"/content/drive\", force_remount=True).\n",
            "/content/drive/My Drive/Colab Notebooks/liasd\n",
            "['saved_models', 'colored_mnist.ipynb', 'perceptive_bias_model.ipynb', 'utils.ipynb', 'explainers.ipynb', 'post_analysis.ipynb']\n",
            "[Errno 2] No such file or directory: 'drive/MyDrive/Colab Notebooks/liasd'\n",
            "/content/drive/MyDrive/Colab Notebooks/liasd\n"
          ]
        }
      ],
      "source": [
        "## Run once\n",
        "!pip -q install import-ipynb\n",
        "\n",
        "from google.colab import drive\n",
        "drive.mount('/content/drive')\n",
        "\n",
        "import os\n",
        "print(os.getcwd())\n",
        "print(os.listdir())\n",
        "\n",
        "#%cd your_path/Colab Notebooks\n",
        "%cd drive/MyDrive/Colab Notebooks/liasd"
      ]
    },
    {
      "cell_type": "code",
      "source": [
        "import cv2\n",
        "import import_ipynb\n",
        "import utils\n",
        "import explainers\n",
        "import colored_mnist\n",
        "\n",
        "import numpy as np\n",
        "import random as rd\n",
        "import tensorflow as tf\n",
        "import tensorflow.keras as keras\n",
        "import matplotlib.pyplot as plt"
      ],
      "metadata": {
        "id": "2rcusxVW2spA"
      },
      "execution_count": 37,
      "outputs": []
    },
    {
      "cell_type": "code",
      "source": [
        "## Parameters\n",
        "tf1 = False\n",
        "explainer = 'cam'\n",
        "model_type = 'rule'\n",
        "digit, background, noise = 1, 1, 1"
      ],
      "metadata": {
        "id": "013JrxGDJd8S"
      },
      "execution_count": 38,
      "outputs": []
    },
    {
      "cell_type": "code",
      "source": [
        "# Load path\n",
        "path = utils.pathfinder(tf1, digit, background, noise, model_type)\n",
        "# Load data\n",
        "(train_images, train_colors, train_numbers, train_mixed), (test_images, test_colors, test_numbers, test_mixed) = colored_mnist.load_data(8000, digit, background, noise)\n",
        "print('>> Loading model :', path)\n",
        "\n",
        "if model_type == 'rule':\n",
        "  num_labels = 11\n",
        "  test_labels = test_mixed\n",
        "elif model_type == 'shape':\n",
        "  num_labels = 10\n",
        "  test_labels = test_numbers\n",
        "else:\n",
        "  num_labels = 3\n",
        "  test_labels = test_colors"
      ],
      "metadata": {
        "id": "b167Ub8LYJUb",
        "colab": {
          "base_uri": "https://localhost:8080/"
        },
        "outputId": "a51f8294-91bf-47d7-deff-ff1b0a305a89"
      },
      "execution_count": 39,
      "outputs": [
        {
          "output_type": "stream",
          "name": "stdout",
          "text": [
            ">> Loading model : /content/drive/My Drive/Colab Notebooks/liasd/saved_models/tf2/digit/background/noise/rule_biased\n"
          ]
        }
      ]
    },
    {
      "cell_type": "code",
      "source": [
        "## DEEP EXPLAINERS\n",
        "if __name__ == '__main__':\n",
        "  if explainer == 'shap': # works great\n",
        "    # Switch to TensorFlow 1.x behavior (SHAP doesn't work with TF 2.x)\n",
        "    tf.compat.v1.disable_v2_behavior()\n",
        "    tf.compat.v1.disable_eager_execution()\n",
        "    # Load model that was trained in TF 1.x. (non-eager mode)\n",
        "    model = keras.models.load_model(path)\n",
        "\n",
        "    vals, imgs = explainers.shap(model, test_images, test_labels, 100, num_labels)\n",
        "\n",
        "  else:\n",
        "    # Load TensorFlow v.2.x model\n",
        "    model = keras.models.load_model(path)\n",
        "    # Pick a random image from test set to analyze\n",
        "    idx = np.random.randint(0, test_labels.shape[0])\n",
        "    img, lab = test_images[idx], test_labels[idx]\n",
        "      \n",
        "    if explainer == 'cam':\n",
        "      heatmap, _ = explainers.gradcam(model, 'conv1', img, lab)\n",
        "      \n",
        "    elif explainer == 'rise':\n",
        "      # Parameters : num = number of masks, proba = percentage of occlusion\n",
        "      num = 500\n",
        "      proba = 3/4\n",
        "      heatmap = explainers.rise(model, img, lab, num, proba)\n",
        "    \n",
        "    else:\n",
        "      pass"
      ],
      "metadata": {
        "id": "Pi1CwxYW3fxU",
        "colab": {
          "base_uri": "https://localhost:8080/",
          "height": 217
        },
        "outputId": "0c73c594-feee-4d56-ebf8-b9c74d926b76"
      },
      "execution_count": 40,
      "outputs": [
        {
          "output_type": "stream",
          "name": "stdout",
          "text": [
            "Accuracy :  1.0\n"
          ]
        },
        {
          "output_type": "display_data",
          "data": {
            "text/plain": [
              "<Figure size 432x288 with 2 Axes>"
            ],
            "image/png": "[encoded data removed]"
          },
          "metadata": {
            "needs_background": "light"
          }
        }
      ]
    },
    {
      "cell_type": "code",
      "source": [
        "## SHAP-like plot for Grad-CAM\n",
        "# Uncategorize the test labels for ease of manipulation\n",
        "uncategoric_labels = np.zeros(test_labels.shape[0])\n",
        "for i in range(test_labels.shape[0]):\n",
        "  uncategoric_labels[i] = utils.uncategoric(test_labels[i])[1]\n",
        "\n",
        "nums, counts = np.unique(uncategoric_labels, return_counts=True)\n",
        "labels = list(np.flip(nums))\n",
        "\n",
        "# Show a heatmap (if it's non-constant) for a representative of each label\n",
        "inds = []\n",
        "plt.figure(figsize=(40, 40))\n",
        "while labels:\n",
        "  for i in np.flip(labels):\n",
        "    c = 0\n",
        "    print('Label', i)\n",
        "\n",
        "    indexes = np.where(uncategoric_labels == i)[0]\n",
        "    for j in indexes:\n",
        "      c += 1\n",
        "      print('\\r', round(100*c/indexes.shape[0], 1), '%', end='')\n",
        "\n",
        "      heatmap, acc = explainers.gradcam(model, 'conv1', test_images[j], test_labels[j], plots=False, verbose=False)\n",
        "      constant = np.all(heatmap == heatmap[0])\n",
        "      if not constant:\n",
        "        print(' Managed to compute non-zero heatmap.')\n",
        "        inds.append(j)\n",
        "        labels.pop()\n",
        "\n",
        "        plt.subplot(1, num_labels, len(inds))\n",
        "        plt.imshow(abs(heatmap), cmap='hot')\n",
        "        plt.title('Label {} \\n Accuracy {}'.format(utils.uncategoric(test_labels[j])[0], acc))\n",
        "        plt.axis('off')\n",
        "        plt.colorbar(fraction=0.046, pad=0.04)\n",
        "        break\n",
        "\n",
        "      if not inds and j == indexes[-1]:\n",
        "        print('\\rAll representatives of label', i, 'gave constant heatmaps.')\n",
        "        inds.append(j)\n",
        "        labels.pop()\n",
        "\n",
        "        plt.subplot(1, num_labels, len(inds))\n",
        "        plt.imshow(abs(heatmap), cmap='hot')\n",
        "        plt.title('{} \\n {}'.format(utils.uncategoric(test_labels[j])[0], acc))\n",
        "        plt.axis('off')\n",
        "        plt.colorbar(fraction=0.046, pad=0.04)\n",
        "\n",
        "plt.subplots_adjust(wspace=0.4)\n",
        "plt.show()"
      ],
      "metadata": {
        "colab": {
          "base_uri": "https://localhost:8080/",
          "height": 975
        },
        "id": "yWIbC4LD9w_k",
        "outputId": "5276fcde-5e07-48d4-909c-1c2078449679"
      },
      "execution_count": 41,
      "outputs": [
        {
          "output_type": "stream",
          "name": "stdout",
          "text": [
            "Label 0.0\n",
            " 0.6 % Managed to compute non-zero heatmap.\n",
            "Label 1.0\n",
            " 0.2 % Managed to compute non-zero heatmap.\n",
            "Label 2.0\n",
            " 0.5 % Managed to compute non-zero heatmap.\n",
            "Label 3.0\n",
            " 0.2 % Managed to compute non-zero heatmap.\n",
            "Label 4.0\n",
            " 0.2 % Managed to compute non-zero heatmap.\n",
            "Label 5.0\n",
            " 0.2 % Managed to compute non-zero heatmap.\n",
            "Label 6.0\n",
            " 0.4 % Managed to compute non-zero heatmap.\n",
            "Label 7.0\n",
            " 0.6 % Managed to compute non-zero heatmap.\n",
            "Label 8.0\n",
            " 0.2 % Managed to compute non-zero heatmap.\n",
            "Label 9.0\n",
            " 0.2 % Managed to compute non-zero heatmap.\n",
            "Label 10.0\n",
            " 100.0 %Label 10.0\n",
            " 25.7 %"
          ]
        },
        {
          "output_type": "error",
          "ename": "KeyboardInterrupt",
          "evalue": "ignored",
          "traceback": [
            "\u001b[0;31m---------------------------------------------------------------------------\u001b[0m",
            "\u001b[0;31mKeyboardInterrupt\u001b[0m                         Traceback (most recent call last)",
            "\u001b[0;32m<ipython-input-41-bd1e7c740cc2>\u001b[0m in \u001b[0;36m<module>\u001b[0;34m()\u001b[0m\n\u001b[1;32m     20\u001b[0m       \u001b[0mprint\u001b[0m\u001b[0;34m(\u001b[0m\u001b[0;34m'\\r'\u001b[0m\u001b[0;34m,\u001b[0m \u001b[0mround\u001b[0m\u001b[0;34m(\u001b[0m\u001b[0;36m100\u001b[0m\u001b[0;34m*\u001b[0m\u001b[0mc\u001b[0m\u001b[0;34m/\u001b[0m\u001b[0mindexes\u001b[0m\u001b[0;34m.\u001b[0m\u001b[0mshape\u001b[0m\u001b[0;34m[\u001b[0m\u001b[0;36m0\u001b[0m\u001b[0;34m]\u001b[0m\u001b[0;34m,\u001b[0m \u001b[0;36m1\u001b[0m\u001b[0;34m)\u001b[0m\u001b[0;34m,\u001b[0m \u001b[0;34m'%'\u001b[0m\u001b[0;34m,\u001b[0m \u001b[0mend\u001b[0m\u001b[0;34m=\u001b[0m\u001b[0;34m''\u001b[0m\u001b[0;34m)\u001b[0m\u001b[0;34m\u001b[0m\u001b[0;34m\u001b[0m\u001b[0m\n\u001b[1;32m     21\u001b[0m \u001b[0;34m\u001b[0m\u001b[0m\n\u001b[0;32m---> 22\u001b[0;31m       \u001b[0mheatmap\u001b[0m\u001b[0;34m,\u001b[0m \u001b[0macc\u001b[0m \u001b[0;34m=\u001b[0m \u001b[0mexplainers\u001b[0m\u001b[0;34m.\u001b[0m\u001b[0mgradcam\u001b[0m\u001b[0;34m(\u001b[0m\u001b[0mmodel\u001b[0m\u001b[0;34m,\u001b[0m \u001b[0;34m'conv1'\u001b[0m\u001b[0;34m,\u001b[0m \u001b[0mtest_images\u001b[0m\u001b[0;34m[\u001b[0m\u001b[0mj\u001b[0m\u001b[0;34m]\u001b[0m\u001b[0;34m,\u001b[0m \u001b[0mtest_labels\u001b[0m\u001b[0;34m[\u001b[0m\u001b[0mj\u001b[0m\u001b[0;34m]\u001b[0m\u001b[0;34m,\u001b[0m \u001b[0mplots\u001b[0m\u001b[0;34m=\u001b[0m\u001b[0;32mFalse\u001b[0m\u001b[0;34m,\u001b[0m \u001b[0mverbose\u001b[0m\u001b[0;34m=\u001b[0m\u001b[0;32mFalse\u001b[0m\u001b[0;34m)\u001b[0m\u001b[0;34m\u001b[0m\u001b[0;34m\u001b[0m\u001b[0m\n\u001b[0m\u001b[1;32m     23\u001b[0m       \u001b[0mconstant\u001b[0m \u001b[0;34m=\u001b[0m \u001b[0mnp\u001b[0m\u001b[0;34m.\u001b[0m\u001b[0mall\u001b[0m\u001b[0;34m(\u001b[0m\u001b[0mheatmap\u001b[0m \u001b[0;34m==\u001b[0m \u001b[0mheatmap\u001b[0m\u001b[0;34m[\u001b[0m\u001b[0;36m0\u001b[0m\u001b[0;34m]\u001b[0m\u001b[0;34m)\u001b[0m\u001b[0;34m\u001b[0m\u001b[0;34m\u001b[0m\u001b[0m\n\u001b[1;32m     24\u001b[0m       \u001b[0;32mif\u001b[0m \u001b[0;32mnot\u001b[0m \u001b[0mconstant\u001b[0m\u001b[0;34m:\u001b[0m\u001b[0;34m\u001b[0m\u001b[0;34m\u001b[0m\u001b[0m\n",
            "\u001b[0;32m/content/drive/MyDrive/Colab Notebooks/liasd/explainers.ipynb\u001b[0m in \u001b[0;36mgradcam\u001b[0;34m(model, layer_name, image, label, pred_index, plots, verbose)\u001b[0m\n",
            "\u001b[0;32m/usr/local/lib/python3.7/dist-packages/tensorflow/python/util/traceback_utils.py\u001b[0m in \u001b[0;36merror_handler\u001b[0;34m(*args, **kwargs)\u001b[0m\n\u001b[1;32m    148\u001b[0m     \u001b[0mfiltered_tb\u001b[0m \u001b[0;34m=\u001b[0m \u001b[0;32mNone\u001b[0m\u001b[0;34m\u001b[0m\u001b[0;34m\u001b[0m\u001b[0m\n\u001b[1;32m    149\u001b[0m     \u001b[0;32mtry\u001b[0m\u001b[0;34m:\u001b[0m\u001b[0;34m\u001b[0m\u001b[0;34m\u001b[0m\u001b[0m\n\u001b[0;32m--> 150\u001b[0;31m       \u001b[0;32mreturn\u001b[0m \u001b[0mfn\u001b[0m\u001b[0;34m(\u001b[0m\u001b[0;34m*\u001b[0m\u001b[0margs\u001b[0m\u001b[0;34m,\u001b[0m \u001b[0;34m**\u001b[0m\u001b[0mkwargs\u001b[0m\u001b[0;34m)\u001b[0m\u001b[0;34m\u001b[0m\u001b[0;34m\u001b[0m\u001b[0m\n\u001b[0m\u001b[1;32m    151\u001b[0m     \u001b[0;32mexcept\u001b[0m \u001b[0mException\u001b[0m \u001b[0;32mas\u001b[0m \u001b[0me\u001b[0m\u001b[0;34m:\u001b[0m\u001b[0;34m\u001b[0m\u001b[0;34m\u001b[0m\u001b[0m\n\u001b[1;32m    152\u001b[0m       \u001b[0mfiltered_tb\u001b[0m \u001b[0;34m=\u001b[0m \u001b[0m_process_traceback_frames\u001b[0m\u001b[0;34m(\u001b[0m\u001b[0me\u001b[0m\u001b[0;34m.\u001b[0m\u001b[0m__traceback__\u001b[0m\u001b[0;34m)\u001b[0m\u001b[0;34m\u001b[0m\u001b[0;34m\u001b[0m\u001b[0m\n",
            "\u001b[0;32m/usr/local/lib/python3.7/dist-packages/tensorflow/python/ops/math_ops.py\u001b[0m in \u001b[0;36mbinary_op_wrapper\u001b[0;34m(x, y)\u001b[0m\n\u001b[1;32m   1404\u001b[0m         \u001b[0;31m#   r_binary_op_wrapper use different force_same_dtype values.\u001b[0m\u001b[0;34m\u001b[0m\u001b[0;34m\u001b[0m\u001b[0;34m\u001b[0m\u001b[0m\n\u001b[1;32m   1405\u001b[0m         \u001b[0mx\u001b[0m\u001b[0;34m,\u001b[0m \u001b[0my\u001b[0m \u001b[0;34m=\u001b[0m \u001b[0mmaybe_promote_tensors\u001b[0m\u001b[0;34m(\u001b[0m\u001b[0mx\u001b[0m\u001b[0;34m,\u001b[0m \u001b[0my\u001b[0m\u001b[0;34m)\u001b[0m\u001b[0;34m\u001b[0m\u001b[0;34m\u001b[0m\u001b[0m\n\u001b[0;32m-> 1406\u001b[0;31m         \u001b[0;32mreturn\u001b[0m \u001b[0mfunc\u001b[0m\u001b[0;34m(\u001b[0m\u001b[0mx\u001b[0m\u001b[0;34m,\u001b[0m \u001b[0my\u001b[0m\u001b[0;34m,\u001b[0m \u001b[0mname\u001b[0m\u001b[0;34m=\u001b[0m\u001b[0mname\u001b[0m\u001b[0;34m)\u001b[0m\u001b[0;34m\u001b[0m\u001b[0;34m\u001b[0m\u001b[0m\n\u001b[0m\u001b[1;32m   1407\u001b[0m       \u001b[0;32mexcept\u001b[0m \u001b[0;34m(\u001b[0m\u001b[0mTypeError\u001b[0m\u001b[0;34m,\u001b[0m \u001b[0mValueError\u001b[0m\u001b[0;34m)\u001b[0m \u001b[0;32mas\u001b[0m \u001b[0me\u001b[0m\u001b[0;34m:\u001b[0m\u001b[0;34m\u001b[0m\u001b[0;34m\u001b[0m\u001b[0m\n\u001b[1;32m   1408\u001b[0m         \u001b[0;31m# Even if dispatching the op failed, the RHS may be a tensor aware\u001b[0m\u001b[0;34m\u001b[0m\u001b[0;34m\u001b[0m\u001b[0;34m\u001b[0m\u001b[0m\n",
            "\u001b[0;32m/usr/local/lib/python3.7/dist-packages/tensorflow/python/util/traceback_utils.py\u001b[0m in \u001b[0;36merror_handler\u001b[0;34m(*args, **kwargs)\u001b[0m\n\u001b[1;32m    148\u001b[0m     \u001b[0mfiltered_tb\u001b[0m \u001b[0;34m=\u001b[0m \u001b[0;32mNone\u001b[0m\u001b[0;34m\u001b[0m\u001b[0;34m\u001b[0m\u001b[0m\n\u001b[1;32m    149\u001b[0m     \u001b[0;32mtry\u001b[0m\u001b[0;34m:\u001b[0m\u001b[0;34m\u001b[0m\u001b[0;34m\u001b[0m\u001b[0m\n\u001b[0;32m--> 150\u001b[0;31m       \u001b[0;32mreturn\u001b[0m \u001b[0mfn\u001b[0m\u001b[0;34m(\u001b[0m\u001b[0;34m*\u001b[0m\u001b[0margs\u001b[0m\u001b[0;34m,\u001b[0m \u001b[0;34m**\u001b[0m\u001b[0mkwargs\u001b[0m\u001b[0;34m)\u001b[0m\u001b[0;34m\u001b[0m\u001b[0;34m\u001b[0m\u001b[0m\n\u001b[0m\u001b[1;32m    151\u001b[0m     \u001b[0;32mexcept\u001b[0m \u001b[0mException\u001b[0m \u001b[0;32mas\u001b[0m \u001b[0me\u001b[0m\u001b[0;34m:\u001b[0m\u001b[0;34m\u001b[0m\u001b[0;34m\u001b[0m\u001b[0m\n\u001b[1;32m    152\u001b[0m       \u001b[0mfiltered_tb\u001b[0m \u001b[0;34m=\u001b[0m \u001b[0m_process_traceback_frames\u001b[0m\u001b[0;34m(\u001b[0m\u001b[0me\u001b[0m\u001b[0;34m.\u001b[0m\u001b[0m__traceback__\u001b[0m\u001b[0;34m)\u001b[0m\u001b[0;34m\u001b[0m\u001b[0;34m\u001b[0m\u001b[0m\n",
            "\u001b[0;32m/usr/local/lib/python3.7/dist-packages/tensorflow/python/util/dispatch.py\u001b[0m in \u001b[0;36mop_dispatch_handler\u001b[0;34m(*args, **kwargs)\u001b[0m\n\u001b[1;32m   1080\u001b[0m       \u001b[0;31m# Fallback dispatch system (dispatch v1):\u001b[0m\u001b[0;34m\u001b[0m\u001b[0;34m\u001b[0m\u001b[0;34m\u001b[0m\u001b[0m\n\u001b[1;32m   1081\u001b[0m       \u001b[0;32mtry\u001b[0m\u001b[0;34m:\u001b[0m\u001b[0;34m\u001b[0m\u001b[0;34m\u001b[0m\u001b[0m\n\u001b[0;32m-> 1082\u001b[0;31m         \u001b[0;32mreturn\u001b[0m \u001b[0mdispatch_target\u001b[0m\u001b[0;34m(\u001b[0m\u001b[0;34m*\u001b[0m\u001b[0margs\u001b[0m\u001b[0;34m,\u001b[0m \u001b[0;34m**\u001b[0m\u001b[0mkwargs\u001b[0m\u001b[0;34m)\u001b[0m\u001b[0;34m\u001b[0m\u001b[0;34m\u001b[0m\u001b[0m\n\u001b[0m\u001b[1;32m   1083\u001b[0m       \u001b[0;32mexcept\u001b[0m \u001b[0;34m(\u001b[0m\u001b[0mTypeError\u001b[0m\u001b[0;34m,\u001b[0m \u001b[0mValueError\u001b[0m\u001b[0;34m)\u001b[0m\u001b[0;34m:\u001b[0m\u001b[0;34m\u001b[0m\u001b[0;34m\u001b[0m\u001b[0m\n\u001b[1;32m   1084\u001b[0m         \u001b[0;31m# Note: convert_to_eager_tensor currently raises a ValueError, not a\u001b[0m\u001b[0;34m\u001b[0m\u001b[0;34m\u001b[0m\u001b[0;34m\u001b[0m\u001b[0m\n",
            "\u001b[0;32m/usr/local/lib/python3.7/dist-packages/tensorflow/python/ops/math_ops.py\u001b[0m in \u001b[0;36m_add_dispatch\u001b[0;34m(x, y, name)\u001b[0m\n\u001b[1;32m   1750\u001b[0m   if not isinstance(y, ops.Tensor) and not isinstance(\n\u001b[1;32m   1751\u001b[0m       y, sparse_tensor.SparseTensor):\n\u001b[0;32m-> 1752\u001b[0;31m     \u001b[0my\u001b[0m \u001b[0;34m=\u001b[0m \u001b[0mops\u001b[0m\u001b[0;34m.\u001b[0m\u001b[0mconvert_to_tensor\u001b[0m\u001b[0;34m(\u001b[0m\u001b[0my\u001b[0m\u001b[0;34m,\u001b[0m \u001b[0mdtype_hint\u001b[0m\u001b[0;34m=\u001b[0m\u001b[0mx\u001b[0m\u001b[0;34m.\u001b[0m\u001b[0mdtype\u001b[0m\u001b[0;34m.\u001b[0m\u001b[0mbase_dtype\u001b[0m\u001b[0;34m,\u001b[0m \u001b[0mname\u001b[0m\u001b[0;34m=\u001b[0m\u001b[0;34m\"y\"\u001b[0m\u001b[0;34m)\u001b[0m\u001b[0;34m\u001b[0m\u001b[0;34m\u001b[0m\u001b[0m\n\u001b[0m\u001b[1;32m   1753\u001b[0m   \u001b[0;32mif\u001b[0m \u001b[0mx\u001b[0m\u001b[0;34m.\u001b[0m\u001b[0mdtype\u001b[0m \u001b[0;34m==\u001b[0m \u001b[0mdtypes\u001b[0m\u001b[0;34m.\u001b[0m\u001b[0mstring\u001b[0m\u001b[0;34m:\u001b[0m\u001b[0;34m\u001b[0m\u001b[0;34m\u001b[0m\u001b[0m\n\u001b[1;32m   1754\u001b[0m     \u001b[0;32mreturn\u001b[0m \u001b[0mgen_math_ops\u001b[0m\u001b[0;34m.\u001b[0m\u001b[0madd\u001b[0m\u001b[0;34m(\u001b[0m\u001b[0mx\u001b[0m\u001b[0;34m,\u001b[0m \u001b[0my\u001b[0m\u001b[0;34m,\u001b[0m \u001b[0mname\u001b[0m\u001b[0;34m=\u001b[0m\u001b[0mname\u001b[0m\u001b[0;34m)\u001b[0m\u001b[0;34m\u001b[0m\u001b[0;34m\u001b[0m\u001b[0m\n",
            "\u001b[0;32m/usr/local/lib/python3.7/dist-packages/tensorflow/python/profiler/trace.py\u001b[0m in \u001b[0;36mwrapped\u001b[0;34m(*args, **kwargs)\u001b[0m\n\u001b[1;32m    181\u001b[0m         \u001b[0;32mwith\u001b[0m \u001b[0mTrace\u001b[0m\u001b[0;34m(\u001b[0m\u001b[0mtrace_name\u001b[0m\u001b[0;34m,\u001b[0m \u001b[0;34m**\u001b[0m\u001b[0mtrace_kwargs\u001b[0m\u001b[0;34m)\u001b[0m\u001b[0;34m:\u001b[0m\u001b[0;34m\u001b[0m\u001b[0;34m\u001b[0m\u001b[0m\n\u001b[1;32m    182\u001b[0m           \u001b[0;32mreturn\u001b[0m \u001b[0mfunc\u001b[0m\u001b[0;34m(\u001b[0m\u001b[0;34m*\u001b[0m\u001b[0margs\u001b[0m\u001b[0;34m,\u001b[0m \u001b[0;34m**\u001b[0m\u001b[0mkwargs\u001b[0m\u001b[0;34m)\u001b[0m\u001b[0;34m\u001b[0m\u001b[0;34m\u001b[0m\u001b[0m\n\u001b[0;32m--> 183\u001b[0;31m       \u001b[0;32mreturn\u001b[0m \u001b[0mfunc\u001b[0m\u001b[0;34m(\u001b[0m\u001b[0;34m*\u001b[0m\u001b[0margs\u001b[0m\u001b[0;34m,\u001b[0m \u001b[0;34m**\u001b[0m\u001b[0mkwargs\u001b[0m\u001b[0;34m)\u001b[0m\u001b[0;34m\u001b[0m\u001b[0;34m\u001b[0m\u001b[0m\n\u001b[0m\u001b[1;32m    184\u001b[0m \u001b[0;34m\u001b[0m\u001b[0m\n\u001b[1;32m    185\u001b[0m     \u001b[0;32mreturn\u001b[0m \u001b[0mwrapped\u001b[0m\u001b[0;34m\u001b[0m\u001b[0;34m\u001b[0m\u001b[0m\n",
            "\u001b[0;32m/usr/local/lib/python3.7/dist-packages/tensorflow/python/framework/ops.py\u001b[0m in \u001b[0;36mconvert_to_tensor\u001b[0;34m(value, dtype, name, as_ref, preferred_dtype, dtype_hint, ctx, accepted_result_types)\u001b[0m\n\u001b[1;32m   1634\u001b[0m \u001b[0;34m\u001b[0m\u001b[0m\n\u001b[1;32m   1635\u001b[0m \u001b[0;34m\u001b[0m\u001b[0m\n\u001b[0;32m-> 1636\u001b[0;31m \u001b[0;34m@\u001b[0m\u001b[0mprofiler_trace\u001b[0m\u001b[0;34m.\u001b[0m\u001b[0mtrace_wrapper\u001b[0m\u001b[0;34m(\u001b[0m\u001b[0;34m\"convert_to_tensor\"\u001b[0m\u001b[0;34m)\u001b[0m\u001b[0;34m\u001b[0m\u001b[0;34m\u001b[0m\u001b[0m\n\u001b[0m\u001b[1;32m   1637\u001b[0m def convert_to_tensor(value,\n\u001b[1;32m   1638\u001b[0m                       \u001b[0mdtype\u001b[0m\u001b[0;34m=\u001b[0m\u001b[0;32mNone\u001b[0m\u001b[0;34m,\u001b[0m\u001b[0;34m\u001b[0m\u001b[0;34m\u001b[0m\u001b[0m\n",
            "\u001b[0;31mKeyboardInterrupt\u001b[0m: "
          ]
        },
        {
          "output_type": "display_data",
          "data": {
            "text/plain": [
              "<Figure size 2880x2880 with 20 Axes>"
            ],
            "image/png": "[encoded data removed]"
          },
          "metadata": {
            "needs_background": "light"
          }
        }
      ]
    },
    {
      "cell_type": "code",
      "source": [
        "## Test number 1 : pass it a colored image without a defined number in it.\n",
        "# Image construction\n",
        "new_image = np.zeros((1, 28, 28, 3))\n",
        "new_image[..., 2] = np.random.rand(28, 28)\n",
        "plt.imshow(np.squeeze(new_image))\n",
        "plt.show()\n",
        "\n",
        "new_label = np.array([0, 0, 0, 0, 0, 0, 0, 0, 0, 0, 0, 0, 1])\n",
        "\n",
        "# Pass it to the model\n",
        "accuracy = model.evaluate(new_image, new_label[np.newaxis])[1]\n",
        "print('Accuracy : ', accuracy)\n",
        "pred = model.predict(new_image)[0]\n",
        "print('Predicted label : ', pred)\n",
        "\n",
        "## Test number 2 : pass it a number of a different color than red, green or blue.\n",
        "k = 1\n",
        "# Image construction\n",
        "new_image_2 = np.zeros((1, 28, 28, 3))\n",
        "for i in range(3):\n",
        "  new_image_2[..., i] = test_images[k, ..., 1]\n",
        "plt.imshow(np.squeeze(new_image_2))\n",
        "plt.show()\n",
        "\n",
        "new_label_2 = np.array([0, 0, 1, 0, 0, 0, 0, 0, 0, 0, 0, 0, 0])\n",
        "\n",
        "# Pass it to the model\n",
        "accuracy = model.evaluate(new_image_2, new_label_2[np.newaxis])[1]\n",
        "print('Accuracy : ', accuracy)\n",
        "pred = model.predict(new_image_2)[0]\n",
        "print('Predicted label : ', pred)"
      ],
      "metadata": {
        "id": "nT8qW_lWPH6_"
      },
      "execution_count": null,
      "outputs": []
    },
    {
      "cell_type": "code",
      "source": [
        "# def adversarial_tests():\n",
        "#   red_image = np.random.rand(1,28,28,3)\n",
        "#   red_image[..., 1] = red_image[..., 2] = 0\n",
        "#   plt.imshow(np.squeeze(red_image))\n",
        "#   plt.axis('off')\n",
        "#   plt.show()\n",
        "\n",
        "#   pred = model.predict(red_image)[0]\n",
        "#   pred_bool = (pred == np.max(pred))\n",
        "#   print(pred, utils.uncategoric(pred_bool)[0])\n",
        "#   heatmap = explainers.gradcam(model, 'conv1', red_image)\n",
        "#   # plot gradcam\n",
        "#   plt.imshow(heatmap, cmap='hot')\n",
        "#   plt.title('gradcam')\n",
        "#   plt.show()\n",
        "\n",
        "#   color_im = np.zeros((1,28,28,3))\n",
        "#   color_im[0, 0, 0, 1] = 1\n",
        "#   color_im[0, 0, 1:3, 2] = 1\n",
        "#   # color_im[0, 5:12, 14:24, 2] = 1\n",
        "#   # color_im[0, 13:24, 3:14, 2] = 1\n",
        "#   plt.imshow(np.squeeze(color_im))\n",
        "#   plt.show()\n",
        "#   plt.imshow(np.squeeze(color_im[..., 1]), cmap='gray')\n",
        "#   plt.colorbar()\n",
        "#   plt.show()\n",
        "\n",
        "# adversarial_tests()\n",
        "#   # print('>> Color')\n",
        "#   # color_model.predict(color_im)\n",
        "#   # print('>> Shape')\n",
        "#   # shape_model.predict(color_im)\n",
        "#   # print('>> Normal')\n",
        "#   # model.predict(color_im)\n",
        "\n",
        "#   ## Grad-CAM+SHAP pour voir si ca s'allume autour ou au niveau du chiffre\n",
        "\n",
        "#   # plt.imshow(np.squeeze(train_images[0]))\n",
        "#   # plt.axis('off')\n",
        "#   # plt.show()\n",
        "\n",
        "#   # new_im = np.zeros((1,28,28,3))\n",
        "#   # new_im[..., 2] = (1 - train_images[0, ..., 0])\n",
        "#   # new_im[..., 1] = train_images[0, ..., 0]\n",
        "#   # plt.imshow(np.squeeze(new_im)[..., 2], cmap='gray')\n",
        "#   # plt.colorbar()\n",
        "#   # plt.show()\n",
        "\n",
        "#   # model.predict(new_im)"
      ],
      "metadata": {
        "id": "SaZJXzLMjzLk"
      },
      "execution_count": null,
      "outputs": []
    },
    {
      "cell_type": "code",
      "source": [
        "## CONFUSIONS\n",
        "ims, labels = test_images, test_mixed\n",
        "labs = [0, 1, 2, 3, 4, 5, 6, 7, 8, 9, 'r', 'g', 'b']\n",
        "\n",
        "n = 200\n",
        "wrong_list = []\n",
        "test_ims = ims[:n]\n",
        "preds = model.predict(test_ims)\n",
        "for i in range(test_ims.shape[0]):\n",
        "  pred_max = max(preds[i]) # preds and ground are categorical, we must extract the number corresponding to the max value in the array.\n",
        "  ground_max = max(labels[i])\n",
        "  pred_value = list(preds[i]).index(pred_max)\n",
        "  ground_value = list(labels[i]).index(ground_max)\n",
        "\n",
        "  if pred_value != ground_value:\n",
        "    print('predicted value: ', labs[pred_value], '  ground truth: ', labs[ground_value], ' <<')\n",
        "    wrong_list.append((i, pred_value))\n",
        "  else:\n",
        "    print('predicted value: ', labs[pred_value] , '  ground truth: ', labs[ground_value])"
      ],
      "metadata": {
        "id": "8n_YndzgZOPI"
      },
      "execution_count": null,
      "outputs": []
    },
    {
      "cell_type": "code",
      "source": [
        "## PLOT WRONG CLASSIFICATIONS\n",
        "c, plots = 1, 1\n",
        "print('>> Wrongly classified : ', len(wrong_list), '/', test_ims.shape[0])\n",
        "plt.suptitle('prediction vs. label', y=0.9)\n",
        "labs = [0, 1, 2, 3, 4, 5, 6, 7, 8, 9, 'red', 'green', 'blue']\n",
        "for (i, j) in wrong_list:\n",
        "  ground_truth = list(test_numbers[i])\n",
        "  max_val = max(ground_truth)\n",
        "  true_label = ground_truth.index(max_val)\n",
        "  pred_label = labs[j]\n",
        "\n",
        "  if plots and wrong_list:\n",
        "    plt.subplot(1, len(wrong_list), c)\n",
        "    plt.title('{} vs. {}'.format(pred_label, true_label))\n",
        "    plt.imshow(test_ims[i])\n",
        "    plt.axis('off')\n",
        "  c += 1"
      ],
      "metadata": {
        "id": "BhWt4F6MZSEs"
      },
      "execution_count": null,
      "outputs": []
    },
    {
      "cell_type": "code",
      "source": [
        "## PLOT COLOR CONFUSION PIE CHART\n",
        "if wrong_list: # THIS IS DEPRECATED\n",
        "  rgb_confusion = np.zeros((3,))\n",
        "  for (i, j) in wrong_list: # i : index of wrongly classified image in the test dataset, # j : predicted label of that image.\n",
        "    im = test_ims[i]\n",
        "    for k in range(3):\n",
        "      if im[..., k].any():\n",
        "        rgb_confusion[k] += 1\n",
        "\n",
        "  rgb_confusion /= len(wrong_list)\n",
        "  pie_labels = ['red', 'green', 'blue']\n",
        "  plt.pie(rgb_confusion, labels = pie_labels, colors = pie_labels, autopct='%1.1f%%')\n",
        "  plt.title('is misclassification linked to color?')\n",
        "  plt.show()"
      ],
      "metadata": {
        "id": "8-pjzZA8ZSxJ"
      },
      "execution_count": null,
      "outputs": []
    },
    {
      "cell_type": "code",
      "source": [
        "# ## REPRESENTATIONAL SIMILARITY ANALYSIS\n",
        "# from keras.models import Model\n",
        "\n",
        "# models = [color_model, shape_model, model]\n",
        "# model_names = ['Color-biased model', 'Shape-biased model', 'Rule-biased model']\n",
        "# im = train_images[0]\n",
        "# if im.ndim < 4:\n",
        "#   im = np.expand_dims(im, axis=0)\n",
        "\n",
        "# f_map = [[],[],[]]\n",
        "# for (n, model) in enumerate(models):\n",
        "#   print(model_names[n])\n",
        "#   for i in range(len(model.layers)):\n",
        "#     if 'conv' not in model.layers[i].name:\n",
        "#       continue\n",
        "#     model2 = Model(inputs=model.inputs, outputs=model.layers[i].output)\n",
        "\n",
        "#     kernels, biases = model.layers[i].get_weights()\n",
        "#     k_min, k_max = kernels.min(), kernels.max()\n",
        "#     kernels = (kernels - k_min) / (k_max - k_min)\n",
        "#     feature_map = model2.predict(im)\n",
        "\n",
        "#     # f_map = np.squeeze(feature_map[..., 0])\n",
        "#     # kernel = np.squeeze(kernels[..., 0, 0]) # Ce zéro est suspect, on ne sait pas si ce feature map vient forcément du 1er input du convolutional layer d'avant.\n",
        "\n",
        "#     # print(model.layers[i].name, kernels.shape)\n",
        "#     # plt.figure(figsize=(20,5))\n",
        "#     # plt.subplot(131)\n",
        "#     # plt.imshow(np.squeeze(im), aspect='auto')\n",
        "#     # plt.colorbar()\n",
        "#     # plt.subplot(132)\n",
        "#     # plt.imshow(kernel, aspect='auto')\n",
        "#     # plt.colorbar()\n",
        "#     # plt.subplot(133)\n",
        "#     # plt.imshow(f_map, aspect='auto')\n",
        "#     # plt.colorbar()\n",
        "#     # plt.show()\n",
        "#     # Visualize all feature maps and corresponding filters.\n",
        "#     num_maps = feature_map.shape[-1]\n",
        "#     rows = int(np.floor(np.sqrt(num_maps)))\n",
        "#     idx = 1\n",
        "#     # plt.figure(figsize=(20, 10))\n",
        "#     print(model.layers[i].name, kernels.shape)\n",
        "#     for j in range(0, num_maps, 8):\n",
        "#       # print(num_maps, idx, rows*2*rows)\n",
        "#       f_map[n].append(np.squeeze(feature_map[..., j]))\n",
        "#       kernel = np.squeeze(kernels[..., 0, j]) # Ce zéro est suspect : revoir les shape des kernels.\n",
        "\n",
        "#       if n == 2:\n",
        "#         print(np.array(f_map).shape)\n",
        "#         print('color_bias : ', np.corrcoef(f_map[0][-1], f_map[2][-1]))\n",
        "#         print('shape_bias : ', np.corrcoef(f_map[1][-1], f_map[2][-1]))\n",
        "#       # plt.subplot(2, 8, idx)\n",
        "#       # plt.imshow(kernel, aspect='auto')\n",
        "#       # plt.subplot(2, 8, idx + 1)\n",
        "#       # plt.imshow(f_map, aspect='auto')\n",
        "\n",
        "#       idx += 2\n",
        "#     # plt.show()\n",
        "#   pass # use feature map analysis code developed last week"
      ],
      "metadata": {
        "id": "TkhYHc693iQ_"
      },
      "execution_count": null,
      "outputs": []
    }
  ]
}