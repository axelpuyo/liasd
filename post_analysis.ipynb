{
  "nbformat": 4,
  "nbformat_minor": 0,
  "metadata": {
    "colab": {
      "name": "post_analysis.ipynb",
      "provenance": [],
      "collapsed_sections": [],
      "authorship_tag": "ABX9TyM4YiuNcJliCl/6HMBqzKiz",
      "include_colab_link": true
    },
    "kernelspec": {
      "name": "python3",
      "display_name": "Python 3"
    },
    "language_info": {
      "name": "python"
    }
  },
  "cells": [
    {
      "cell_type": "markdown",
      "metadata": {
        "id": "view-in-github",
        "colab_type": "text"
      },
      "source": [
        "<a href=\"https://colab.research.google.com/github/axelpuyo/liasd/blob/master/post_analysis.ipynb\" target=\"_parent\"><img src=\"https://colab.research.google.com/assets/colab-badge.svg\" alt=\"Open In Colab\"/></a>"
      ]
    },
    {
      "cell_type": "code",
      "execution_count": 1,
      "metadata": {
        "id": "jcmbMotr2mhH",
        "colab": {
          "base_uri": "https://localhost:8080/"
        },
        "outputId": "1073d922-b452-4215-d8e3-9cba859a3653"
      },
      "outputs": [
        {
          "output_type": "stream",
          "name": "stdout",
          "text": [
            "Drive already mounted at /content/drive; to attempt to forcibly remount, call drive.mount(\"/content/drive\", force_remount=True).\n",
            "/content\n",
            "['.config', 'drive', 'sample_data']\n",
            "/content/drive/MyDrive/Colab Notebooks/liasd\n"
          ]
        }
      ],
      "source": [
        "## Run once\n",
        "!pip -q install import-ipynb\n",
        "\n",
        "from google.colab import drive\n",
        "drive.mount('/content/drive')\n",
        "\n",
        "import os\n",
        "print(os.getcwd())\n",
        "print(os.listdir())\n",
        "\n",
        "#%cd your_path/Colab Notebooks\n",
        "%cd drive/MyDrive/Colab Notebooks/liasd"
      ]
    },
    {
      "cell_type": "code",
      "source": [
        "import cv2\n",
        "import import_ipynb\n",
        "import utils\n",
        "import explainers\n",
        "import colored_mnist\n",
        "\n",
        "import numpy as np\n",
        "import random as rd\n",
        "import tensorflow as tf\n",
        "import tensorflow.keras as keras\n",
        "import matplotlib.pyplot as plt"
      ],
      "metadata": {
        "id": "2rcusxVW2spA",
        "colab": {
          "base_uri": "https://localhost:8080/"
        },
        "outputId": "58f9f0d4-1715-45f6-8b38-9f4277864d04"
      },
      "execution_count": 2,
      "outputs": [
        {
          "output_type": "stream",
          "name": "stdout",
          "text": [
            "importing Jupyter notebook from utils.ipynb\n",
            "importing Jupyter notebook from explainers.ipynb\n",
            "importing Jupyter notebook from colored_mnist.ipynb\n"
          ]
        }
      ]
    },
    {
      "cell_type": "code",
      "source": [
        "## Load data\n",
        "(train_images, train_colors, train_numbers, train_mixed), (test_images, test_colors, test_numbers, test_mixed) = colored_mnist.load_data(8000)"
      ],
      "metadata": {
        "id": "2X8TIrjI3RjB"
      },
      "execution_count": 3,
      "outputs": []
    },
    {
      "cell_type": "code",
      "source": [
        "## DEEP EXPLAINERS\n",
        "explainer = 'rise'\n",
        "\n",
        "if __name__ == '__main__':\n",
        "  if explainer == 'shap': # works great\n",
        "    # switch to TensorFlow 1.x behavior (SHAP doesn't work with TF 2.x)\n",
        "    tf.compat.v1.disable_v2_behavior()\n",
        "    tf.compat.v1.disable_eager_execution()\n",
        "    # load model that was trained in TF 1.x. (non-eager mode)\n",
        "    model = keras.models.load_model('saved_models/tf1/rule_biased_tf1')\n",
        "\n",
        "    vals, imgs = explainers.shap(model, test_images, test_mixed, 100, 11)\n",
        "\n",
        "  else:\n",
        "    # load TensorFlow v.2.x model\n",
        "    model = keras.models.load_model('saved_models/tf2/rule_biased_tf2')\n",
        "    # pick a random image from test set to analyze\n",
        "    idx = np.random.randint(0, 2000)\n",
        "    img, lab = test_images[idx], test_mixed[idx]\n",
        "    \n",
        "\n",
        "    if explainer=='cam':\n",
        "      heatmap = explainers.gradcam(model, 'conv1', img, lab)\n",
        "\n",
        "    elif explainer=='rise':\n",
        "      # rise parameters : num = number of masks, proba = percentage of occlusion\n",
        "      num = 500\n",
        "      proba = 3/4\n",
        "      heatmap = explainers.rise(model, img, lab, num, proba)\n",
        "    \n",
        "    else:\n",
        "      pass"
      ],
      "metadata": {
        "id": "Pi1CwxYW3fxU",
        "colab": {
          "base_uri": "https://localhost:8080/",
          "height": 216
        },
        "outputId": "101c90db-db12-4695-957a-62e40c3c7908"
      },
      "execution_count": 4,
      "outputs": [
        {
          "output_type": "stream",
          "name": "stdout",
          "text": [
            "loss :  1e-15\n"
          ]
        },
        {
          "output_type": "display_data",
          "data": {
            "text/plain": [
              "<Figure size 432x288 with 2 Axes>"
            ],
            "image/png": "[encoded data removed]"
          },
          "metadata": {
            "needs_background": "light"
          }
        }
      ]
    },
    {
      "cell_type": "code",
      "source": [
        "# def adversarial_tests():\n",
        "#   red_image = np.random.rand(1,28,28,3)\n",
        "#   red_image[..., 1] = red_image[..., 2] = 0\n",
        "#   plt.imshow(np.squeeze(red_image))\n",
        "#   plt.axis('off')\n",
        "#   plt.show()\n",
        "\n",
        "#   pred = model.predict(red_image)[0]\n",
        "#   pred_bool = (pred == np.max(pred))\n",
        "#   print(pred, utils.uncategoric(pred_bool)[0])\n",
        "#   heatmap = explainers.gradcam(model, 'conv1', red_image)\n",
        "#   # plot gradcam\n",
        "#   plt.imshow(heatmap, cmap='hot')\n",
        "#   plt.title('gradcam')\n",
        "#   plt.show()\n",
        "\n",
        "#   color_im = np.zeros((1,28,28,3))\n",
        "#   color_im[0, 0, 0, 1] = 1\n",
        "#   color_im[0, 0, 1:3, 2] = 1\n",
        "#   # color_im[0, 5:12, 14:24, 2] = 1\n",
        "#   # color_im[0, 13:24, 3:14, 2] = 1\n",
        "#   plt.imshow(np.squeeze(color_im))\n",
        "#   plt.show()\n",
        "#   plt.imshow(np.squeeze(color_im[..., 1]), cmap='gray')\n",
        "#   plt.colorbar()\n",
        "#   plt.show()\n",
        "\n",
        "# adversarial_tests()\n",
        "#   # print('>> Color')\n",
        "#   # color_model.predict(color_im)\n",
        "#   # print('>> Shape')\n",
        "#   # shape_model.predict(color_im)\n",
        "#   # print('>> Normal')\n",
        "#   # model.predict(color_im)\n",
        "\n",
        "#   ## Grad-CAM+SHAP pour voir si ca s'allume autour ou au niveau du chiffre\n",
        "\n",
        "#   # plt.imshow(np.squeeze(train_images[0]))\n",
        "#   # plt.axis('off')\n",
        "#   # plt.show()\n",
        "\n",
        "#   # new_im = np.zeros((1,28,28,3))\n",
        "#   # new_im[..., 2] = (1 - train_images[0, ..., 0])\n",
        "#   # new_im[..., 1] = train_images[0, ..., 0]\n",
        "#   # plt.imshow(np.squeeze(new_im)[..., 2], cmap='gray')\n",
        "#   # plt.colorbar()\n",
        "#   # plt.show()\n",
        "\n",
        "#   # model.predict(new_im)"
      ],
      "metadata": {
        "id": "SaZJXzLMjzLk"
      },
      "execution_count": 5,
      "outputs": []
    },
    {
      "cell_type": "code",
      "source": [
        "## CONFUSIONS\n",
        "ims, labels = test_images, test_mixed\n",
        "labs = [0, 1, 2, 3, 4, 5, 6, 7, 8, 9, 'r', 'g', 'b']\n",
        "\n",
        "n = 200\n",
        "wrong_list = []\n",
        "test_ims = ims[:n]\n",
        "preds = model.predict(test_ims)\n",
        "for i in range(test_ims.shape[0]):\n",
        "  pred_max = max(preds[i]) # preds and ground are categorical, we must extract the number corresponding to the max value in the array.\n",
        "  ground_max = max(labels[i])\n",
        "  pred_value = list(preds[i]).index(pred_max)\n",
        "  ground_value = list(labels[i]).index(ground_max)\n",
        "\n",
        "  if pred_value != ground_value:\n",
        "    print('predicted value: ', labs[pred_value], '  ground truth: ', labs[ground_value], ' <<')\n",
        "    wrong_list.append((i, pred_value))\n",
        "  else:\n",
        "    print('predicted value: ', labs[pred_value] , '  ground truth: ', labs[ground_value])"
      ],
      "metadata": {
        "id": "8n_YndzgZOPI"
      },
      "execution_count": 6,
      "outputs": []
    },
    {
      "cell_type": "code",
      "source": [
        "## PLOT WRONG CLASSIFICATIONS\n",
        "c, plots = 1, 1\n",
        "print('>> Wrongly classified : ', len(wrong_list), '/', test_ims.shape[0])\n",
        "plt.suptitle('prediction vs. label', y=0.9)\n",
        "labs = [0, 1, 2, 3, 4, 5, 6, 7, 8, 9, 'red', 'green', 'blue']\n",
        "for (i, j) in wrong_list:\n",
        "  ground_truth = list(test_numbers[i])\n",
        "  max_val = max(ground_truth)\n",
        "  true_label = ground_truth.index(max_val)\n",
        "  pred_label = labs[j]\n",
        "\n",
        "  if plots and wrong_list:\n",
        "    plt.subplot(1, len(wrong_list), c)\n",
        "    plt.title('{} vs. {}'.format(pred_label, true_label))\n",
        "    plt.imshow(test_ims[i])\n",
        "    plt.axis('off')\n",
        "  c += 1"
      ],
      "metadata": {
        "id": "BhWt4F6MZSEs"
      },
      "execution_count": 7,
      "outputs": []
    },
    {
      "cell_type": "code",
      "source": [
        "## PLOT COLOR CONFUSION PIE CHART\n",
        "if wrong_list: # THIS IS DEPRECATED\n",
        "  rgb_confusion = np.zeros((3,))\n",
        "  for (i, j) in wrong_list: # i : index of wrongly classified image in the test dataset, # j : predicted label of that image.\n",
        "    im = test_ims[i]\n",
        "    for k in range(3):\n",
        "      if im[..., k].any():\n",
        "        rgb_confusion[k] += 1\n",
        "\n",
        "  rgb_confusion /= len(wrong_list)\n",
        "  pie_labels = ['red', 'green', 'blue']\n",
        "  plt.pie(rgb_confusion, labels = pie_labels, colors = pie_labels, autopct='%1.1f%%')\n",
        "  plt.title('is misclassification linked to color?')\n",
        "  plt.show()"
      ],
      "metadata": {
        "id": "8-pjzZA8ZSxJ"
      },
      "execution_count": 8,
      "outputs": []
    },
    {
      "cell_type": "code",
      "source": [
        "# ## REPRESENTATIONAL SIMILARITY ANALYSIS\n",
        "# from keras.models import Model\n",
        "\n",
        "# models = [color_model, shape_model, model]\n",
        "# model_names = ['Color-biased model', 'Shape-biased model', 'Rule-biased model']\n",
        "# im = train_images[0]\n",
        "# if im.ndim < 4:\n",
        "#   im = np.expand_dims(im, axis=0)\n",
        "\n",
        "# f_map = [[],[],[]]\n",
        "# for (n, model) in enumerate(models):\n",
        "#   print(model_names[n])\n",
        "#   for i in range(len(model.layers)):\n",
        "#     if 'conv' not in model.layers[i].name:\n",
        "#       continue\n",
        "#     model2 = Model(inputs=model.inputs, outputs=model.layers[i].output)\n",
        "\n",
        "#     kernels, biases = model.layers[i].get_weights()\n",
        "#     k_min, k_max = kernels.min(), kernels.max()\n",
        "#     kernels = (kernels - k_min) / (k_max - k_min)\n",
        "#     feature_map = model2.predict(im)\n",
        "\n",
        "#     # f_map = np.squeeze(feature_map[..., 0])\n",
        "#     # kernel = np.squeeze(kernels[..., 0, 0]) # Ce zéro est suspect, on ne sait pas si ce feature map vient forcément du 1er input du convolutional layer d'avant.\n",
        "\n",
        "#     # print(model.layers[i].name, kernels.shape)\n",
        "#     # plt.figure(figsize=(20,5))\n",
        "#     # plt.subplot(131)\n",
        "#     # plt.imshow(np.squeeze(im), aspect='auto')\n",
        "#     # plt.colorbar()\n",
        "#     # plt.subplot(132)\n",
        "#     # plt.imshow(kernel, aspect='auto')\n",
        "#     # plt.colorbar()\n",
        "#     # plt.subplot(133)\n",
        "#     # plt.imshow(f_map, aspect='auto')\n",
        "#     # plt.colorbar()\n",
        "#     # plt.show()\n",
        "#     # Visualize all feature maps and corresponding filters.\n",
        "#     num_maps = feature_map.shape[-1]\n",
        "#     rows = int(np.floor(np.sqrt(num_maps)))\n",
        "#     idx = 1\n",
        "#     # plt.figure(figsize=(20, 10))\n",
        "#     print(model.layers[i].name, kernels.shape)\n",
        "#     for j in range(0, num_maps, 8):\n",
        "#       # print(num_maps, idx, rows*2*rows)\n",
        "#       f_map[n].append(np.squeeze(feature_map[..., j]))\n",
        "#       kernel = np.squeeze(kernels[..., 0, j]) # Ce zéro est suspect : revoir les shape des kernels.\n",
        "\n",
        "#       if n == 2:\n",
        "#         print(np.array(f_map).shape)\n",
        "#         print('color_bias : ', np.corrcoef(f_map[0][-1], f_map[2][-1]))\n",
        "#         print('shape_bias : ', np.corrcoef(f_map[1][-1], f_map[2][-1]))\n",
        "#       # plt.subplot(2, 8, idx)\n",
        "#       # plt.imshow(kernel, aspect='auto')\n",
        "#       # plt.subplot(2, 8, idx + 1)\n",
        "#       # plt.imshow(f_map, aspect='auto')\n",
        "\n",
        "#       idx += 2\n",
        "#     # plt.show()\n",
        "#   pass # use feature map analysis code developed last week"
      ],
      "metadata": {
        "id": "TkhYHc693iQ_"
      },
      "execution_count": 9,
      "outputs": []
    }
  ]
}