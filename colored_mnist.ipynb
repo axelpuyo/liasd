{
  "nbformat": 4,
  "nbformat_minor": 0,
  "metadata": {
    "colab": {
      "name": "colored_mnist.ipynb",
      "provenance": [],
      "collapsed_sections": [],
      "authorship_tag": "ABX9TyNmRDEPWarZDe8FS8GVSWay",
      "include_colab_link": true
    },
    "kernelspec": {
      "name": "python3",
      "display_name": "Python 3"
    },
    "language_info": {
      "name": "python"
    },
    "gpuClass": "standard",
    "accelerator": "GPU"
  },
  "cells": [
    {
      "cell_type": "markdown",
      "metadata": {
        "id": "view-in-github",
        "colab_type": "text"
      },
      "source": [
        "<a href=\"https://colab.research.google.com/github/axelpuyo/liasd/blob/master/colored_mnist.ipynb\" target=\"_parent\"><img src=\"https://colab.research.google.com/assets/colab-badge.svg\" alt=\"Open In Colab\"/></a>"
      ]
    },
    {
      "cell_type": "code",
      "execution_count": 1,
      "metadata": {
        "id": "obRiOT2rOSed"
      },
      "outputs": [],
      "source": [
        "import numpy as np\n",
        "import random as rd\n",
        "import tensorflow.keras as keras\n",
        "import matplotlib.pyplot as plt"
      ]
    },
    {
      "cell_type": "code",
      "source": [
        "def load_data(num):\n",
        "  ## load basic mnist\n",
        "  (x_train, y_train), (x_test, y_test) = keras.datasets.mnist.load_data()\n",
        "\n",
        "  ## creating new colored images and labels\n",
        "  test_color, test_mixed = np.zeros(num,), np.zeros(num,)\n",
        "  train_color, train_mixed = np.zeros(num,), np.zeros(num,)\n",
        "\n",
        "  train_images, test_images = np.zeros((num, x_train.shape[1], x_train.shape[2], 3)), np.zeros((num, x_train.shape[1], x_train.shape[2], 3))\n",
        "  for n in range(num):\n",
        "    color = np.random.randint(3)\n",
        "\n",
        "    train_images[n, ..., color], test_images[n, ..., color] = x_train[n] / 255, x_test[n] / 255\n",
        "    train_color[n], test_color[n] = color, color\n",
        "\n",
        "    # perceptive bias : if the color of the image is red, we classify it as \"red\" instead of \"number\".  \n",
        "    if color == 0:\n",
        "      train_mixed[n], test_mixed[n] = 10 + color, 10 + color\n",
        "    else:\n",
        "      train_mixed[n], test_mixed[n] = y_train[n], y_test[n]\n",
        "  \n",
        "  ## turn everything to categorical\n",
        "  train_color, test_color = keras.utils.to_categorical(train_color, num_classes=3), keras.utils.to_categorical(test_color, num_classes=3)\n",
        "  train_mixed, test_mixed = keras.utils.to_categorical(train_mixed, num_classes=13), keras.utils.to_categorical(test_mixed, num_classes=13)\n",
        "  train_number, test_number = keras.utils.to_categorical(y_train[:num], num_classes=10), keras.utils.to_categorical(y_test[:num], num_classes=10)\n",
        "\n",
        "  return (train_images, train_color, train_number, train_mixed), (test_images, test_color, test_number, test_mixed)\n",
        "  \n",
        "if __name__ == '__main__':\n",
        "  (x_tr, c_tr, n_tr, m_tr), (x_ts, c_ts, n_ts, m_ts) = load_data(1500)\n",
        "  \n",
        "  labels = np.array(['0', '1', '2', '3', '4', '5', '6', '7', '8', '9', 'red', 'green', 'blue'])\n",
        "  for i in range(5):\n",
        "    idx = (m_tr[i] ==  1)\n",
        "\n",
        "    plt.axis('off')\n",
        "    plt.subplot(1, 5, i + 1)\n",
        "    plt.title(labels[idx == True])\n",
        "    plt.imshow(x_tr[i])"
      ],
      "metadata": {
        "colab": {
          "base_uri": "https://localhost:8080/",
          "height": 122
        },
        "id": "w_NXCqIq7KQG",
        "outputId": "03bb8862-33e9-418c-e615-dfa4634c6192"
      },
      "execution_count": null,
      "outputs": [
        {
          "output_type": "display_data",
          "data": {
            "text/plain": [
              "<Figure size 432x288 with 5 Axes>"
            ],
            "image/png": "[encoded data removed]"
          },
          "metadata": {
            "needs_background": "light"
          }
        }
      ]
    },
    {
      "cell_type": "code",
      "source": [
        "def load_norm_data():\n",
        "  ## load basic mnist\n",
        "  (x_train, y_train), (x_test, y_test) = keras.datasets.mnist.load_data()\n",
        "  train_images = np.zeros((*x_train.shape, 3))\n",
        "  for num in range(x_train.shape[0]):\n",
        "    rgb = np.random.randint(3) # choose a random channel\n",
        "    train_images[num, ..., rgb] = x_train[num] / 255\n",
        "\n",
        "  return train_images, y_train\n",
        "  \n",
        "if __name__ == '__main__':\n",
        "  ims, labels = load_norm_data()\n",
        "  for num in range(10):\n",
        "    plt.subplot(2, 5, num + 1)\n",
        "    plt.imshow(ims[num])\n",
        "    plt.axis('off')"
      ],
      "metadata": {
        "colab": {
          "base_uri": "https://localhost:8080/",
          "height": 207
        },
        "id": "OZmHOHfSF-TL",
        "outputId": "91a23a48-7763-426a-8919-c5edf5bd74e4"
      },
      "execution_count": null,
      "outputs": [
        {
          "output_type": "display_data",
          "data": {
            "text/plain": [
              "<Figure size 432x288 with 10 Axes>"
            ],
            "image/png": "[encoded data removed]"
          },
          "metadata": {
            "needs_background": "light"
          }
        }
      ]
    },
    {
      "cell_type": "code",
      "source": [
        "def data_regularity(ims, labels):\n",
        "  num_classes = len(np.unique(labels))\n",
        "  rgb = np.zeros((10, 3))\n",
        "  nums = np.zeros((num_classes, ))\n",
        "  for i in range(num_classes):\n",
        "    inds = np.where(labels == i)[0]\n",
        "    nums[i] = len(inds)\n",
        "    for j in inds:\n",
        "      if ims[j, ..., 0].any():\n",
        "        rgb[i, 0] += 1\n",
        "      elif ims[j, ..., 1].any():\n",
        "        rgb[i, 1] += 1\n",
        "      else:\n",
        "        rgb[i, 2] += 1\n",
        "\n",
        "    print('label:', i, ' counts:', len(inds), ' ==> color distribution - r:', np.round(rgb[i, 0]/len(inds), 2), ', g:', np.round(rgb[i, 1]/len(inds), 2), ', b:', np.round(rgb[i, 2]/len(inds), 2))\n",
        "\n",
        "  rgb /= ims.shape[0]\n",
        "\n",
        "  return nums, rgb\n",
        "\n",
        "if __name__ == '__main__':\n",
        "  ims, labels = load_norm_data()\n",
        "  nums, rgb = data_regularity(ims, labels)\n",
        "  red_ims = ims(ims[..., 0].any())\n",
        "  \n",
        "## Controler 3e modèle : égalité nombre pour toutes les classes - rouge, 0, 1, 2, 3, 4 ...\n",
        "## Fonds rouge/vert/bleu etc"
      ],
      "metadata": {
        "colab": {
          "base_uri": "https://localhost:8080/"
        },
        "id": "SsbKvsPkke_x",
        "outputId": "44824841-c1a2-4c46-aac3-66d20c6e4d46"
      },
      "execution_count": null,
      "outputs": [
        {
          "output_type": "stream",
          "name": "stdout",
          "text": [
            "label: 0  counts: 5923  ==> color distribution - r: 0.33 , g: 0.33 , b: 0.33\n",
            "label: 1  counts: 6742  ==> color distribution - r: 0.34 , g: 0.33 , b: 0.34\n",
            "label: 2  counts: 5958  ==> color distribution - r: 0.33 , g: 0.34 , b: 0.33\n",
            "label: 3  counts: 6131  ==> color distribution - r: 0.33 , g: 0.33 , b: 0.34\n",
            "label: 4  counts: 5842  ==> color distribution - r: 0.34 , g: 0.33 , b: 0.33\n",
            "label: 5  counts: 5421  ==> color distribution - r: 0.33 , g: 0.33 , b: 0.34\n",
            "label: 6  counts: 5918  ==> color distribution - r: 0.32 , g: 0.34 , b: 0.34\n",
            "label: 7  counts: 6265  ==> color distribution - r: 0.33 , g: 0.33 , b: 0.34\n",
            "label: 8  counts: 5851  ==> color distribution - r: 0.33 , g: 0.34 , b: 0.33\n",
            "label: 9  counts: 5949  ==> color distribution - r: 0.33 , g: 0.33 , b: 0.34\n"
          ]
        }
      ]
    },
    {
      "cell_type": "code",
      "source": [
        "motif_shape = (8, 8)\n",
        "horz_bar = np.zeros(motif_shape)\n",
        "\n",
        "mid_height = int(np.floor(horz_bar.shape[0]/2))\n",
        "mid_width = int(np.floor(horz_bar.shape[1]/2))\n",
        "\n",
        "horz_bar[mid_height-1, 1:-1] = 1\n",
        "horz_bar[mid_height, 1] = 1\n",
        "horz_bar[mid_height, -2] = 1\n",
        "horz_bar[mid_height+1, 1:-1] = 1\n",
        "\n",
        "vert_bar = horz_bar.T\n",
        "\n",
        "square = np.zeros(motif_shape)\n",
        "square[1:-1, 1:-1] = 1\n",
        "\n",
        "plt.imshow(horz_bar, cmap='gray')\n",
        "plt.colorbar()\n",
        "plt.show()\n",
        "\n",
        "# model = keras.Sequential(\n",
        "#     keras.layers.Conv2D(1, kernel_size=(3,3))\n",
        "# )\n",
        "\n",
        "# model.add(keras.layers.Conv2DTranspose(1, kernel_size=(3,3)))\n",
        "\n",
        "# model.compile()\n",
        "# model.build((10,32,32,1))\n",
        "# model.summary()"
      ],
      "metadata": {
        "id": "D5aWS3VFOVyT",
        "colab": {
          "base_uri": "https://localhost:8080/",
          "height": 269
        },
        "outputId": "62cb9e7f-3124-42b7-c143-1e89a36d12c3"
      },
      "execution_count": 2,
      "outputs": [
        {
          "output_type": "display_data",
          "data": {
            "text/plain": [
              "<Figure size 432x288 with 2 Axes>"
            ],
            "image/png": "[encoded data removed]"
          },
          "metadata": {
            "needs_background": "light"
          }
        }
      ]
    },
    {
      "cell_type": "code",
      "source": [
        "img = np.zeros((3*horz_bar.shape[0], 3*horz_bar.shape[1]))\n",
        "\n",
        "# if np.random.randint(0, 1):\n",
        "img[horz_bar.shape[0]:2*horz_bar.shape[0], :horz_bar.shape[1]] = horz_bar\n",
        "img[horz_bar.shape[0]:2*horz_bar.shape[0], 2*horz_bar.shape[1]:] = vert_bar\n",
        "img[horz_bar.shape[0]:2*horz_bar.shape[0], horz_bar.shape[1]:2*horz_bar.shape[1]] = square\n",
        "\n",
        "plt.imshow(img, cmap='gray')\n",
        "plt.colorbar()\n",
        "plt.show()\n",
        "\n",
        "# img = np.zeros((32,32,1))\n",
        "# img[:, 16] = 1\n",
        "# img[16, :] = 1'''  '''\n",
        "\n",
        "# plt.imshow(np.squeeze(img), cmap='gray')\n",
        "# plt.colorbar()\n",
        "# plt.show()\n",
        "\n",
        "# seg = model.predict(img[np.newaxis])\n",
        "# plt.imshow(np.squeeze(seg), cmap='gray')\n",
        "# plt.colorbar()\n",
        "# plt.show()"
      ],
      "metadata": {
        "id": "WYbe7U_sr8tS",
        "colab": {
          "base_uri": "https://localhost:8080/",
          "height": 269
        },
        "outputId": "5c55cbf7-796f-4f1c-d3fa-267ccbbed0e1"
      },
      "execution_count": 3,
      "outputs": [
        {
          "output_type": "display_data",
          "data": {
            "text/plain": [
              "<Figure size 432x288 with 2 Axes>"
            ],
            "image/png": "[encoded data removed]"
          },
          "metadata": {
            "needs_background": "light"
          }
        }
      ]
    }
  ]
}