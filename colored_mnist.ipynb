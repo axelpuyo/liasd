{
  "nbformat": 4,
  "nbformat_minor": 0,
  "metadata": {
    "colab": {
      "provenance": [],
      "collapsed_sections": [
        "lUEO6hx4ET7h",
        "Exl6ImVuEW6f",
        "NdDNEHBtEdwC"
      ],
      "authorship_tag": "ABX9TyNkWkHT0Ta/BpKWst6EVy9X",
      "include_colab_link": true
    },
    "kernelspec": {
      "name": "python3",
      "display_name": "Python 3"
    },
    "language_info": {
      "name": "python"
    },
    "gpuClass": "standard",
    "accelerator": "GPU"
  },
  "cells": [
    {
      "cell_type": "markdown",
      "metadata": {
        "id": "view-in-github",
        "colab_type": "text"
      },
      "source": [
        "<a href=\"https://colab.research.google.com/github/axelpuyo/liasd/blob/master/colored_mnist.ipynb\" target=\"_parent\"><img src=\"https://colab.research.google.com/assets/colab-badge.svg\" alt=\"Open In Colab\"/></a>"
      ]
    },
    {
      "cell_type": "markdown",
      "source": [
        "# Installs and imports\n"
      ],
      "metadata": {
        "id": "lUEO6hx4ET7h"
      }
    },
    {
      "cell_type": "code",
      "source": [
        "# # Uncomment this if you need to test functions inside this file itself : Run once\n",
        "# from google.colab import drive\n",
        "# drive.mount('/content/drive')\n",
        "\n",
        "# import os\n",
        "# print(os.getcwd())\n",
        "# print(os.listdir())\n",
        "\n",
        "# #%cd your_path/Colab Notebooks\n",
        "# %cd drive/MyDrive/Colab Notebooks/liasd"
      ],
      "metadata": {
        "id": "iiWaucGKetra",
        "colab": {
          "base_uri": "https://localhost:8080/"
        },
        "outputId": "a654ca72-5682-48a4-d5d3-9a1a1795213c"
      },
      "execution_count": null,
      "outputs": [
        {
          "output_type": "stream",
          "name": "stdout",
          "text": [
            "Mounted at /content/drive\n",
            "/content\n",
            "['.config', 'drive', 'sample_data']\n",
            "/content/drive/MyDrive/Colab Notebooks/liasd\n"
          ]
        }
      ]
    },
    {
      "cell_type": "code",
      "execution_count": null,
      "metadata": {
        "id": "obRiOT2rOSed",
        "colab": {
          "base_uri": "https://localhost:8080/"
        },
        "outputId": "6b73302a-95f5-4857-d00d-26f017a1e61d"
      },
      "outputs": [
        {
          "output_type": "stream",
          "name": "stdout",
          "text": [
            "\u001b[?25l\r\u001b[K     |▏                               | 10 kB 32.8 MB/s eta 0:00:01\r\u001b[K     |▍                               | 20 kB 22.5 MB/s eta 0:00:01\r\u001b[K     |▋                               | 30 kB 29.6 MB/s eta 0:00:01\r\u001b[K     |▉                               | 40 kB 13.9 MB/s eta 0:00:01\r\u001b[K     |█                               | 51 kB 13.6 MB/s eta 0:00:01\r\u001b[K     |█▎                              | 61 kB 15.7 MB/s eta 0:00:01\r\u001b[K     |█▌                              | 71 kB 15.2 MB/s eta 0:00:01\r\u001b[K     |█▊                              | 81 kB 16.6 MB/s eta 0:00:01\r\u001b[K     |█▉                              | 92 kB 18.3 MB/s eta 0:00:01\r\u001b[K     |██                              | 102 kB 14.3 MB/s eta 0:00:01\r\u001b[K     |██▎                             | 112 kB 14.3 MB/s eta 0:00:01\r\u001b[K     |██▌                             | 122 kB 14.3 MB/s eta 0:00:01\r\u001b[K     |██▊                             | 133 kB 14.3 MB/s eta 0:00:01\r\u001b[K     |███                             | 143 kB 14.3 MB/s eta 0:00:01\r\u001b[K     |███▏                            | 153 kB 14.3 MB/s eta 0:00:01\r\u001b[K     |███▍                            | 163 kB 14.3 MB/s eta 0:00:01\r\u001b[K     |███▌                            | 174 kB 14.3 MB/s eta 0:00:01\r\u001b[K     |███▊                            | 184 kB 14.3 MB/s eta 0:00:01\r\u001b[K     |████                            | 194 kB 14.3 MB/s eta 0:00:01\r\u001b[K     |████▏                           | 204 kB 14.3 MB/s eta 0:00:01\r\u001b[K     |████▍                           | 215 kB 14.3 MB/s eta 0:00:01\r\u001b[K     |████▋                           | 225 kB 14.3 MB/s eta 0:00:01\r\u001b[K     |████▉                           | 235 kB 14.3 MB/s eta 0:00:01\r\u001b[K     |█████                           | 245 kB 14.3 MB/s eta 0:00:01\r\u001b[K     |█████▎                          | 256 kB 14.3 MB/s eta 0:00:01\r\u001b[K     |█████▍                          | 266 kB 14.3 MB/s eta 0:00:01\r\u001b[K     |█████▋                          | 276 kB 14.3 MB/s eta 0:00:01\r\u001b[K     |█████▉                          | 286 kB 14.3 MB/s eta 0:00:01\r\u001b[K     |██████                          | 296 kB 14.3 MB/s eta 0:00:01\r\u001b[K     |██████▎                         | 307 kB 14.3 MB/s eta 0:00:01\r\u001b[K     |██████▌                         | 317 kB 14.3 MB/s eta 0:00:01\r\u001b[K     |██████▊                         | 327 kB 14.3 MB/s eta 0:00:01\r\u001b[K     |███████                         | 337 kB 14.3 MB/s eta 0:00:01\r\u001b[K     |███████                         | 348 kB 14.3 MB/s eta 0:00:01\r\u001b[K     |███████▎                        | 358 kB 14.3 MB/s eta 0:00:01\r\u001b[K     |███████▌                        | 368 kB 14.3 MB/s eta 0:00:01\r\u001b[K     |███████▊                        | 378 kB 14.3 MB/s eta 0:00:01\r\u001b[K     |████████                        | 389 kB 14.3 MB/s eta 0:00:01\r\u001b[K     |████████▏                       | 399 kB 14.3 MB/s eta 0:00:01\r\u001b[K     |████████▍                       | 409 kB 14.3 MB/s eta 0:00:01\r\u001b[K     |████████▋                       | 419 kB 14.3 MB/s eta 0:00:01\r\u001b[K     |████████▉                       | 430 kB 14.3 MB/s eta 0:00:01\r\u001b[K     |█████████                       | 440 kB 14.3 MB/s eta 0:00:01\r\u001b[K     |█████████▏                      | 450 kB 14.3 MB/s eta 0:00:01\r\u001b[K     |█████████▍                      | 460 kB 14.3 MB/s eta 0:00:01\r\u001b[K     |█████████▋                      | 471 kB 14.3 MB/s eta 0:00:01\r\u001b[K     |█████████▉                      | 481 kB 14.3 MB/s eta 0:00:01\r\u001b[K     |██████████                      | 491 kB 14.3 MB/s eta 0:00:01\r\u001b[K     |██████████▎                     | 501 kB 14.3 MB/s eta 0:00:01\r\u001b[K     |██████████▌                     | 512 kB 14.3 MB/s eta 0:00:01\r\u001b[K     |██████████▋                     | 522 kB 14.3 MB/s eta 0:00:01\r\u001b[K     |██████████▉                     | 532 kB 14.3 MB/s eta 0:00:01\r\u001b[K     |███████████                     | 542 kB 14.3 MB/s eta 0:00:01\r\u001b[K     |███████████▎                    | 552 kB 14.3 MB/s eta 0:00:01\r\u001b[K     |███████████▌                    | 563 kB 14.3 MB/s eta 0:00:01\r\u001b[K     |███████████▊                    | 573 kB 14.3 MB/s eta 0:00:01\r\u001b[K     |████████████                    | 583 kB 14.3 MB/s eta 0:00:01\r\u001b[K     |████████████▏                   | 593 kB 14.3 MB/s eta 0:00:01\r\u001b[K     |████████████▍                   | 604 kB 14.3 MB/s eta 0:00:01\r\u001b[K     |████████████▌                   | 614 kB 14.3 MB/s eta 0:00:01\r\u001b[K     |████████████▊                   | 624 kB 14.3 MB/s eta 0:00:01\r\u001b[K     |█████████████                   | 634 kB 14.3 MB/s eta 0:00:01\r\u001b[K     |█████████████▏                  | 645 kB 14.3 MB/s eta 0:00:01\r\u001b[K     |█████████████▍                  | 655 kB 14.3 MB/s eta 0:00:01\r\u001b[K     |█████████████▋                  | 665 kB 14.3 MB/s eta 0:00:01\r\u001b[K     |█████████████▉                  | 675 kB 14.3 MB/s eta 0:00:01\r\u001b[K     |██████████████                  | 686 kB 14.3 MB/s eta 0:00:01\r\u001b[K     |██████████████▏                 | 696 kB 14.3 MB/s eta 0:00:01\r\u001b[K     |██████████████▍                 | 706 kB 14.3 MB/s eta 0:00:01\r\u001b[K     |██████████████▋                 | 716 kB 14.3 MB/s eta 0:00:01\r\u001b[K     |██████████████▉                 | 727 kB 14.3 MB/s eta 0:00:01\r\u001b[K     |███████████████                 | 737 kB 14.3 MB/s eta 0:00:01\r\u001b[K     |███████████████▎                | 747 kB 14.3 MB/s eta 0:00:01\r\u001b[K     |███████████████▌                | 757 kB 14.3 MB/s eta 0:00:01\r\u001b[K     |███████████████▊                | 768 kB 14.3 MB/s eta 0:00:01\r\u001b[K     |████████████████                | 778 kB 14.3 MB/s eta 0:00:01\r\u001b[K     |████████████████                | 788 kB 14.3 MB/s eta 0:00:01\r\u001b[K     |████████████████▎               | 798 kB 14.3 MB/s eta 0:00:01\r\u001b[K     |████████████████▌               | 808 kB 14.3 MB/s eta 0:00:01\r\u001b[K     |████████████████▊               | 819 kB 14.3 MB/s eta 0:00:01\r\u001b[K     |█████████████████               | 829 kB 14.3 MB/s eta 0:00:01\r\u001b[K     |█████████████████▏              | 839 kB 14.3 MB/s eta 0:00:01\r\u001b[K     |█████████████████▍              | 849 kB 14.3 MB/s eta 0:00:01\r\u001b[K     |█████████████████▋              | 860 kB 14.3 MB/s eta 0:00:01\r\u001b[K     |█████████████████▊              | 870 kB 14.3 MB/s eta 0:00:01\r\u001b[K     |██████████████████              | 880 kB 14.3 MB/s eta 0:00:01\r\u001b[K     |██████████████████▏             | 890 kB 14.3 MB/s eta 0:00:01\r\u001b[K     |██████████████████▍             | 901 kB 14.3 MB/s eta 0:00:01\r\u001b[K     |██████████████████▋             | 911 kB 14.3 MB/s eta 0:00:01\r\u001b[K     |██████████████████▉             | 921 kB 14.3 MB/s eta 0:00:01\r\u001b[K     |███████████████████             | 931 kB 14.3 MB/s eta 0:00:01\r\u001b[K     |███████████████████▎            | 942 kB 14.3 MB/s eta 0:00:01\r\u001b[K     |███████████████████▌            | 952 kB 14.3 MB/s eta 0:00:01\r\u001b[K     |███████████████████▋            | 962 kB 14.3 MB/s eta 0:00:01\r\u001b[K     |███████████████████▉            | 972 kB 14.3 MB/s eta 0:00:01\r\u001b[K     |████████████████████            | 983 kB 14.3 MB/s eta 0:00:01\r\u001b[K     |████████████████████▎           | 993 kB 14.3 MB/s eta 0:00:01\r\u001b[K     |████████████████████▌           | 1.0 MB 14.3 MB/s eta 0:00:01\r\u001b[K     |████████████████████▊           | 1.0 MB 14.3 MB/s eta 0:00:01\r\u001b[K     |█████████████████████           | 1.0 MB 14.3 MB/s eta 0:00:01\r\u001b[K     |█████████████████████▏          | 1.0 MB 14.3 MB/s eta 0:00:01\r\u001b[K     |█████████████████████▎          | 1.0 MB 14.3 MB/s eta 0:00:01\r\u001b[K     |█████████████████████▌          | 1.1 MB 14.3 MB/s eta 0:00:01\r\u001b[K     |█████████████████████▊          | 1.1 MB 14.3 MB/s eta 0:00:01\r\u001b[K     |██████████████████████          | 1.1 MB 14.3 MB/s eta 0:00:01\r\u001b[K     |██████████████████████▏         | 1.1 MB 14.3 MB/s eta 0:00:01\r\u001b[K     |██████████████████████▍         | 1.1 MB 14.3 MB/s eta 0:00:01\r\u001b[K     |██████████████████████▋         | 1.1 MB 14.3 MB/s eta 0:00:01\r\u001b[K     |██████████████████████▉         | 1.1 MB 14.3 MB/s eta 0:00:01\r\u001b[K     |███████████████████████         | 1.1 MB 14.3 MB/s eta 0:00:01\r\u001b[K     |███████████████████████▏        | 1.1 MB 14.3 MB/s eta 0:00:01\r\u001b[K     |███████████████████████▍        | 1.1 MB 14.3 MB/s eta 0:00:01\r\u001b[K     |███████████████████████▋        | 1.2 MB 14.3 MB/s eta 0:00:01\r\u001b[K     |███████████████████████▉        | 1.2 MB 14.3 MB/s eta 0:00:01\r\u001b[K     |████████████████████████        | 1.2 MB 14.3 MB/s eta 0:00:01\r\u001b[K     |████████████████████████▎       | 1.2 MB 14.3 MB/s eta 0:00:01\r\u001b[K     |████████████████████████▌       | 1.2 MB 14.3 MB/s eta 0:00:01\r\u001b[K     |████████████████████████▊       | 1.2 MB 14.3 MB/s eta 0:00:01\r\u001b[K     |████████████████████████▉       | 1.2 MB 14.3 MB/s eta 0:00:01\r\u001b[K     |█████████████████████████       | 1.2 MB 14.3 MB/s eta 0:00:01\r\u001b[K     |█████████████████████████▎      | 1.2 MB 14.3 MB/s eta 0:00:01\r\u001b[K     |█████████████████████████▌      | 1.2 MB 14.3 MB/s eta 0:00:01\r\u001b[K     |█████████████████████████▊      | 1.3 MB 14.3 MB/s eta 0:00:01\r\u001b[K     |██████████████████████████      | 1.3 MB 14.3 MB/s eta 0:00:01\r\u001b[K     |██████████████████████████▏     | 1.3 MB 14.3 MB/s eta 0:00:01\r\u001b[K     |██████████████████████████▍     | 1.3 MB 14.3 MB/s eta 0:00:01\r\u001b[K     |██████████████████████████▌     | 1.3 MB 14.3 MB/s eta 0:00:01\r\u001b[K     |██████████████████████████▊     | 1.3 MB 14.3 MB/s eta 0:00:01\r\u001b[K     |███████████████████████████     | 1.3 MB 14.3 MB/s eta 0:00:01\r\u001b[K     |███████████████████████████▏    | 1.3 MB 14.3 MB/s eta 0:00:01\r\u001b[K     |███████████████████████████▍    | 1.3 MB 14.3 MB/s eta 0:00:01\r\u001b[K     |███████████████████████████▋    | 1.4 MB 14.3 MB/s eta 0:00:01\r\u001b[K     |███████████████████████████▉    | 1.4 MB 14.3 MB/s eta 0:00:01\r\u001b[K     |████████████████████████████    | 1.4 MB 14.3 MB/s eta 0:00:01\r\u001b[K     |████████████████████████████▎   | 1.4 MB 14.3 MB/s eta 0:00:01\r\u001b[K     |████████████████████████████▍   | 1.4 MB 14.3 MB/s eta 0:00:01\r\u001b[K     |████████████████████████████▋   | 1.4 MB 14.3 MB/s eta 0:00:01\r\u001b[K     |████████████████████████████▉   | 1.4 MB 14.3 MB/s eta 0:00:01\r\u001b[K     |█████████████████████████████   | 1.4 MB 14.3 MB/s eta 0:00:01\r\u001b[K     |█████████████████████████████▎  | 1.4 MB 14.3 MB/s eta 0:00:01\r\u001b[K     |█████████████████████████████▌  | 1.4 MB 14.3 MB/s eta 0:00:01\r\u001b[K     |█████████████████████████████▊  | 1.5 MB 14.3 MB/s eta 0:00:01\r\u001b[K     |██████████████████████████████  | 1.5 MB 14.3 MB/s eta 0:00:01\r\u001b[K     |██████████████████████████████  | 1.5 MB 14.3 MB/s eta 0:00:01\r\u001b[K     |██████████████████████████████▎ | 1.5 MB 14.3 MB/s eta 0:00:01\r\u001b[K     |██████████████████████████████▌ | 1.5 MB 14.3 MB/s eta 0:00:01\r\u001b[K     |██████████████████████████████▊ | 1.5 MB 14.3 MB/s eta 0:00:01\r\u001b[K     |███████████████████████████████ | 1.5 MB 14.3 MB/s eta 0:00:01\r\u001b[K     |███████████████████████████████▏| 1.5 MB 14.3 MB/s eta 0:00:01\r\u001b[K     |███████████████████████████████▍| 1.5 MB 14.3 MB/s eta 0:00:01\r\u001b[K     |███████████████████████████████▋| 1.5 MB 14.3 MB/s eta 0:00:01\r\u001b[K     |███████████████████████████████▉| 1.6 MB 14.3 MB/s eta 0:00:01\r\u001b[K     |████████████████████████████████| 1.6 MB 14.3 MB/s eta 0:00:01\r\u001b[K     |████████████████████████████████| 1.6 MB 14.3 MB/s \n",
            "\u001b[?25himporting Jupyter notebook from utils.ipynb\n"
          ]
        }
      ],
      "source": [
        "!pip -q install import-ipynb\n",
        "import import_ipynb\n",
        "\n",
        "import utils\n",
        "import numpy as np\n",
        "import random as rd\n",
        "import tensorflow.keras as keras\n",
        "import matplotlib.pyplot as plt"
      ]
    },
    {
      "cell_type": "markdown",
      "source": [
        "# Data manipulation auxiliary functions"
      ],
      "metadata": {
        "id": "Exl6ImVuEW6f"
      }
    },
    {
      "cell_type": "code",
      "source": [
        "def data_split(data, split=(1, 0, 0)):\n",
        "  num = data.shape[0]\n",
        "  (train, test, val) = split\n",
        "  train_idx, test_idx = int(np.floor(num*train)), int(np.floor(num*(train+test)))\n",
        "  train_data, test_data, val_data = data[:train_idx], data[train_idx:test_idx], data[test_idx:]\n",
        "  \n",
        "  return (train_data, test_data, val_data)"
      ],
      "metadata": {
        "id": "EmhFqHJscUPE"
      },
      "execution_count": null,
      "outputs": []
    },
    {
      "cell_type": "code",
      "source": [
        "def data_regularity(ims, labels, plot=False):\n",
        "  '''\n",
        "  This function prints the number of images for each label onto the console in a pretty way.\n",
        "\n",
        "  plots=True plots the average of all those images for each label, thus allowing to spot if there is color imbalance in any given label (useful for small datasets).\n",
        "  '''\n",
        "  values, counts = np.unique(labels, return_counts=True, axis=0)\n",
        "\n",
        "  c = 0\n",
        "  for label in values:\n",
        "    print('label', utils.uncategoric(label)[0], '/ counts', counts[c])\n",
        "    c += 1\n",
        "\n",
        "    if plot:\n",
        "      avg_im = np.zeros(ims[0].shape)\n",
        "      indexes = np.where(labels == c)[0]\n",
        "\n",
        "      plt.figure(figsize=(10*len(counts), len(counts)))\n",
        "      for j in indexes:\n",
        "        avg_im += ims[j]\n",
        "      \n",
        "      avg_im /= len(indexes)\n",
        "      plt.subplot(1, len(counts), c+1)\n",
        "      plt.imshow(avg_im)\n",
        "      plt.axis('off')\n",
        "\n",
        "      plt.tight_layout()\n",
        "      plt.show()"
      ],
      "metadata": {
        "id": "Q0lc9tQDLt-B"
      },
      "execution_count": null,
      "outputs": []
    },
    {
      "cell_type": "markdown",
      "source": [
        "# Main functions : Colored-MNIST generators"
      ],
      "metadata": {
        "id": "NdDNEHBtEdwC"
      }
    },
    {
      "cell_type": "code",
      "source": [
        "def old_mnist(num, bools):\n",
        "  '''\n",
        "  This function returns Colored-MNIST v.1., v.2. and v.3. (warning : v.3. is heavily biased, see report) depending on the paramater 'bools' given as an argument.\n",
        "  \n",
        "  num: (int) number of images to draw from original MNIST dataset.\n",
        "  bools: (background, noise)\n",
        "    if background=True, returns Colored-MNIST v.2. (colored digit, colored background)\n",
        "    if noise=True, returns Colored-MNIST v.3. (colored digit, background and noise)\n",
        "  '''\n",
        "  (x, y), _ = keras.datasets.mnist.load_data()  \n",
        "  ims, labels = x[:num], y[:num]\n",
        "\n",
        "  new_shape = list(ims.shape)\n",
        "  new_shape.append(3)\n",
        "  new_shape = tuple(new_shape)\n",
        " \n",
        " ## creation of Colored-MNIST v.4. images and labels.\n",
        "  # new_ims are the colored (28x28x3) images\n",
        "  # shape_labels encode the corresponding handwritten digit as int between 0 and 9\n",
        "  # color_labels are \"red, green, blue\" and encoded as 10 = red, 11 = green, 12 = blue\n",
        "  # rule_labels are the labels used for the biased model : 0...9 corresponds to handwritten digits that aren't red, 10 corresponds to the label 'red'\n",
        "  # labels 11 and 12 are never used.\n",
        "  new_ims = np.zeros(new_shape)\n",
        "  color_labels, shape_labels, rule_labels = np.zeros(num, ), np.zeros(num, ), np.zeros(num, )\n",
        "\n",
        "  # loop over all the previously selected (image, label) couples of basic MNIST.\n",
        "  for n in range(num):\n",
        "\n",
        "    # randomly select a color channel and remove it from available channel.\n",
        "    # p is the probability of selecting each corresponding channel and were computed in order to not have too many red images in the dataset.\n",
        "    # indeed, with these probabilities, we obtain for num = 10 000, around 910 images labeled 1, 910 labeled 2, ... and 910 labeled 10 or \"red\".\n",
        "    channels = [0, 1, 2]\n",
        "    channel = np.random.choice(channels, 1, p=[1/13, 6/13, 6/13])[0]\n",
        "    channels.remove(channel)\n",
        "\n",
        "    # fill the new set of labels\n",
        "    # this is the modeling of the perceptive biais : if the selected channel is 0 (thus red), its label will be 10 (\"red\") and not whatever number corresponds to the actually handwritten digit.\n",
        "    if channel == 0:\n",
        "      rule_labels[n] = 10\n",
        "    else:\n",
        "      rule_labels[n] = y[n]\n",
        "    color_labels[n] = 10 + channel\n",
        "    shape_labels[n] = y[n]\n",
        "\n",
        "    # scale images from [0, 255] grayscale to [0, 1]\n",
        "    new_ims[n, ..., channel] = x[n] / 255\n",
        "\n",
        "    if background:\n",
        "      # choose background color from the remaining channels\n",
        "      channel = np.random.choice(channels)\n",
        "\n",
        "      # fill the background channel with the opposite of the image in order to color everything around the handwritten digit\n",
        "      # remove this channel from available channels\n",
        "      new_ims[n, ..., channel] = (255 - x[n]) / 255\n",
        "      channels.remove(channel)\n",
        "    if noise:\n",
        "      # fill the remaining channel with random noise\n",
        "      channel = np.random.choice(channels)\n",
        "      new_ims[n, ..., channel] = np.random.rand(28, 28)\n",
        "      channels.remove(channel)\n",
        "\n",
        "  return new_ims, color_labels, shape_labels, rule_labels"
      ],
      "metadata": {
        "id": "GAnHdUzuIx8O"
      },
      "execution_count": null,
      "outputs": []
    },
    {
      "cell_type": "code",
      "source": [
        "def noisy_mnist(num, noise_level=0):\n",
        "  '''\n",
        "  This function returns Colored-MNIST v.4.\n",
        "\n",
        "  num: (int) number of images to draw from original MNIST dataset.\n",
        "  noise_level: (float) fraction between 0 and 1, determines the intensity of the added random noise to the final images.\n",
        "  '''\n",
        "  (x, y), _ = keras.datasets.mnist.load_data()  \n",
        "  ims, labels = x[:num], y[:num]\n",
        "\n",
        "  new_shape = list(ims.shape)\n",
        "  new_shape.append(3)\n",
        "  new_shape = tuple(new_shape)\n",
        " \n",
        "  ## creation of Colored-MNIST v.4. images and labels.\n",
        "  new_ims = np.zeros(new_shape)\n",
        "  color_labels, shape_labels, rule_labels = np.zeros(num, ), np.zeros(num, ), np.zeros(num, )\n",
        "\n",
        "  for n in range(num): \n",
        "    channel = np.random.choice([0, 1, 2], 1, p=[1/13, 6/13, 6/13]) \n",
        "    new_ims[n, ..., channel] = ims[n]/255\n",
        "\n",
        "    # add random noise to every channel of the image\n",
        "    new_ims[n] += noise_level*np.random.rand(ims.shape[1], ims.shape[2], 3)\n",
        "    # renormalize between 0 and 1.\n",
        "    new_ims[n] /= 2\n",
        "\n",
        "    # construct the labels\n",
        "    shape_labels[n] = labels[n]\n",
        "    color_labels[n] = 10 + channel\n",
        "\n",
        "    if channel == 0:\n",
        "      rule_labels[n] = 10\n",
        "    else:\n",
        "      rule_labels[n] = labels[n]\n",
        "\n",
        "  return new_ims, color_labels, shape_labels, rule_labels"
      ],
      "metadata": {
        "id": "N5zyApiEQohr"
      },
      "execution_count": null,
      "outputs": []
    },
    {
      "cell_type": "code",
      "source": [
        "def load_data(num, mnist_type='noisy', noise_level=0, bools=None, split=(.7, .2, .1), plot=True, regularity_check=True):\n",
        "  '''\n",
        "  This function returns the couples of images and labels for a given version of Colored-MNIST (v.4. by default).\n",
        "\n",
        "  num: (int) number of images to draw from original MNIST dataset.\n",
        "\n",
        "  mnist_type: (str) determines the dataset generator to draw from.\n",
        "    mnist_type='noisy': (default) returns Colored-MNIST v.4 with a given 'noise_level'.\n",
        "      noise_level: (float) fraction between 0 and 1, determines the intensity of the added random noise to the final images.\n",
        "\n",
        "    mnist_type='old': returns a previous version of Colored-MNIST depending on 'bools'.\n",
        "      bools: (background, noise)\n",
        "        if background=True, returns Colored-MNIST v.2. (colored digit, colored background)\n",
        "        if noise=True, returns Colored-MNIST v.3. (colored digit, background and noise) \n",
        "  \n",
        "  split: (float, float, float) determines the train/validation/test split percentages (essentially the same as sklearn 'train_test_split()')\n",
        "    split=(.7, .2, .1) returns 0.7*num train data, 0.2*num validation data, 0.1*num test data.\n",
        "  \n",
        "  plot: (bool) if plot=True, plots 5 random (image, label) couples from the train data.\n",
        "\n",
        "  regularity_check: (bool) if regularity_check=True, runs data_regularity() on Colored-MNIST (see data_regularity() documentation for more information)\n",
        "  '''\n",
        "  # load mnist\n",
        "  if mnist_type == 'noisy':\n",
        "    ims, color_labels, shape_labels, rule_labels = noisy_mnist(num, noise_level=noise_level)\n",
        "  else:\n",
        "    ims, color_labels, shape_labels, rule_labels = old_mnist(num, bools)\n",
        "\n",
        "  # train/test/validation split\n",
        "  (train_ims, test_ims, val_ims) = data_split(ims, split)\n",
        "  (train_rule, test_rule, val_rule) = data_split(rule_labels, split)\n",
        "  (train_shape, test_shape, val_shape) = data_split(shape_labels, split)\n",
        "  (train_color, test_color, val_color) = data_split(color_labels, split)\n",
        "    \n",
        "  # to categorical\n",
        "  train_rule, test_rule, val_rule = keras.utils.to_categorical(train_rule, num_classes=13), keras.utils.to_categorical(test_rule, num_classes=13), keras.utils.to_categorical(val_rule, num_classes=13)\n",
        "  train_color, test_color, val_color = keras.utils.to_categorical(train_color, num_classes=13), keras.utils.to_categorical(test_color, num_classes=13), keras.utils.to_categorical(val_color, num_classes=13)\n",
        "  train_shape, test_shape, val_shape = keras.utils.to_categorical(train_shape, num_classes=13), keras.utils.to_categorical(test_shape, num_classes=13), keras.utils.to_categorical(val_shape, num_classes=13)\n",
        "  \n",
        "  if regularity_check:\n",
        "    print('>> checking dataset regularity')\n",
        "    data_regularity(train_ims, train_rule)\n",
        "\n",
        "  if plot:\n",
        "    plt.figure()\n",
        "    shuffled = np.random.choice(train_ims.shape[0], (5,))\n",
        "    for (i, j) in enumerate(shuffled):\n",
        "      plt.axis('off')\n",
        "      plt.subplot(1, 5, i + 1)\n",
        "      plt.title(utils.uncategoric(train_rule[j])[0])\n",
        "      plt.imshow(train_ims[j])\n",
        "\n",
        "    plt.suptitle('noise level {}'.format(noise_level), y=.75)\n",
        "    plt.axis('off')\n",
        "  \n",
        "  return (train_ims, test_ims, val_ims), (train_color, test_color, val_color), (train_shape, test_shape, val_shape), (train_rule, test_rule, val_rule)\n",
        "\n",
        "if __name__ == '__main__':\n",
        "  (train_ims, test_ims, val_ims), (train_color, test_color, val_color), (train_shape, test_shape, val_shape), (train_rule, test_rule, val_rule) = load_data(10000, mnist_type='old', noise_level=1)"
      ],
      "metadata": {
        "colab": {
          "base_uri": "https://localhost:8080/",
          "height": 350
        },
        "id": "VYXKvk-gh3TE",
        "outputId": "b73ea6f2-e851-49ae-fe75-3d7d5f986d16"
      },
      "execution_count": null,
      "outputs": [
        {
          "output_type": "stream",
          "name": "stdout",
          "text": [
            ">> checking dataset regularity\n",
            "label r / counts 541\n",
            "label 9 / counts 639\n",
            "label 8 / counts 596\n",
            "label 7 / counts 690\n",
            "label 6 / counts 651\n",
            "label 5 / counts 578\n",
            "label 4 / counts 647\n",
            "label 3 / counts 667\n",
            "label 2 / counts 631\n",
            "label 1 / counts 714\n",
            "label 0 / counts 646\n"
          ]
        },
        {
          "output_type": "display_data",
          "data": {
            "text/plain": [
              "<Figure size 432x288 with 5 Axes>"
            ],
            "image/png": "[encoded data removed]"
          },
          "metadata": {
            "needs_background": "light"
          }
        }
      ]
    }
  ]
}