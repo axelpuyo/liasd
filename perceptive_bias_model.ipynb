{
  "nbformat": 4,
  "nbformat_minor": 0,
  "metadata": {
    "colab": {
      "provenance": [],
      "collapsed_sections": [],
      "mount_file_id": "1BOV_Q3NMdwPohQLAFUyfBxLUl671tS5V",
      "authorship_tag": "ABX9TyOzzw4elfA+dJz+4Qo+CZHP",
      "include_colab_link": true
    },
    "kernelspec": {
      "name": "python3",
      "display_name": "Python 3"
    },
    "language_info": {
      "name": "python"
    },
    "accelerator": "GPU",
    "gpuClass": "standard"
  },
  "cells": [
    {
      "cell_type": "markdown",
      "metadata": {
        "id": "view-in-github",
        "colab_type": "text"
      },
      "source": [
        "<a href=\"https://colab.research.google.com/github/axelpuyo/liasd/blob/master/perceptive_bias_model.ipynb\" target=\"_parent\"><img src=\"https://colab.research.google.com/assets/colab-badge.svg\" alt=\"Open In Colab\"/></a>"
      ]
    },
    {
      "cell_type": "markdown",
      "source": [
        "# Installs\n",
        "Installs requirements and mounts file to Google Drive in order to save models."
      ],
      "metadata": {
        "id": "-F3tF7apvOy0"
      }
    },
    {
      "cell_type": "code",
      "source": [
        "## Run once\n",
        "!pip -q install import-ipynb\n",
        "!pip -q install tensorflow==2.8\n",
        "!apt -q install --allow-change-held-packages libcudnn8=8.1.0.77-1+cuda11.2\n",
        "\n",
        "from google.colab import drive\n",
        "drive.mount('/content/drive')\n",
        "\n",
        "# check path\n",
        "import os\n",
        "print(os.getcwd())\n",
        "print(os.listdir())\n",
        "\n",
        "# cd your_path\n",
        "%cd drive/MyDrive/Colab Notebooks/liasd"
      ],
      "metadata": {
        "colab": {
          "base_uri": "https://localhost:8080/"
        },
        "id": "feOUvwgQCRRm",
        "outputId": "b79ee06f-c861-47d8-81d8-563ed6de3bc2"
      },
      "execution_count": null,
      "outputs": [
        {
          "output_type": "stream",
          "name": "stdout",
          "text": [
            "Reading package lists...\n",
            "Building dependency tree...\n",
            "Reading state information...\n",
            "libcudnn8 is already the newest version (8.1.0.77-1+cuda11.2).\n",
            "The following package was automatically installed and is no longer required:\n",
            "  libnvidia-common-460\n",
            "Use 'apt autoremove' to remove it.\n",
            "0 upgraded, 0 newly installed, 0 to remove and 10 not upgraded.\n",
            "Drive already mounted at /content/drive; to attempt to forcibly remount, call drive.mount(\"/content/drive\", force_remount=True).\n",
            "/content/drive/My Drive/Colab Notebooks/liasd\n",
            "['perceptive_bias_model.ipynb', 'saved_models', 'explainers.ipynb', 'post_analysis.ipynb', 'utils.ipynb', 'colored_mnist.ipynb']\n",
            "[Errno 2] No such file or directory: 'drive/MyDrive/Colab Notebooks/liasd'\n",
            "/content/drive/MyDrive/Colab Notebooks/liasd\n"
          ]
        }
      ]
    },
    {
      "cell_type": "markdown",
      "source": [
        "# Imports\n",
        "Necessary imports, please note that when any imported .ipynb files are modified, you need to restart runtime (CTRL + M or Runtime > Restart Runtime) in order for changes to take effect."
      ],
      "metadata": {
        "id": "Yj5SPA-Dvcqf"
      }
    },
    {
      "cell_type": "code",
      "source": [
        "## Imports\n",
        "import import_ipynb\n",
        "import utils\n",
        "import colored_mnist\n",
        "import numpy as np\n",
        "import tensorflow as tf\n",
        "import tensorflow.keras as keras\n",
        "import matplotlib.pyplot as plt"
      ],
      "metadata": {
        "id": "OQHN8yUonbU7"
      },
      "execution_count": null,
      "outputs": []
    },
    {
      "cell_type": "markdown",
      "source": [
        "SHAP's `DeepExplainer` does not support TensorFlow 2.0+ (namely eager-mode by default), while `Grad-CAM` requires it. Thus, we train the same model on two different versions of TensorFlow (1.x and 2.x behavior). However, the behavior of TensorFlow can only be changed at the beginning of a runtime. **In order to switch versions, you need to restart runtime**. \n",
        "\n"
      ],
      "metadata": {
        "id": "GLtkdkjvvp7z"
      }
    },
    {
      "cell_type": "code",
      "source": [
        "# ## TensorFlow version swapping (SHAP works with TF 1.x, GRAD-CAM with TF 2.x) \n",
        "tf1 = False\n",
        "if tf1:\n",
        "  tf.compat.v1.disable_v2_behavior()\n",
        "  tf.compat.v1.disable_eager_execution()\n",
        "\n",
        "print('TensorFlow 2.x behavior ? ', tf.executing_eagerly())"
      ],
      "metadata": {
        "id": "Iao542UeXa08",
        "colab": {
          "base_uri": "https://localhost:8080/"
        },
        "outputId": "10772dd2-7e65-4737-d317-1df452bf1fb6"
      },
      "execution_count": null,
      "outputs": [
        {
          "output_type": "stream",
          "name": "stdout",
          "text": [
            "TensorFlow 2.x behavior ?  True\n"
          ]
        }
      ]
    },
    {
      "cell_type": "markdown",
      "source": [
        "# Parameters and load dataset"
      ],
      "metadata": {
        "id": "O6wJNA6r30xZ"
      }
    },
    {
      "cell_type": "code",
      "source": [
        "## Parameters\n",
        "num = 8000 # number of images to pull from original MNIST\n",
        "split = (.7, .2, .1) # train/val/test split : (%train, %validation, %test) in 0 - 1 fraction\n",
        "level = 0 # noise level (0-1)\n",
        "\n",
        "## Fetch Colored-MNIST\n",
        "# Colored-MNIST v.1. through v.3. : warning, v.3. is heavily biased (see report)\n",
        "# bools = (False, False) # bools = (False, False) --> colored digits on black background (v1) ; bools = (True, False) --> colored digits, colored background (v2); bools = (True, True) --> colored digits, colored background, colored noise (v3. warning, this dataset is biased)\n",
        "# (train_ims, test_ims, val_ims), (train_color, test_color, val_color), (train_shape, test_shape, val_shape), (train_rule, test_rule, val_rule) = colored_mnist.load_data(num, mnist_type='old', noise_level=level, bools=bools)\n",
        "\n",
        "# Colored-MNIST v.4.\n",
        "(train_ims, test_ims, val_ims), (train_color, test_color, val_color), (train_shape, test_shape, val_shape), (train_rule, test_rule, val_rule) = colored_mnist.load_data(num, noise_level=level, split=split)"
      ],
      "metadata": {
        "id": "FNBUkfcGngb6",
        "colab": {
          "base_uri": "https://localhost:8080/",
          "height": 339
        },
        "outputId": "198d372a-03e1-42a7-d1bd-c71469643bbd"
      },
      "execution_count": null,
      "outputs": [
        {
          "output_type": "stream",
          "name": "stdout",
          "text": [
            ">> checking dataset regularity\n",
            "label r / counts 421\n",
            "label 9 / counts 514\n",
            "label 8 / counts 478\n",
            "label 7 / counts 579\n",
            "label 6 / counts 512\n",
            "label 5 / counts 443\n",
            "label 4 / counts 555\n",
            "label 3 / counts 520\n",
            "label 2 / counts 488\n",
            "label 1 / counts 575\n",
            "label 0 / counts 515\n"
          ]
        },
        {
          "output_type": "display_data",
          "data": {
            "text/plain": [
              "<Figure size 432x288 with 5 Axes>"
            ],
            "image/png": "[encoded data removed]"
          },
          "metadata": {
            "needs_background": "light"
          }
        }
      ]
    },
    {
      "cell_type": "markdown",
      "source": [
        "# Model architecture and training"
      ],
      "metadata": {
        "id": "_m40YMTr38sx"
      }
    },
    {
      "cell_type": "code",
      "source": [
        "## Models\n",
        "# Color-biased model\n",
        "color_model = keras.Sequential()\n",
        "color_model.add(keras.layers.Conv2D(64, kernel_size=(3,3), padding='same', activation='relu', input_shape=train_ims[0].shape, name='conv1'))\n",
        "color_model.add(keras.layers.MaxPool2D(pool_size=(2,2), name='pool1'))\n",
        "color_model.add(keras.layers.Conv2D(64, kernel_size=(3,3), padding='same', activation='relu', name='conv2'))\n",
        "color_model.add(keras.layers.MaxPool2D(pool_size=(2,2), padding='same', name='pool2'))\n",
        "color_model.add(keras.layers.Flatten())\n",
        "color_model.add(keras.layers.Dense(13, activation=tf.keras.activations.softmax))\n",
        "\n",
        "input_shape = train_ims.shape\n",
        "color_model.build(input_shape)\n",
        "\n",
        "color_model.compile(optimizer='rmsprop', loss='categorical_crossentropy', metrics=['accuracy'])\n",
        "# color_model.summary()\n",
        "\n",
        "print('>> Color-biased model training')\n",
        "color_model.fit(train_ims, train_color, batch_size=12, epochs=5, shuffle=True)"
      ],
      "metadata": {
        "id": "PSKd4PNJulZc",
        "colab": {
          "base_uri": "https://localhost:8080/"
        },
        "outputId": "6d502f09-d383-4aba-f0d6-50bbc3b5ffdb"
      },
      "execution_count": null,
      "outputs": [
        {
          "output_type": "stream",
          "name": "stdout",
          "text": [
            ">> Color-biased model training\n",
            "Epoch 1/5\n",
            "467/467 [==============================] - 2s 4ms/step - loss: 0.0257 - accuracy: 0.9959\n",
            "Epoch 2/5\n",
            "467/467 [==============================] - 2s 4ms/step - loss: 3.8956e-09 - accuracy: 1.0000\n",
            "Epoch 3/5\n",
            "467/467 [==============================] - 3s 6ms/step - loss: 1.0005e-09 - accuracy: 1.0000\n",
            "Epoch 4/5\n",
            "467/467 [==============================] - 3s 6ms/step - loss: 5.3218e-10 - accuracy: 1.0000\n",
            "Epoch 5/5\n",
            "467/467 [==============================] - 3s 6ms/step - loss: 3.1931e-10 - accuracy: 1.0000\n"
          ]
        },
        {
          "output_type": "execute_result",
          "data": {
            "text/plain": [
              "<keras.callbacks.History at 0x7f1e02577bd0>"
            ]
          },
          "metadata": {},
          "execution_count": 14
        }
      ]
    },
    {
      "cell_type": "code",
      "execution_count": null,
      "metadata": {
        "id": "R3x7CduVnQt0",
        "colab": {
          "base_uri": "https://localhost:8080/"
        },
        "outputId": "c246803b-fde0-4f30-c2ba-72bd4e591525"
      },
      "outputs": [
        {
          "output_type": "stream",
          "name": "stdout",
          "text": [
            ">> Shape-biased model training\n",
            "Epoch 1/15\n",
            "467/467 [==============================] - 2s 4ms/step - loss: 0.5124 - accuracy: 0.8427\n",
            "Epoch 2/15\n",
            "467/467 [==============================] - 2s 4ms/step - loss: 0.1722 - accuracy: 0.9523\n",
            "Epoch 3/15\n",
            "467/467 [==============================] - 2s 4ms/step - loss: 0.1196 - accuracy: 0.9666\n",
            "Epoch 4/15\n",
            "467/467 [==============================] - 2s 4ms/step - loss: 0.0874 - accuracy: 0.9755\n",
            "Epoch 5/15\n",
            "467/467 [==============================] - 2s 4ms/step - loss: 0.0684 - accuracy: 0.9804\n",
            "Epoch 6/15\n",
            "467/467 [==============================] - 2s 4ms/step - loss: 0.0578 - accuracy: 0.9850\n",
            "Epoch 7/15\n",
            "467/467 [==============================] - 2s 4ms/step - loss: 0.0470 - accuracy: 0.9857\n",
            "Epoch 8/15\n",
            "467/467 [==============================] - 2s 4ms/step - loss: 0.0387 - accuracy: 0.9880\n",
            "Epoch 9/15\n",
            "467/467 [==============================] - 2s 4ms/step - loss: 0.0315 - accuracy: 0.9920\n",
            "Epoch 10/15\n",
            "467/467 [==============================] - 2s 4ms/step - loss: 0.0277 - accuracy: 0.9921\n",
            "Epoch 11/15\n",
            "467/467 [==============================] - 2s 4ms/step - loss: 0.0208 - accuracy: 0.9937\n",
            "Epoch 12/15\n",
            "467/467 [==============================] - 2s 4ms/step - loss: 0.0176 - accuracy: 0.9955\n",
            "Epoch 13/15\n",
            "467/467 [==============================] - 2s 4ms/step - loss: 0.0160 - accuracy: 0.9973\n",
            "Epoch 14/15\n",
            "467/467 [==============================] - 2s 4ms/step - loss: 0.0123 - accuracy: 0.9973\n",
            "Epoch 15/15\n",
            "467/467 [==============================] - 2s 4ms/step - loss: 0.0098 - accuracy: 0.9966\n"
          ]
        },
        {
          "output_type": "execute_result",
          "data": {
            "text/plain": [
              "<keras.callbacks.History at 0x7f1dd00a2210>"
            ]
          },
          "metadata": {},
          "execution_count": 15
        }
      ],
      "source": [
        "# Shape-biased model\n",
        "shape_model = keras.Sequential()\n",
        "shape_model.add(keras.layers.Conv2D(64, kernel_size=(3,3), padding='same', activation='relu', input_shape=train_ims[0].shape, name='conv1'))\n",
        "shape_model.add(keras.layers.MaxPool2D(pool_size=(2,2), name='pool1'))\n",
        "shape_model.add(keras.layers.Conv2D(64, kernel_size=(3,3), padding='same', activation='relu', name='conv2'))\n",
        "shape_model.add(keras.layers.MaxPool2D(pool_size=(2,2), padding='same', name='pool2'))\n",
        "shape_model.add(keras.layers.Flatten())\n",
        "shape_model.add(keras.layers.Dense(13, activation=tf.keras.activations.softmax))\n",
        "\n",
        "input_shape = train_ims.shape\n",
        "shape_model.build(input_shape)\n",
        "\n",
        "shape_model.compile(optimizer='rmsprop', loss='categorical_crossentropy', metrics=['accuracy'])\n",
        "# shape_model.summary()\n",
        "\n",
        "print('>> Shape-biased model training')\n",
        "shape_model.fit(train_ims, train_shape, batch_size=12, epochs=15, shuffle=True)"
      ]
    },
    {
      "cell_type": "code",
      "source": [
        "# Rule-biased model\n",
        "model = keras.Sequential()\n",
        "model.add(keras.layers.Conv2D(64, kernel_size=(3,3), padding='same', activation='relu', input_shape=train_ims[0].shape, name='conv1'))\n",
        "model.add(keras.layers.MaxPool2D(pool_size=(2,2), name='pool1'))\n",
        "model.add(keras.layers.Conv2D(64, kernel_size=(3,3), padding='same', activation='relu', name='conv2'))\n",
        "model.add(keras.layers.MaxPool2D(pool_size=(2,2), padding='same', name='pool2'))\n",
        "model.add(keras.layers.Flatten())\n",
        "model.add(keras.layers.Dense(13, activation=tf.keras.activations.softmax))\n",
        "\n",
        "input_shape = train_ims.shape\n",
        "model.build(input_shape)\n",
        "\n",
        "model.compile(optimizer='rmsprop', loss='categorical_crossentropy', metrics=['accuracy'])\n",
        "# model.summary()\n",
        "\n",
        "print('>> Rule-biased model training')\n",
        "model.fit(train_ims, train_rule, batch_size=12, epochs=25, shuffle=True)"
      ],
      "metadata": {
        "id": "v-JrxVlruuu5",
        "colab": {
          "base_uri": "https://localhost:8080/"
        },
        "outputId": "60cc61a2-03bd-4f06-b242-54f3972bafd7"
      },
      "execution_count": null,
      "outputs": [
        {
          "output_type": "stream",
          "name": "stdout",
          "text": [
            ">> Rule-biased model training\n",
            "Epoch 1/25\n",
            "467/467 [==============================] - 2s 4ms/step - loss: 0.4984 - accuracy: 0.8462\n",
            "Epoch 2/25\n",
            "467/467 [==============================] - 2s 4ms/step - loss: 0.1728 - accuracy: 0.9514\n",
            "Epoch 3/25\n",
            "467/467 [==============================] - 2s 4ms/step - loss: 0.1173 - accuracy: 0.9698\n",
            "Epoch 4/25\n",
            "467/467 [==============================] - 2s 4ms/step - loss: 0.0831 - accuracy: 0.9732\n",
            "Epoch 5/25\n",
            "467/467 [==============================] - 2s 4ms/step - loss: 0.0720 - accuracy: 0.9793\n",
            "Epoch 6/25\n",
            "467/467 [==============================] - 2s 4ms/step - loss: 0.0538 - accuracy: 0.9846\n",
            "Epoch 7/25\n",
            "467/467 [==============================] - 2s 4ms/step - loss: 0.0455 - accuracy: 0.9871\n",
            "Epoch 8/25\n",
            "467/467 [==============================] - 2s 4ms/step - loss: 0.0387 - accuracy: 0.9911\n",
            "Epoch 9/25\n",
            "467/467 [==============================] - 2s 4ms/step - loss: 0.0328 - accuracy: 0.9904\n",
            "Epoch 10/25\n",
            "467/467 [==============================] - 2s 4ms/step - loss: 0.0273 - accuracy: 0.9932\n",
            "Epoch 11/25\n",
            "467/467 [==============================] - 2s 4ms/step - loss: 0.0245 - accuracy: 0.9934\n",
            "Epoch 12/25\n",
            "467/467 [==============================] - 2s 4ms/step - loss: 0.0172 - accuracy: 0.9955\n",
            "Epoch 13/25\n",
            "467/467 [==============================] - 2s 4ms/step - loss: 0.0152 - accuracy: 0.9962\n",
            "Epoch 14/25\n",
            "467/467 [==============================] - 2s 4ms/step - loss: 0.0121 - accuracy: 0.9968\n",
            "Epoch 15/25\n",
            "467/467 [==============================] - 2s 4ms/step - loss: 0.0110 - accuracy: 0.9971\n",
            "Epoch 16/25\n",
            "467/467 [==============================] - 2s 4ms/step - loss: 0.0088 - accuracy: 0.9979\n",
            "Epoch 17/25\n",
            "467/467 [==============================] - 2s 4ms/step - loss: 0.0046 - accuracy: 0.9989\n",
            "Epoch 18/25\n",
            "467/467 [==============================] - 2s 4ms/step - loss: 0.0056 - accuracy: 0.9986\n",
            "Epoch 19/25\n",
            "467/467 [==============================] - 2s 4ms/step - loss: 0.0045 - accuracy: 0.9989\n",
            "Epoch 20/25\n",
            "467/467 [==============================] - 2s 4ms/step - loss: 0.0040 - accuracy: 0.9989\n",
            "Epoch 21/25\n",
            "467/467 [==============================] - 2s 4ms/step - loss: 0.0018 - accuracy: 0.9996\n",
            "Epoch 22/25\n",
            "467/467 [==============================] - 2s 4ms/step - loss: 0.0029 - accuracy: 0.9989\n",
            "Epoch 23/25\n",
            "467/467 [==============================] - 2s 4ms/step - loss: 7.8397e-04 - accuracy: 0.9998\n",
            "Epoch 24/25\n",
            "467/467 [==============================] - 2s 4ms/step - loss: 0.0010 - accuracy: 0.9996\n",
            "Epoch 25/25\n",
            "467/467 [==============================] - 2s 4ms/step - loss: 0.0011 - accuracy: 0.9996\n"
          ]
        },
        {
          "output_type": "execute_result",
          "data": {
            "text/plain": [
              "<keras.callbacks.History at 0x7f1d9458ca90>"
            ]
          },
          "metadata": {},
          "execution_count": 16
        }
      ]
    },
    {
      "cell_type": "code",
      "source": [
        "# Rule-biased model 2 : VGG-16 architecture\n",
        "from keras.models import Sequential\n",
        "from keras.layers import Dense, Conv2D, MaxPool2D , Flatten\n",
        "\n",
        "input_shape = train_ims[0].shape\n",
        "\n",
        "model = Sequential()\n",
        "model.add(Conv2D(input_shape=input_shape,filters=64,kernel_size=(3,3),padding=\"same\", activation=\"relu\"))\n",
        "model.add(Conv2D(filters=64,kernel_size=(3,3),padding=\"same\", activation=\"relu\"))\n",
        "model.add(MaxPool2D(pool_size=(2,2),strides=(2,2)))\n",
        "model.add(Conv2D(filters=128, kernel_size=(3,3), padding=\"same\", activation=\"relu\"))\n",
        "model.add(Conv2D(filters=128, kernel_size=(3,3), padding=\"same\", activation=\"relu\"))\n",
        "model.add(MaxPool2D(pool_size=(2,2),strides=(2,2),padding=\"same\"))\n",
        "model.add(Conv2D(filters=256, kernel_size=(3,3), padding=\"same\", activation=\"relu\"))\n",
        "model.add(Conv2D(filters=256, kernel_size=(3,3), padding=\"same\", activation=\"relu\"))\n",
        "model.add(Conv2D(filters=256, kernel_size=(3,3), padding=\"same\", activation=\"relu\"))\n",
        "model.add(MaxPool2D(pool_size=(2,2),strides=(2,2),padding=\"same\"))\n",
        "model.add(Conv2D(filters=512, kernel_size=(3,3), padding=\"same\", activation=\"relu\"))\n",
        "model.add(Conv2D(filters=512, kernel_size=(3,3), padding=\"same\", activation=\"relu\"))\n",
        "model.add(Conv2D(filters=512, kernel_size=(3,3), padding=\"same\", activation=\"relu\"))\n",
        "model.add(MaxPool2D(pool_size=(2,2),strides=(2,2),padding=\"same\"))\n",
        "model.add(Conv2D(filters=512, kernel_size=(3,3), padding=\"same\", activation=\"relu\"))\n",
        "model.add(Conv2D(filters=512, kernel_size=(3,3), padding=\"same\", activation=\"relu\"))\n",
        "model.add(Conv2D(filters=512, kernel_size=(3,3), padding=\"same\", activation=\"relu\", name='conv2'))\n",
        "model.add(MaxPool2D(pool_size=(2,2),strides=(2,2),padding=\"same\"))\n",
        "model.add(Flatten())\n",
        "model.add(Dense(units=4096,activation=\"relu\"))\n",
        "model.add(Dense(units=4096,activation=\"relu\"))\n",
        "model.add(Dense(units=13, activation=\"softmax\"))\n",
        "\n",
        "model.compile(optimizer='rmsprop', loss='categorical_crossentropy', metrics=['accuracy'])\n",
        "# model.summary()\n",
        "\n",
        "print('>> VGG16 Rule-biased model training')\n",
        "model.fit(train_ims, train_rule, batch_size=12, epochs=25, shuffle=True)"
      ],
      "metadata": {
        "id": "IHuhSMtGqTPm",
        "colab": {
          "base_uri": "https://localhost:8080/"
        },
        "outputId": "2f8c5913-0358-405f-c097-b3c36b51085d"
      },
      "execution_count": null,
      "outputs": [
        {
          "output_type": "stream",
          "name": "stdout",
          "text": [
            ">> VGG16 Rule-biased model training\n",
            "Epoch 1/25\n",
            "467/467 [==============================] - 17s 33ms/step - loss: 2.9682 - accuracy: 0.1037\n",
            "Epoch 2/25\n",
            "467/467 [==============================] - 16s 33ms/step - loss: 2.3978 - accuracy: 0.0962\n",
            "Epoch 3/25\n",
            "467/467 [==============================] - 16s 33ms/step - loss: 2.3964 - accuracy: 0.0968\n",
            "Epoch 4/25\n",
            "467/467 [==============================] - 16s 34ms/step - loss: 2.3959 - accuracy: 0.0945\n",
            "Epoch 5/25\n",
            "467/467 [==============================] - 16s 34ms/step - loss: 2.3954 - accuracy: 0.1023\n",
            "Epoch 6/25\n",
            "467/467 [==============================] - 16s 34ms/step - loss: 2.3951 - accuracy: 0.1009\n",
            "Epoch 7/25\n",
            "467/467 [==============================] - 16s 34ms/step - loss: 2.3950 - accuracy: 0.1014\n",
            "Epoch 8/25\n",
            "467/467 [==============================] - 16s 34ms/step - loss: 2.3948 - accuracy: 0.1048\n",
            "Epoch 9/25\n",
            "467/467 [==============================] - 16s 34ms/step - loss: 2.3948 - accuracy: 0.1007\n",
            "Epoch 10/25\n",
            "467/467 [==============================] - 16s 33ms/step - loss: 2.3947 - accuracy: 0.1014\n",
            "Epoch 11/25\n",
            "467/467 [==============================] - 16s 34ms/step - loss: 2.3946 - accuracy: 0.0980\n",
            "Epoch 12/25\n",
            "467/467 [==============================] - 16s 34ms/step - loss: 2.3946 - accuracy: 0.1041\n",
            "Epoch 13/25\n",
            "467/467 [==============================] - 16s 34ms/step - loss: 2.3945 - accuracy: 0.1025\n",
            "Epoch 14/25\n",
            "467/467 [==============================] - 16s 34ms/step - loss: 2.3944 - accuracy: 0.1045\n",
            "Epoch 15/25\n",
            "467/467 [==============================] - 16s 34ms/step - loss: 2.3942 - accuracy: 0.0938\n",
            "Epoch 16/25\n",
            "467/467 [==============================] - 16s 33ms/step - loss: 2.3943 - accuracy: 0.0950\n",
            "Epoch 17/25\n",
            "467/467 [==============================] - 16s 34ms/step - loss: 2.3942 - accuracy: 0.0998\n",
            "Epoch 18/25\n",
            "467/467 [==============================] - 16s 34ms/step - loss: 2.3942 - accuracy: 0.1021\n",
            "Epoch 19/25\n",
            "467/467 [==============================] - 16s 34ms/step - loss: 2.3942 - accuracy: 0.1005\n",
            "Epoch 20/25\n",
            "467/467 [==============================] - 16s 34ms/step - loss: 2.3941 - accuracy: 0.0950\n",
            "Epoch 21/25\n",
            "467/467 [==============================] - 16s 34ms/step - loss: 2.3941 - accuracy: 0.1011\n",
            "Epoch 22/25\n",
            "467/467 [==============================] - 16s 34ms/step - loss: 2.3941 - accuracy: 0.1007\n",
            "Epoch 23/25\n",
            "467/467 [==============================] - 16s 34ms/step - loss: 2.3940 - accuracy: 0.1018\n",
            "Epoch 24/25\n",
            "467/467 [==============================] - 16s 34ms/step - loss: 2.3939 - accuracy: 0.1005\n",
            "Epoch 25/25\n",
            "467/467 [==============================] - 16s 34ms/step - loss: 2.3940 - accuracy: 0.1016\n"
          ]
        },
        {
          "output_type": "execute_result",
          "data": {
            "text/plain": [
              "<keras.callbacks.History at 0x7f1d9436f810>"
            ]
          },
          "metadata": {},
          "execution_count": 17
        }
      ]
    },
    {
      "cell_type": "markdown",
      "source": [
        "# Save\n",
        "Saves models in tf1 or tf2 directories depending on the TensorFlow version that was used."
      ],
      "metadata": {
        "id": "tBWaer8Fww4_"
      }
    },
    {
      "cell_type": "code",
      "source": [
        "## Save models\n",
        "# get corresponding path\n",
        "color_path = utils.pathfinder(tf1, level, 'color')\n",
        "shape_path = utils.pathfinder(tf1, level, 'shape')\n",
        "rule_path = utils.pathfinder(tf1, level, 'rule')\n",
        "\n",
        "# save to path and overwrite if necessary\n",
        "color_model.save(color_path, overwrite=True)\n",
        "shape_model.save(shape_path, overwrite=True)\n",
        "model.save(rule_path, overwrite=True)"
      ],
      "metadata": {
        "id": "hzV4kV9gmLVU"
      },
      "execution_count": null,
      "outputs": []
    },
    {
      "cell_type": "code",
      "source": [
        "print(rule_path)"
      ],
      "metadata": {
        "colab": {
          "base_uri": "https://localhost:8080/"
        },
        "id": "aImrQKvBOS4V",
        "outputId": "33fe9f98-ccbb-4549-cd0b-6704cbdafe6f"
      },
      "execution_count": null,
      "outputs": [
        {
          "output_type": "stream",
          "name": "stdout",
          "text": [
            "/content/drive/MyDrive/Colab Notebooks/liasd/saved_models/tf2/rule_biased0\n"
          ]
        }
      ]
    }
  ]
}