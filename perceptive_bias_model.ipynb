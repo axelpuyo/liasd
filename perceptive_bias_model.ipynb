{
  "nbformat": 4,
  "nbformat_minor": 0,
  "metadata": {
    "colab": {
      "name": "perceptive_bias_model.ipynb",
      "provenance": [],
      "collapsed_sections": [],
      "mount_file_id": "1BOV_Q3NMdwPohQLAFUyfBxLUl671tS5V",
      "authorship_tag": "ABX9TyPw3qclPOOHtaHOUeGDIOpH",
      "include_colab_link": true
    },
    "kernelspec": {
      "name": "python3",
      "display_name": "Python 3"
    },
    "language_info": {
      "name": "python"
    },
    "accelerator": "GPU",
    "gpuClass": "standard"
  },
  "cells": [
    {
      "cell_type": "markdown",
      "metadata": {
        "id": "view-in-github",
        "colab_type": "text"
      },
      "source": [
        "<a href=\"https://colab.research.google.com/github/axelpuyo/liasd/blob/master/perceptive_bias_model.ipynb\" target=\"_parent\"><img src=\"https://colab.research.google.com/assets/colab-badge.svg\" alt=\"Open In Colab\"/></a>"
      ]
    },
    {
      "cell_type": "code",
      "source": [
        "## Run once\n",
        "!pip install import-ipynb\n",
        "\n",
        "import os\n",
        "from google.colab import drive\n",
        "print(os.getcwd())\n",
        "print(os.listdir())\n",
        "\n",
        "#%cd your_path/Colab Notebooks\n",
        "%cd drive/MyDrive/Colab Notebooks"
      ],
      "metadata": {
        "colab": {
          "base_uri": "https://localhost:8080/"
        },
        "id": "feOUvwgQCRRm",
        "outputId": "8fc66985-42a4-408c-cbed-e9ecfb7dac7a"
      },
      "execution_count": 2,
      "outputs": [
        {
          "output_type": "stream",
          "name": "stdout",
          "text": [
            "Looking in indexes: https://pypi.org/simple, https://us-python.pkg.dev/colab-wheels/public/simple/\n",
            "Requirement already satisfied: import-ipynb in /usr/local/lib/python3.7/dist-packages (0.1.4)\n",
            "Requirement already satisfied: nbformat in /usr/local/lib/python3.7/dist-packages (from import-ipynb) (5.4.0)\n",
            "Requirement already satisfied: IPython in /usr/local/lib/python3.7/dist-packages (from import-ipynb) (5.5.0)\n",
            "Requirement already satisfied: pygments in /usr/local/lib/python3.7/dist-packages (from IPython->import-ipynb) (2.6.1)\n",
            "Requirement already satisfied: simplegeneric>0.8 in /usr/local/lib/python3.7/dist-packages (from IPython->import-ipynb) (0.8.1)\n",
            "Requirement already satisfied: traitlets>=4.2 in /usr/local/lib/python3.7/dist-packages (from IPython->import-ipynb) (5.1.1)\n",
            "Requirement already satisfied: pexpect in /usr/local/lib/python3.7/dist-packages (from IPython->import-ipynb) (4.8.0)\n",
            "Requirement already satisfied: setuptools>=18.5 in /usr/local/lib/python3.7/dist-packages (from IPython->import-ipynb) (57.4.0)\n",
            "Requirement already satisfied: decorator in /usr/local/lib/python3.7/dist-packages (from IPython->import-ipynb) (4.4.2)\n",
            "Requirement already satisfied: prompt-toolkit<2.0.0,>=1.0.4 in /usr/local/lib/python3.7/dist-packages (from IPython->import-ipynb) (1.0.18)\n",
            "Requirement already satisfied: pickleshare in /usr/local/lib/python3.7/dist-packages (from IPython->import-ipynb) (0.7.5)\n",
            "Requirement already satisfied: wcwidth in /usr/local/lib/python3.7/dist-packages (from prompt-toolkit<2.0.0,>=1.0.4->IPython->import-ipynb) (0.2.5)\n",
            "Requirement already satisfied: six>=1.9.0 in /usr/local/lib/python3.7/dist-packages (from prompt-toolkit<2.0.0,>=1.0.4->IPython->import-ipynb) (1.15.0)\n",
            "Requirement already satisfied: fastjsonschema in /usr/local/lib/python3.7/dist-packages (from nbformat->import-ipynb) (2.16.1)\n",
            "Requirement already satisfied: jupyter-core in /usr/local/lib/python3.7/dist-packages (from nbformat->import-ipynb) (4.11.1)\n",
            "Requirement already satisfied: jsonschema>=2.6 in /usr/local/lib/python3.7/dist-packages (from nbformat->import-ipynb) (4.3.3)\n",
            "Requirement already satisfied: attrs>=17.4.0 in /usr/local/lib/python3.7/dist-packages (from jsonschema>=2.6->nbformat->import-ipynb) (21.4.0)\n",
            "Requirement already satisfied: pyrsistent!=0.17.0,!=0.17.1,!=0.17.2,>=0.14.0 in /usr/local/lib/python3.7/dist-packages (from jsonschema>=2.6->nbformat->import-ipynb) (0.18.1)\n",
            "Requirement already satisfied: typing-extensions in /usr/local/lib/python3.7/dist-packages (from jsonschema>=2.6->nbformat->import-ipynb) (4.1.1)\n",
            "Requirement already satisfied: importlib-metadata in /usr/local/lib/python3.7/dist-packages (from jsonschema>=2.6->nbformat->import-ipynb) (4.12.0)\n",
            "Requirement already satisfied: importlib-resources>=1.4.0 in /usr/local/lib/python3.7/dist-packages (from jsonschema>=2.6->nbformat->import-ipynb) (5.8.0)\n",
            "Requirement already satisfied: zipp>=3.1.0 in /usr/local/lib/python3.7/dist-packages (from importlib-resources>=1.4.0->jsonschema>=2.6->nbformat->import-ipynb) (3.8.1)\n",
            "Requirement already satisfied: ptyprocess>=0.5 in /usr/local/lib/python3.7/dist-packages (from pexpect->IPython->import-ipynb) (0.7.0)\n",
            "/content\n",
            "['.config', 'drive', 'sample_data']\n",
            "/content/drive/MyDrive/Colab Notebooks\n"
          ]
        }
      ]
    },
    {
      "cell_type": "code",
      "source": [
        "import cv2\n",
        "import import_ipynb\n",
        "import explainers\n",
        "import colored_mnist\n",
        "\n",
        "import numpy as np\n",
        "import random as rd\n",
        "import tensorflow as tf\n",
        "import tensorflow.keras as keras\n",
        "import matplotlib.pyplot as plt"
      ],
      "metadata": {
        "id": "OQHN8yUonbU7",
        "colab": {
          "base_uri": "https://localhost:8080/",
          "height": 300
        },
        "outputId": "775a47b2-c87d-473e-adf1-a0684618e28c"
      },
      "execution_count": 3,
      "outputs": [
        {
          "output_type": "stream",
          "name": "stdout",
          "text": [
            "importing Jupyter notebook from explainers.ipynb\n",
            "importing Jupyter notebook from colored_mnist.ipynb\n"
          ]
        },
        {
          "output_type": "display_data",
          "data": {
            "text/plain": [
              "<Figure size 432x288 with 1 Axes>"
            ],
            "image/png": "[encoded data removed]"
          },
          "metadata": {
            "needs_background": "light"
          }
        }
      ]
    },
    {
      "cell_type": "code",
      "source": [
        "def uncategoric(lab):\n",
        "  names = np.array(['0', '1', '2', '3', '4', '5', '6', '7', '8', '9', 'r', 'g', 'b'])\n",
        "  numbers = np.array([i for i in range(13)])\n",
        "  idx = (lab == 1)\n",
        "  return str(names[idx == True]), int(numbers[idx == True])"
      ],
      "metadata": {
        "id": "w2hEwKkosuI2"
      },
      "execution_count": 4,
      "outputs": []
    },
    {
      "cell_type": "code",
      "source": [
        "(train_images, train_colors, train_numbers, train_mixed), (test_images, test_colors, test_numbers, test_mixed) = colored_mnist.load_data(8000)\n",
        "\n",
        "for i in range(5):\n",
        "  plt.axis('off')\n",
        "  plt.subplot(1, 5, i + 1)\n",
        "  plt.title(uncategoric(train_mixed[i])[0])\n",
        "  plt.imshow(train_images[i])"
      ],
      "metadata": {
        "id": "FNBUkfcGngb6",
        "colab": {
          "base_uri": "https://localhost:8080/",
          "height": 122
        },
        "outputId": "456aa27d-ceb9-4ab0-b256-f8097fee39ac"
      },
      "execution_count": 5,
      "outputs": [
        {
          "output_type": "display_data",
          "data": {
            "text/plain": [
              "<Figure size 432x288 with 5 Axes>"
            ],
            "image/png": "[encoded data removed]"
          },
          "metadata": {
            "needs_background": "light"
          }
        }
      ]
    },
    {
      "cell_type": "code",
      "source": [
        "# Color-biased model\n",
        "color_model = keras.Sequential()\n",
        "color_model.add(keras.layers.Conv2D(64, kernel_size=(3,3), padding='same', activation='relu'))\n",
        "color_model.add(keras.layers.MaxPool2D(pool_size=(2,2)))\n",
        "color_model.add(keras.layers.Conv2D(64, kernel_size=(3,3), padding='same', activation='relu'))\n",
        "color_model.add(keras.layers.MaxPool2D(pool_size=(2,2), padding='same'))\n",
        "color_model.add(keras.layers.Flatten())\n",
        "color_model.add(keras.layers.Dense(3))\n",
        "color_model.add(keras.layers.Softmax())\n",
        "\n",
        "input_shape = train_images.shape\n",
        "color_model.build(input_shape)\n",
        "\n",
        "color_model.compile(optimizer='rmsprop', loss='categorical_crossentropy', metrics=['accuracy'])\n",
        "# color_model.summary()\n",
        "\n",
        "print('>> Color-biased model training')\n",
        "color_model.fit(train_images, train_colors, batch_size=12, epochs=5)"
      ],
      "metadata": {
        "id": "PSKd4PNJulZc",
        "colab": {
          "base_uri": "https://localhost:8080/"
        },
        "outputId": "2463a856-d48f-4387-eeb0-4c37900cd261"
      },
      "execution_count": 6,
      "outputs": [
        {
          "output_type": "stream",
          "name": "stdout",
          "text": [
            ">> Color-biased model training\n",
            "Epoch 1/5\n",
            "667/667 [==============================] - 9s 8ms/step - loss: 0.0084 - accuracy: 0.9967\n",
            "Epoch 2/5\n",
            "667/667 [==============================] - 5s 8ms/step - loss: 5.9605e-11 - accuracy: 1.0000\n",
            "Epoch 3/5\n",
            "667/667 [==============================] - 5s 7ms/step - loss: 0.0000e+00 - accuracy: 1.0000\n",
            "Epoch 4/5\n",
            "667/667 [==============================] - 3s 5ms/step - loss: 0.0000e+00 - accuracy: 1.0000\n",
            "Epoch 5/5\n",
            "667/667 [==============================] - 3s 5ms/step - loss: 0.0000e+00 - accuracy: 1.0000\n"
          ]
        },
        {
          "output_type": "execute_result",
          "data": {
            "text/plain": [
              "<keras.callbacks.History at 0x7ff79bf86050>"
            ]
          },
          "metadata": {},
          "execution_count": 6
        }
      ]
    },
    {
      "cell_type": "code",
      "execution_count": 7,
      "metadata": {
        "id": "R3x7CduVnQt0",
        "colab": {
          "base_uri": "https://localhost:8080/"
        },
        "outputId": "53570c6d-2e53-4553-863b-cd8eddb23ca7"
      },
      "outputs": [
        {
          "output_type": "stream",
          "name": "stdout",
          "text": [
            ">> Shape-biased model training\n",
            "Epoch 1/25\n",
            "667/667 [==============================] - 4s 5ms/step - loss: 0.8686 - accuracy: 0.7172\n",
            "Epoch 2/25\n",
            "667/667 [==============================] - 3s 5ms/step - loss: 0.1744 - accuracy: 0.9480\n",
            "Epoch 3/25\n",
            "667/667 [==============================] - 3s 5ms/step - loss: 0.1232 - accuracy: 0.9624\n",
            "Epoch 4/25\n",
            "667/667 [==============================] - 3s 5ms/step - loss: 0.0886 - accuracy: 0.9744\n",
            "Epoch 5/25\n",
            "667/667 [==============================] - 3s 5ms/step - loss: 0.0711 - accuracy: 0.9770\n",
            "Epoch 6/25\n",
            "667/667 [==============================] - 3s 5ms/step - loss: 0.0572 - accuracy: 0.9837\n",
            "Epoch 7/25\n",
            "667/667 [==============================] - 3s 5ms/step - loss: 0.0439 - accuracy: 0.9872\n",
            "Epoch 8/25\n",
            "667/667 [==============================] - 3s 5ms/step - loss: 0.0351 - accuracy: 0.9899\n",
            "Epoch 9/25\n",
            "667/667 [==============================] - 3s 5ms/step - loss: 0.0279 - accuracy: 0.9920\n",
            "Epoch 10/25\n",
            "667/667 [==============================] - 3s 5ms/step - loss: 0.0194 - accuracy: 0.9948\n",
            "Epoch 11/25\n",
            "667/667 [==============================] - 3s 5ms/step - loss: 0.0160 - accuracy: 0.9956\n",
            "Epoch 12/25\n",
            "667/667 [==============================] - 3s 5ms/step - loss: 0.0105 - accuracy: 0.9971\n",
            "Epoch 13/25\n",
            "667/667 [==============================] - 3s 5ms/step - loss: 0.0090 - accuracy: 0.9967\n",
            "Epoch 14/25\n",
            "667/667 [==============================] - 3s 5ms/step - loss: 0.0082 - accuracy: 0.9981\n",
            "Epoch 15/25\n",
            "667/667 [==============================] - 4s 5ms/step - loss: 0.0048 - accuracy: 0.9989\n",
            "Epoch 16/25\n",
            "667/667 [==============================] - 4s 6ms/step - loss: 0.0031 - accuracy: 0.9991\n",
            "Epoch 17/25\n",
            "667/667 [==============================] - 3s 5ms/step - loss: 0.0028 - accuracy: 0.9992\n",
            "Epoch 18/25\n",
            "667/667 [==============================] - 3s 5ms/step - loss: 0.0010 - accuracy: 0.9998\n",
            "Epoch 19/25\n",
            "667/667 [==============================] - 3s 5ms/step - loss: 0.0025 - accuracy: 0.9991\n",
            "Epoch 20/25\n",
            "667/667 [==============================] - 3s 5ms/step - loss: 0.0029 - accuracy: 0.9990\n",
            "Epoch 21/25\n",
            "667/667 [==============================] - 3s 5ms/step - loss: 0.0012 - accuracy: 0.9994\n",
            "Epoch 22/25\n",
            "667/667 [==============================] - 3s 5ms/step - loss: 7.6841e-04 - accuracy: 0.9998\n",
            "Epoch 23/25\n",
            "667/667 [==============================] - 3s 5ms/step - loss: 2.7379e-04 - accuracy: 1.0000\n",
            "Epoch 24/25\n",
            "667/667 [==============================] - 3s 5ms/step - loss: 5.2717e-04 - accuracy: 0.9998\n",
            "Epoch 25/25\n",
            "667/667 [==============================] - 3s 5ms/step - loss: 9.0783e-04 - accuracy: 0.9995\n"
          ]
        },
        {
          "output_type": "execute_result",
          "data": {
            "text/plain": [
              "<keras.callbacks.History at 0x7ff79a572790>"
            ]
          },
          "metadata": {},
          "execution_count": 7
        }
      ],
      "source": [
        "# Shape-biased model\n",
        "shape_model = keras.Sequential()\n",
        "shape_model.add(keras.layers.Conv2D(64, kernel_size=(3,3), padding='same', activation='relu'))\n",
        "shape_model.add(keras.layers.MaxPool2D(pool_size=(2,2)))\n",
        "shape_model.add(keras.layers.Conv2D(64, kernel_size=(3,3), padding='same', activation='relu'))\n",
        "shape_model.add(keras.layers.MaxPool2D(pool_size=(2,2), padding='same'))\n",
        "shape_model.add(keras.layers.Flatten())\n",
        "shape_model.add(keras.layers.Dense(10))\n",
        "shape_model.add(keras.layers.Softmax())\n",
        "\n",
        "input_shape = train_images.shape\n",
        "shape_model.build(input_shape)\n",
        "\n",
        "shape_model.compile(optimizer='rmsprop', loss='categorical_crossentropy', metrics=['accuracy'])\n",
        "# shape_model.summary()\n",
        "\n",
        "print('>> Shape-biased model training')\n",
        "shape_model.fit(train_images, train_numbers, batch_size=12, epochs=25, shuffle=True)"
      ]
    },
    {
      "cell_type": "code",
      "source": [
        "# Rule-biased model\n",
        "model = keras.Sequential()\n",
        "model.add(keras.layers.Conv2D(64, kernel_size=(3,3), padding='same', activation='relu'))\n",
        "model.add(keras.layers.MaxPool2D(pool_size=(2,2)))\n",
        "model.add(keras.layers.Conv2D(64, kernel_size=(3,3), padding='same', activation='relu'))\n",
        "model.add(keras.layers.MaxPool2D(pool_size=(2,2), padding='same'))\n",
        "model.add(keras.layers.Flatten())\n",
        "model.add(keras.layers.Dense(13))\n",
        "model.add(keras.layers.Softmax())\n",
        "\n",
        "input_shape = train_images.shape\n",
        "model.build(input_shape)\n",
        "\n",
        "model.compile(optimizer='rmsprop', loss='categorical_crossentropy', metrics=['accuracy'])\n",
        "# model.summary()\n",
        "\n",
        "print('>> Rule-biased model training')\n",
        "model.fit(train_images, train_mixed, batch_size=12, epochs=25)\n",
        "\n",
        "# model.save(path)"
      ],
      "metadata": {
        "id": "v-JrxVlruuu5",
        "colab": {
          "base_uri": "https://localhost:8080/"
        },
        "outputId": "cddca78f-9189-4da0-8b49-1625ad3b72d0"
      },
      "execution_count": 8,
      "outputs": [
        {
          "output_type": "stream",
          "name": "stdout",
          "text": [
            ">> Rule-biased model training\n",
            "Epoch 1/25\n",
            "667/667 [==============================] - 4s 5ms/step - loss: 0.5077 - accuracy: 0.8344\n",
            "Epoch 2/25\n",
            "667/667 [==============================] - 3s 5ms/step - loss: 0.1280 - accuracy: 0.9635\n",
            "Epoch 3/25\n",
            "667/667 [==============================] - 3s 5ms/step - loss: 0.0774 - accuracy: 0.9775\n",
            "Epoch 4/25\n",
            "667/667 [==============================] - 4s 6ms/step - loss: 0.0574 - accuracy: 0.9835\n",
            "Epoch 5/25\n",
            "667/667 [==============================] - 3s 5ms/step - loss: 0.0416 - accuracy: 0.9871\n",
            "Epoch 6/25\n",
            "667/667 [==============================] - 3s 5ms/step - loss: 0.0300 - accuracy: 0.9905\n",
            "Epoch 7/25\n",
            "667/667 [==============================] - 3s 5ms/step - loss: 0.0225 - accuracy: 0.9933\n",
            "Epoch 8/25\n",
            "667/667 [==============================] - 3s 5ms/step - loss: 0.0156 - accuracy: 0.9945\n",
            "Epoch 9/25\n",
            "667/667 [==============================] - 3s 5ms/step - loss: 0.0123 - accuracy: 0.9960\n",
            "Epoch 10/25\n",
            "667/667 [==============================] - 3s 5ms/step - loss: 0.0055 - accuracy: 0.9980\n",
            "Epoch 11/25\n",
            "667/667 [==============================] - 3s 5ms/step - loss: 0.0054 - accuracy: 0.9979\n",
            "Epoch 12/25\n",
            "667/667 [==============================] - 3s 5ms/step - loss: 0.0031 - accuracy: 0.9989\n",
            "Epoch 13/25\n",
            "667/667 [==============================] - 3s 5ms/step - loss: 0.0017 - accuracy: 0.9992\n",
            "Epoch 14/25\n",
            "667/667 [==============================] - 3s 5ms/step - loss: 0.0029 - accuracy: 0.9989\n",
            "Epoch 15/25\n",
            "667/667 [==============================] - 3s 5ms/step - loss: 0.0014 - accuracy: 0.9994\n",
            "Epoch 16/25\n",
            "667/667 [==============================] - 3s 5ms/step - loss: 0.0022 - accuracy: 0.9995\n",
            "Epoch 17/25\n",
            "667/667 [==============================] - 3s 5ms/step - loss: 3.5445e-04 - accuracy: 0.9999\n",
            "Epoch 18/25\n",
            "667/667 [==============================] - 3s 5ms/step - loss: 1.3562e-04 - accuracy: 1.0000\n",
            "Epoch 19/25\n",
            "667/667 [==============================] - 3s 5ms/step - loss: 5.3455e-04 - accuracy: 0.9998\n",
            "Epoch 20/25\n",
            "667/667 [==============================] - 3s 5ms/step - loss: 7.2617e-04 - accuracy: 0.9998\n",
            "Epoch 21/25\n",
            "667/667 [==============================] - 3s 5ms/step - loss: 2.2498e-04 - accuracy: 0.9999\n",
            "Epoch 22/25\n",
            "667/667 [==============================] - 3s 5ms/step - loss: 6.2775e-05 - accuracy: 1.0000\n",
            "Epoch 23/25\n",
            "667/667 [==============================] - 3s 5ms/step - loss: 5.7396e-05 - accuracy: 1.0000\n",
            "Epoch 24/25\n",
            "667/667 [==============================] - 3s 5ms/step - loss: 2.8930e-04 - accuracy: 0.9998\n",
            "Epoch 25/25\n",
            "667/667 [==============================] - 3s 5ms/step - loss: 2.1011e-04 - accuracy: 0.9999\n"
          ]
        },
        {
          "output_type": "execute_result",
          "data": {
            "text/plain": [
              "<keras.callbacks.History at 0x7ff79be28750>"
            ]
          },
          "metadata": {},
          "execution_count": 8
        }
      ]
    },
    {
      "cell_type": "code",
      "source": [
        "def adversarial_tests():\n",
        "  pass\n",
        "  # # red_image = np.random.rand(1,28,28,3)\n",
        "  # # red_image[..., 1] = red_image[..., 2] = 0\n",
        "  # # plt.imshow(np.squeeze(red_image))\n",
        "  # # plt.axis('off')\n",
        "  # # plt.show()\n",
        "\n",
        "  # # model.predict(red_image)\n",
        "\n",
        "  # color_im = np.zeros((1,28,28,3))\n",
        "  # color_im[0, 0, 0, 1] = 1\n",
        "  # color_im[0, 0, 1:3, 2] = 1\n",
        "  # # color_im[0, 5:12, 14:24, 2] = 1\n",
        "  # # color_im[0, 13:24, 3:14, 2] = 1\n",
        "  # plt.imshow(np.squeeze(color_im))\n",
        "  # plt.show()\n",
        "  # plt.imshow(np.squeeze(color_im[..., 1]), cmap='gray')\n",
        "  # plt.colorbar()\n",
        "  # plt.show()\n",
        "\n",
        "  # print('>> Color')\n",
        "  # color_model.predict(color_im)\n",
        "  # # print('>> Shape')\n",
        "  # # shape_model.predict(color_im)\n",
        "  # # print('>> Normal')\n",
        "  # # model.predict(color_im)\n",
        "\n",
        "  # ## Grad-CAM+SHAP pour voir si ca s'allume autour ou au niveau du chiffre\n",
        "\n",
        "  # # plt.imshow(np.squeeze(train_images[0]))\n",
        "  # # plt.axis('off')\n",
        "  # # plt.show()\n",
        "\n",
        "  # # new_im = np.zeros((1,28,28,3))\n",
        "  # # new_im[..., 2] = (1 - train_images[0, ..., 0])\n",
        "  # # new_im[..., 1] = train_images[0, ..., 0]\n",
        "  # # plt.imshow(np.squeeze(new_im)[..., 2], cmap='gray')\n",
        "  # # plt.colorbar()\n",
        "  # # plt.show()\n",
        "\n",
        "  # # model.predict(new_im)"
      ],
      "metadata": {
        "id": "ytFG7lQTqKH-"
      },
      "execution_count": 9,
      "outputs": []
    },
    {
      "cell_type": "code",
      "source": [
        "## CONFUSIONS\n",
        "ims, labels = test_images, test_mixed\n",
        "labs = [0, 1, 2, 3, 4, 5, 6, 7, 8, 9, 'r', 'g', 'b']\n",
        "\n",
        "n = 200\n",
        "wrong_list = []\n",
        "test_ims = ims[:n]\n",
        "preds = model.predict(test_ims)\n",
        "for i in range(test_ims.shape[0]):\n",
        "  pred_max = max(preds[i]) # preds and ground are categorical, we must extract the number corresponding to the max value in the array.\n",
        "  ground_max = max(labels[i])\n",
        "  pred_value = list(preds[i]).index(pred_max)\n",
        "  ground_value = list(labels[i]).index(ground_max)\n",
        "\n",
        "  if pred_value != ground_value:\n",
        "    print('predicted value: ', labs[pred_value], '  ground truth: ', labs[ground_value], ' <<')\n",
        "    wrong_list.append((i, pred_value))\n",
        "  else:\n",
        "    print('predicted value: ', labs[pred_value] , '  ground truth: ', labs[ground_value])"
      ],
      "metadata": {
        "id": "StQsHOMDyw0s",
        "colab": {
          "base_uri": "https://localhost:8080/"
        },
        "outputId": "1dde0c31-328b-47ed-caa2-76be3bd818ca"
      },
      "execution_count": 10,
      "outputs": [
        {
          "output_type": "stream",
          "name": "stdout",
          "text": [
            "predicted value:  7   ground truth:  7\n",
            "predicted value:  2   ground truth:  2\n",
            "predicted value:  1   ground truth:  1\n",
            "predicted value:  0   ground truth:  0\n",
            "predicted value:  r   ground truth:  r\n",
            "predicted value:  1   ground truth:  1\n",
            "predicted value:  r   ground truth:  r\n",
            "predicted value:  9   ground truth:  9\n",
            "predicted value:  r   ground truth:  r\n",
            "predicted value:  9   ground truth:  9\n",
            "predicted value:  0   ground truth:  0\n",
            "predicted value:  r   ground truth:  r\n",
            "predicted value:  r   ground truth:  r\n",
            "predicted value:  0   ground truth:  0\n",
            "predicted value:  1   ground truth:  1\n",
            "predicted value:  5   ground truth:  5\n",
            "predicted value:  r   ground truth:  r\n",
            "predicted value:  7   ground truth:  7\n",
            "predicted value:  3   ground truth:  3\n",
            "predicted value:  4   ground truth:  4\n",
            "predicted value:  r   ground truth:  r\n",
            "predicted value:  6   ground truth:  6\n",
            "predicted value:  r   ground truth:  r\n",
            "predicted value:  5   ground truth:  5\n",
            "predicted value:  r   ground truth:  r\n",
            "predicted value:  r   ground truth:  r\n",
            "predicted value:  r   ground truth:  r\n",
            "predicted value:  4   ground truth:  4\n",
            "predicted value:  0   ground truth:  0\n",
            "predicted value:  1   ground truth:  1\n",
            "predicted value:  3   ground truth:  3\n",
            "predicted value:  r   ground truth:  r\n",
            "predicted value:  3   ground truth:  3\n",
            "predicted value:  r   ground truth:  r\n",
            "predicted value:  r   ground truth:  r\n",
            "predicted value:  r   ground truth:  r\n",
            "predicted value:  7   ground truth:  7\n",
            "predicted value:  r   ground truth:  r\n",
            "predicted value:  r   ground truth:  r\n",
            "predicted value:  1   ground truth:  1\n",
            "predicted value:  r   ground truth:  r\n",
            "predicted value:  7   ground truth:  7\n",
            "predicted value:  4   ground truth:  4\n",
            "predicted value:  2   ground truth:  2\n",
            "predicted value:  r   ground truth:  r\n",
            "predicted value:  5   ground truth:  5\n",
            "predicted value:  1   ground truth:  1\n",
            "predicted value:  2   ground truth:  2\n",
            "predicted value:  4   ground truth:  4\n",
            "predicted value:  4   ground truth:  4\n",
            "predicted value:  6   ground truth:  6\n",
            "predicted value:  3   ground truth:  3\n",
            "predicted value:  r   ground truth:  r\n",
            "predicted value:  5   ground truth:  5\n",
            "predicted value:  6   ground truth:  6\n",
            "predicted value:  r   ground truth:  r\n",
            "predicted value:  4   ground truth:  4\n",
            "predicted value:  r   ground truth:  r\n",
            "predicted value:  r   ground truth:  r\n",
            "predicted value:  5   ground truth:  5\n",
            "predicted value:  r   ground truth:  r\n",
            "predicted value:  r   ground truth:  r\n",
            "predicted value:  9   ground truth:  9\n",
            "predicted value:  3   ground truth:  3\n",
            "predicted value:  7   ground truth:  7\n",
            "predicted value:  4   ground truth:  4\n",
            "predicted value:  6   ground truth:  6\n",
            "predicted value:  r   ground truth:  r\n",
            "predicted value:  3   ground truth:  3\n",
            "predicted value:  0   ground truth:  0\n",
            "predicted value:  7   ground truth:  7\n",
            "predicted value:  0   ground truth:  0\n",
            "predicted value:  r   ground truth:  r\n",
            "predicted value:  9   ground truth:  9\n",
            "predicted value:  1   ground truth:  1\n",
            "predicted value:  7   ground truth:  7\n",
            "predicted value:  3   ground truth:  3\n",
            "predicted value:  2   ground truth:  2\n",
            "predicted value:  9   ground truth:  9\n",
            "predicted value:  7   ground truth:  7\n",
            "predicted value:  7   ground truth:  7\n",
            "predicted value:  6   ground truth:  6\n",
            "predicted value:  r   ground truth:  r\n",
            "predicted value:  7   ground truth:  7\n",
            "predicted value:  8   ground truth:  8\n",
            "predicted value:  r   ground truth:  r\n",
            "predicted value:  7   ground truth:  7\n",
            "predicted value:  r   ground truth:  r\n",
            "predicted value:  6   ground truth:  6\n",
            "predicted value:  1   ground truth:  1\n",
            "predicted value:  3   ground truth:  3\n",
            "predicted value:  6   ground truth:  6\n",
            "predicted value:  9   ground truth:  9\n",
            "predicted value:  3   ground truth:  3\n",
            "predicted value:  r   ground truth:  r\n",
            "predicted value:  4   ground truth:  4\n",
            "predicted value:  1   ground truth:  1\n",
            "predicted value:  7   ground truth:  7\n",
            "predicted value:  6   ground truth:  6\n",
            "predicted value:  9   ground truth:  9\n",
            "predicted value:  6   ground truth:  6\n",
            "predicted value:  0   ground truth:  0\n",
            "predicted value:  r   ground truth:  r\n",
            "predicted value:  4   ground truth:  4\n",
            "predicted value:  9   ground truth:  9\n",
            "predicted value:  9   ground truth:  9\n",
            "predicted value:  r   ground truth:  r\n",
            "predicted value:  r   ground truth:  r\n",
            "predicted value:  9   ground truth:  9\n",
            "predicted value:  4   ground truth:  4\n",
            "predicted value:  8   ground truth:  8\n",
            "predicted value:  7   ground truth:  7\n",
            "predicted value:  r   ground truth:  r\n",
            "predicted value:  9   ground truth:  9\n",
            "predicted value:  7   ground truth:  7\n",
            "predicted value:  r   ground truth:  r\n",
            "predicted value:  4   ground truth:  4\n",
            "predicted value:  r   ground truth:  r\n",
            "predicted value:  9   ground truth:  9\n",
            "predicted value:  9   ground truth:  2  <<\n",
            "predicted value:  r   ground truth:  r\n",
            "predicted value:  4   ground truth:  4\n",
            "predicted value:  7   ground truth:  7\n",
            "predicted value:  6   ground truth:  6\n",
            "predicted value:  7   ground truth:  7\n",
            "predicted value:  9   ground truth:  9\n",
            "predicted value:  r   ground truth:  r\n",
            "predicted value:  5   ground truth:  5\n",
            "predicted value:  8   ground truth:  8\n",
            "predicted value:  5   ground truth:  5\n",
            "predicted value:  r   ground truth:  r\n",
            "predicted value:  6   ground truth:  6\n",
            "predicted value:  5   ground truth:  5\n",
            "predicted value:  7   ground truth:  7\n",
            "predicted value:  r   ground truth:  r\n",
            "predicted value:  r   ground truth:  r\n",
            "predicted value:  0   ground truth:  0\n",
            "predicted value:  1   ground truth:  1\n",
            "predicted value:  6   ground truth:  6\n",
            "predicted value:  4   ground truth:  4\n",
            "predicted value:  6   ground truth:  6\n",
            "predicted value:  r   ground truth:  r\n",
            "predicted value:  3   ground truth:  3\n",
            "predicted value:  r   ground truth:  r\n",
            "predicted value:  7   ground truth:  7\n",
            "predicted value:  1   ground truth:  1\n",
            "predicted value:  8   ground truth:  8\n",
            "predicted value:  r   ground truth:  r\n",
            "predicted value:  r   ground truth:  r\n",
            "predicted value:  2   ground truth:  2\n",
            "predicted value:  9   ground truth:  9\n",
            "predicted value:  9   ground truth:  9\n",
            "predicted value:  5   ground truth:  5\n",
            "predicted value:  r   ground truth:  r\n",
            "predicted value:  r   ground truth:  r\n",
            "predicted value:  5   ground truth:  5\n",
            "predicted value:  6   ground truth:  6\n",
            "predicted value:  r   ground truth:  r\n",
            "predicted value:  r   ground truth:  r\n",
            "predicted value:  4   ground truth:  4\n",
            "predicted value:  4   ground truth:  4\n",
            "predicted value:  6   ground truth:  6\n",
            "predicted value:  5   ground truth:  5\n",
            "predicted value:  4   ground truth:  4\n",
            "predicted value:  r   ground truth:  r\n",
            "predicted value:  5   ground truth:  5\n",
            "predicted value:  r   ground truth:  r\n",
            "predicted value:  5   ground truth:  5\n",
            "predicted value:  1   ground truth:  1\n",
            "predicted value:  4   ground truth:  4\n",
            "predicted value:  4   ground truth:  4\n",
            "predicted value:  7   ground truth:  7\n",
            "predicted value:  2   ground truth:  2\n",
            "predicted value:  3   ground truth:  3\n",
            "predicted value:  r   ground truth:  r\n",
            "predicted value:  r   ground truth:  r\n",
            "predicted value:  1   ground truth:  1\n",
            "predicted value:  r   ground truth:  r\n",
            "predicted value:  r   ground truth:  r\n",
            "predicted value:  8   ground truth:  8\n",
            "predicted value:  r   ground truth:  r\n",
            "predicted value:  r   ground truth:  r\n",
            "predicted value:  r   ground truth:  r\n",
            "predicted value:  0   ground truth:  0\n",
            "predicted value:  2   ground truth:  8  <<\n",
            "predicted value:  9   ground truth:  9\n",
            "predicted value:  2   ground truth:  2\n",
            "predicted value:  r   ground truth:  r\n",
            "predicted value:  r   ground truth:  r\n",
            "predicted value:  1   ground truth:  1\n",
            "predicted value:  r   ground truth:  r\n",
            "predicted value:  4   ground truth:  1  <<\n",
            "predicted value:  r   ground truth:  r\n",
            "predicted value:  r   ground truth:  r\n",
            "predicted value:  r   ground truth:  r\n",
            "predicted value:  3   ground truth:  3\n",
            "predicted value:  1   ground truth:  1\n",
            "predicted value:  6   ground truth:  6\n",
            "predicted value:  4   ground truth:  4\n",
            "predicted value:  2   ground truth:  2\n"
          ]
        }
      ]
    },
    {
      "cell_type": "code",
      "source": [
        "c, plots = 1, 1\n",
        "print('>> Wrongly classified : ', len(wrong_list), '/', test_ims.shape[0])\n",
        "plt.suptitle('prediction vs. label', y=0.9)\n",
        "labs = [0, 1, 2, 3, 4, 5, 6, 7, 8, 9, 'red', 'green', 'blue']\n",
        "for (i, j) in wrong_list:\n",
        "  ground_truth = list(test_numbers[i])\n",
        "  max_val = max(ground_truth)\n",
        "  true_label = ground_truth.index(max_val)\n",
        "  pred_label = labs[j]\n",
        "\n",
        "  if plots and wrong_list:\n",
        "    plt.subplot(1, len(wrong_list), c)\n",
        "    plt.title('{} vs. {}'.format(pred_label, true_label))\n",
        "    plt.imshow(test_ims[i])\n",
        "    plt.axis('off')\n",
        "  c += 1"
      ],
      "metadata": {
        "id": "S9JKW8mq3mNx",
        "colab": {
          "base_uri": "https://localhost:8080/",
          "height": 212
        },
        "outputId": "b6a07b78-2f8e-4953-d9d7-f68d0352c306"
      },
      "execution_count": 11,
      "outputs": [
        {
          "output_type": "stream",
          "name": "stdout",
          "text": [
            ">> Wrongly classified :  3 / 200\n"
          ]
        },
        {
          "output_type": "display_data",
          "data": {
            "text/plain": [
              "<Figure size 432x288 with 3 Axes>"
            ],
            "image/png": "[encoded data removed]"
          },
          "metadata": {
            "needs_background": "light"
          }
        }
      ]
    },
    {
      "cell_type": "code",
      "source": [
        "## POST-ANALYSIS\n",
        "# if wrong_list: # THIS IS DEPRECATED\n",
        "#   rgb_confusion = np.zeros((3,))\n",
        "#   for (i, j) in wrong_list: # i : index of wrongly classified image in the test dataset, # j : predicted label of that image.\n",
        "#     im = test_ims[i]\n",
        "#     for k in range(3):\n",
        "#       if im[..., k].any():\n",
        "#         rgb_confusion[k] += 1\n",
        "\n",
        "#   rgb_confusion /= len(wrong_list)\n",
        "#   pie_labels = ['red', 'green', 'blue']\n",
        "#   plt.pie(rgb_confusion, labels = pie_labels, colors = pie_labels, autopct='%1.1f%%')\n",
        "#   plt.title('is misclassification linked to color?')\n",
        "#   plt.show()\n",
        "explainer = 'cam'\n",
        "\n",
        "if __name__ == '__main__': # works great\n",
        "  idx = np.random.randint(0, 2000)\n",
        "  test_img = test_images[idx]\n",
        "  test_lab = test_mixed[idx]\n",
        "\n",
        "  plt.subplot(1, 2, 1)\n",
        "  plt.title('label = {}'.format(str(uncategoric(test_lab)[0])))\n",
        "  plt.imshow(test_img)\n",
        "  plt.axis('off')\n",
        "\n",
        "  if explainer == 'cam':\n",
        "    print('loss : ', model.evaluate(test_img[np.newaxis], test_lab[np.newaxis], verbose=0)[0])\n",
        "    plt.subplot(1, 2, 2)\n",
        "    plt.imshow(explainers.gradcam(model, 'conv2d_4', test_img[np.newaxis]), cmap='hot')\n",
        "    plt.title('gradcam')\n",
        "    plt.axis('off')\n",
        "    plt.show()\n",
        "\n",
        "  elif explainer == 'rise': # doesn't work very well\n",
        "    num = 500\n",
        "    idx = np.random.randint(0, 2000)\n",
        "    proba = 3/4\n",
        "    print('loss : ', model.evaluate(test_img[np.newaxis], test_lab[np.newaxis], verbose=0)[0])\n",
        "\n",
        "    heatmap = explainers.rise(model, test_img, test_lab, num, proba)\n",
        "\n",
        "    plt.subplot(1, 2, 2)\n",
        "    plt.imshow(heatmap, cmap='hot')\n",
        "    plt.title('rise')\n",
        "    plt.axis('off')\n",
        "    plt.show()\n",
        "    \n",
        "  elif explainer == 'shap':\n",
        "    pass\n",
        "\n",
        "  else:\n",
        "    pass"
      ],
      "metadata": {
        "id": "0zQrXt7_6tc-",
        "colab": {
          "base_uri": "https://localhost:8080/",
          "height": 234
        },
        "outputId": "d203d00f-836a-4b48-be43-3e8642e0db8c"
      },
      "execution_count": 35,
      "outputs": [
        {
          "output_type": "stream",
          "name": "stdout",
          "text": [
            "loss :  0.0\n",
            "conv2d_4\n"
          ]
        },
        {
          "output_type": "display_data",
          "data": {
            "text/plain": [
              "<Figure size 432x288 with 2 Axes>"
            ],
            "image/png": "[encoded data removed]"
          },
          "metadata": {
            "needs_background": "light"
          }
        }
      ]
    },
    {
      "cell_type": "code",
      "source": [
        "## REPRESENTATIONAL SIMILARITY ANALYSIS\n",
        "from keras.models import Model\n",
        "\n",
        "# del f_map\n",
        "models = [color_model, shape_model, model]\n",
        "model_names = ['Color-biased model', 'Shape-biased model', 'Rule-biased model']\n",
        "im = train_images[0]\n",
        "if im.ndim < 4:\n",
        "  im = np.expand_dims(im, axis=0)\n",
        "\n",
        "f_map = [[],[],[]]\n",
        "for (n, model) in enumerate(models):\n",
        "  print(model_names[n])\n",
        "  for i in range(len(model.layers)):\n",
        "    if 'conv' not in model.layers[i].name:\n",
        "      continue\n",
        "    model2 = Model(inputs=model.inputs, outputs=model.layers[i].output)\n",
        "\n",
        "    kernels, biases = model.layers[i].get_weights()\n",
        "    k_min, k_max = kernels.min(), kernels.max()\n",
        "    kernels = (kernels - k_min) / (k_max - k_min)\n",
        "    feature_map = model2.predict(im)\n",
        "\n",
        "    # f_map = np.squeeze(feature_map[..., 0])\n",
        "    # kernel = np.squeeze(kernels[..., 0, 0]) # Ce zéro est suspect, on ne sait pas si ce feature map vient forcément du 1er input du convolutional layer d'avant.\n",
        "\n",
        "    # print(model.layers[i].name, kernels.shape)\n",
        "    # plt.figure(figsize=(20,5))\n",
        "    # plt.subplot(131)\n",
        "    # plt.imshow(np.squeeze(im), aspect='auto')\n",
        "    # plt.colorbar()\n",
        "    # plt.subplot(132)\n",
        "    # plt.imshow(kernel, aspect='auto')\n",
        "    # plt.colorbar()\n",
        "    # plt.subplot(133)\n",
        "    # plt.imshow(f_map, aspect='auto')\n",
        "    # plt.colorbar()\n",
        "    # plt.show()\n",
        "    # Visualize all feature maps and corresponding filters.\n",
        "    num_maps = feature_map.shape[-1]\n",
        "    rows = int(np.floor(np.sqrt(num_maps)))\n",
        "    idx = 1\n",
        "    # plt.figure(figsize=(20, 10))\n",
        "    print(model.layers[i].name, kernels.shape)\n",
        "    for j in range(0, num_maps, 8):\n",
        "      # print(num_maps, idx, rows*2*rows)\n",
        "      f_map[n].append(np.squeeze(feature_map[..., j]))\n",
        "      kernel = np.squeeze(kernels[..., 0, j]) # Ce zéro est suspect : revoir les shape des kernels.\n",
        "\n",
        "      if n == 2:\n",
        "        print(np.array(f_map).shape)\n",
        "        print('color_bias : ', np.corrcoef(f_map[0][-1], f_map[2][-1]))\n",
        "        print('shape_bias : ', np.corrcoef(f_map[1][-1], f_map[2][-1]))\n",
        "      # plt.subplot(2, 8, idx)\n",
        "      # plt.imshow(kernel, aspect='auto')\n",
        "      # plt.subplot(2, 8, idx + 1)\n",
        "      # plt.imshow(f_map, aspect='auto')\n",
        "\n",
        "      idx += 2\n",
        "    # plt.show()\n",
        "  pass # use feature map analysis code developed last week"
      ],
      "metadata": {
        "id": "-XDrc5gXn6G5",
        "colab": {
          "base_uri": "https://localhost:8080/",
          "height": 712
        },
        "outputId": "ea65ce6e-ef2b-47f3-b578-4adab5bbde13"
      },
      "execution_count": 13,
      "outputs": [
        {
          "output_type": "stream",
          "name": "stdout",
          "text": [
            "Color-biased model\n",
            "conv2d (3, 3, 3, 64)\n",
            "conv2d_1 (3, 3, 64, 64)\n",
            "Shape-biased model\n",
            "conv2d_2 (3, 3, 3, 64)\n",
            "WARNING:tensorflow:5 out of the last 11 calls to <function Model.make_predict_function.<locals>.predict_function at 0x7ff82f04ce60> triggered tf.function retracing. Tracing is expensive and the excessive number of tracings could be due to (1) creating @tf.function repeatedly in a loop, (2) passing tensors with different shapes, (3) passing Python objects instead of tensors. For (1), please define your @tf.function outside of the loop. For (2), @tf.function has experimental_relax_shapes=True option that relaxes argument shapes that can avoid unnecessary retracing. For (3), please refer to https://www.tensorflow.org/guide/function#controlling_retracing and https://www.tensorflow.org/api_docs/python/tf/function for  more details.\n",
            "conv2d_3 (3, 3, 64, 64)\n",
            "Rule-biased model\n",
            "WARNING:tensorflow:6 out of the last 12 calls to <function Model.make_predict_function.<locals>.predict_function at 0x7ff82ef595f0> triggered tf.function retracing. Tracing is expensive and the excessive number of tracings could be due to (1) creating @tf.function repeatedly in a loop, (2) passing tensors with different shapes, (3) passing Python objects instead of tensors. For (1), please define your @tf.function outside of the loop. For (2), @tf.function has experimental_relax_shapes=True option that relaxes argument shapes that can avoid unnecessary retracing. For (3), please refer to https://www.tensorflow.org/guide/function#controlling_retracing and https://www.tensorflow.org/api_docs/python/tf/function for  more details.\n",
            "conv2d_4 (3, 3, 3, 64)\n",
            "(3,)\n"
          ]
        },
        {
          "output_type": "stream",
          "name": "stderr",
          "text": [
            "/usr/local/lib/python3.7/dist-packages/ipykernel_launcher.py:51: VisibleDeprecationWarning: Creating an ndarray from ragged nested sequences (which is a list-or-tuple of lists-or-tuples-or ndarrays with different lengths or shapes) is deprecated. If you meant to do this, you must specify 'dtype=object' when creating the ndarray.\n"
          ]
        },
        {
          "output_type": "error",
          "ename": "ValueError",
          "evalue": "ignored",
          "traceback": [
            "\u001b[0;31m---------------------------------------------------------------------------\u001b[0m",
            "\u001b[0;31mValueError\u001b[0m                                Traceback (most recent call last)",
            "\u001b[0;32m<ipython-input-13-9b1751f9e435>\u001b[0m in \u001b[0;36m<module>\u001b[0;34m()\u001b[0m\n\u001b[1;32m     50\u001b[0m       \u001b[0;32mif\u001b[0m \u001b[0mn\u001b[0m \u001b[0;34m==\u001b[0m \u001b[0;36m2\u001b[0m\u001b[0;34m:\u001b[0m\u001b[0;34m\u001b[0m\u001b[0;34m\u001b[0m\u001b[0m\n\u001b[1;32m     51\u001b[0m         \u001b[0mprint\u001b[0m\u001b[0;34m(\u001b[0m\u001b[0mnp\u001b[0m\u001b[0;34m.\u001b[0m\u001b[0marray\u001b[0m\u001b[0;34m(\u001b[0m\u001b[0mf_map\u001b[0m\u001b[0;34m)\u001b[0m\u001b[0;34m.\u001b[0m\u001b[0mshape\u001b[0m\u001b[0;34m)\u001b[0m\u001b[0;34m\u001b[0m\u001b[0;34m\u001b[0m\u001b[0m\n\u001b[0;32m---> 52\u001b[0;31m         \u001b[0mprint\u001b[0m\u001b[0;34m(\u001b[0m\u001b[0;34m'color_bias : '\u001b[0m\u001b[0;34m,\u001b[0m \u001b[0mnp\u001b[0m\u001b[0;34m.\u001b[0m\u001b[0mcorrcoef\u001b[0m\u001b[0;34m(\u001b[0m\u001b[0mf_map\u001b[0m\u001b[0;34m[\u001b[0m\u001b[0;36m0\u001b[0m\u001b[0;34m]\u001b[0m\u001b[0;34m[\u001b[0m\u001b[0;34m-\u001b[0m\u001b[0;36m1\u001b[0m\u001b[0;34m]\u001b[0m\u001b[0;34m,\u001b[0m \u001b[0mf_map\u001b[0m\u001b[0;34m[\u001b[0m\u001b[0;36m2\u001b[0m\u001b[0;34m]\u001b[0m\u001b[0;34m[\u001b[0m\u001b[0;34m-\u001b[0m\u001b[0;36m1\u001b[0m\u001b[0;34m]\u001b[0m\u001b[0;34m)\u001b[0m\u001b[0;34m)\u001b[0m\u001b[0;34m\u001b[0m\u001b[0;34m\u001b[0m\u001b[0m\n\u001b[0m\u001b[1;32m     53\u001b[0m         \u001b[0mprint\u001b[0m\u001b[0;34m(\u001b[0m\u001b[0;34m'shape_bias : '\u001b[0m\u001b[0;34m,\u001b[0m \u001b[0mnp\u001b[0m\u001b[0;34m.\u001b[0m\u001b[0mcorrcoef\u001b[0m\u001b[0;34m(\u001b[0m\u001b[0mf_map\u001b[0m\u001b[0;34m[\u001b[0m\u001b[0;36m1\u001b[0m\u001b[0;34m]\u001b[0m\u001b[0;34m[\u001b[0m\u001b[0;34m-\u001b[0m\u001b[0;36m1\u001b[0m\u001b[0;34m]\u001b[0m\u001b[0;34m,\u001b[0m \u001b[0mf_map\u001b[0m\u001b[0;34m[\u001b[0m\u001b[0;36m2\u001b[0m\u001b[0;34m]\u001b[0m\u001b[0;34m[\u001b[0m\u001b[0;34m-\u001b[0m\u001b[0;36m1\u001b[0m\u001b[0;34m]\u001b[0m\u001b[0;34m)\u001b[0m\u001b[0;34m)\u001b[0m\u001b[0;34m\u001b[0m\u001b[0;34m\u001b[0m\u001b[0m\n\u001b[1;32m     54\u001b[0m       \u001b[0;31m# plt.subplot(2, 8, idx)\u001b[0m\u001b[0;34m\u001b[0m\u001b[0;34m\u001b[0m\u001b[0;34m\u001b[0m\u001b[0m\n",
            "\u001b[0;32m<__array_function__ internals>\u001b[0m in \u001b[0;36mcorrcoef\u001b[0;34m(*args, **kwargs)\u001b[0m\n",
            "\u001b[0;32m/usr/local/lib/python3.7/dist-packages/numpy/lib/function_base.py\u001b[0m in \u001b[0;36mcorrcoef\u001b[0;34m(x, y, rowvar, bias, ddof, dtype)\u001b[0m\n\u001b[1;32m   2681\u001b[0m         warnings.warn('bias and ddof have no effect and are deprecated',\n\u001b[1;32m   2682\u001b[0m                       DeprecationWarning, stacklevel=3)\n\u001b[0;32m-> 2683\u001b[0;31m     \u001b[0mc\u001b[0m \u001b[0;34m=\u001b[0m \u001b[0mcov\u001b[0m\u001b[0;34m(\u001b[0m\u001b[0mx\u001b[0m\u001b[0;34m,\u001b[0m \u001b[0my\u001b[0m\u001b[0;34m,\u001b[0m \u001b[0mrowvar\u001b[0m\u001b[0;34m,\u001b[0m \u001b[0mdtype\u001b[0m\u001b[0;34m=\u001b[0m\u001b[0mdtype\u001b[0m\u001b[0;34m)\u001b[0m\u001b[0;34m\u001b[0m\u001b[0;34m\u001b[0m\u001b[0m\n\u001b[0m\u001b[1;32m   2684\u001b[0m     \u001b[0;32mtry\u001b[0m\u001b[0;34m:\u001b[0m\u001b[0;34m\u001b[0m\u001b[0;34m\u001b[0m\u001b[0m\n\u001b[1;32m   2685\u001b[0m         \u001b[0md\u001b[0m \u001b[0;34m=\u001b[0m \u001b[0mdiag\u001b[0m\u001b[0;34m(\u001b[0m\u001b[0mc\u001b[0m\u001b[0;34m)\u001b[0m\u001b[0;34m\u001b[0m\u001b[0;34m\u001b[0m\u001b[0m\n",
            "\u001b[0;32m<__array_function__ internals>\u001b[0m in \u001b[0;36mcov\u001b[0;34m(*args, **kwargs)\u001b[0m\n",
            "\u001b[0;32m/usr/local/lib/python3.7/dist-packages/numpy/lib/function_base.py\u001b[0m in \u001b[0;36mcov\u001b[0;34m(m, y, rowvar, bias, ddof, fweights, aweights, dtype)\u001b[0m\n\u001b[1;32m   2475\u001b[0m         \u001b[0;32mif\u001b[0m \u001b[0;32mnot\u001b[0m \u001b[0mrowvar\u001b[0m \u001b[0;32mand\u001b[0m \u001b[0my\u001b[0m\u001b[0;34m.\u001b[0m\u001b[0mshape\u001b[0m\u001b[0;34m[\u001b[0m\u001b[0;36m0\u001b[0m\u001b[0;34m]\u001b[0m \u001b[0;34m!=\u001b[0m \u001b[0;36m1\u001b[0m\u001b[0;34m:\u001b[0m\u001b[0;34m\u001b[0m\u001b[0;34m\u001b[0m\u001b[0m\n\u001b[1;32m   2476\u001b[0m             \u001b[0my\u001b[0m \u001b[0;34m=\u001b[0m \u001b[0my\u001b[0m\u001b[0;34m.\u001b[0m\u001b[0mT\u001b[0m\u001b[0;34m\u001b[0m\u001b[0;34m\u001b[0m\u001b[0m\n\u001b[0;32m-> 2477\u001b[0;31m         \u001b[0mX\u001b[0m \u001b[0;34m=\u001b[0m \u001b[0mnp\u001b[0m\u001b[0;34m.\u001b[0m\u001b[0mconcatenate\u001b[0m\u001b[0;34m(\u001b[0m\u001b[0;34m(\u001b[0m\u001b[0mX\u001b[0m\u001b[0;34m,\u001b[0m \u001b[0my\u001b[0m\u001b[0;34m)\u001b[0m\u001b[0;34m,\u001b[0m \u001b[0maxis\u001b[0m\u001b[0;34m=\u001b[0m\u001b[0;36m0\u001b[0m\u001b[0;34m)\u001b[0m\u001b[0;34m\u001b[0m\u001b[0;34m\u001b[0m\u001b[0m\n\u001b[0m\u001b[1;32m   2478\u001b[0m \u001b[0;34m\u001b[0m\u001b[0m\n\u001b[1;32m   2479\u001b[0m     \u001b[0;32mif\u001b[0m \u001b[0mddof\u001b[0m \u001b[0;32mis\u001b[0m \u001b[0;32mNone\u001b[0m\u001b[0;34m:\u001b[0m\u001b[0;34m\u001b[0m\u001b[0;34m\u001b[0m\u001b[0m\n",
            "\u001b[0;32m<__array_function__ internals>\u001b[0m in \u001b[0;36mconcatenate\u001b[0;34m(*args, **kwargs)\u001b[0m\n",
            "\u001b[0;31mValueError\u001b[0m: all the input array dimensions for the concatenation axis must match exactly, but along dimension 1, the array at index 0 has size 14 and the array at index 1 has size 28"
          ]
        }
      ]
    }
  ]
}