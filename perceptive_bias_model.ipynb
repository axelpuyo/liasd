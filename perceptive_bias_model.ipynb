{
  "nbformat": 4,
  "nbformat_minor": 0,
  "metadata": {
    "colab": {
      "name": "perceptive_bias_model.ipynb",
      "provenance": [],
      "collapsed_sections": [],
      "mount_file_id": "1BOV_Q3NMdwPohQLAFUyfBxLUl671tS5V",
      "authorship_tag": "ABX9TyPnx/SbtI2hk/H/yeXsO+Ho",
      "include_colab_link": true
    },
    "kernelspec": {
      "name": "python3",
      "display_name": "Python 3"
    },
    "language_info": {
      "name": "python"
    },
    "accelerator": "GPU",
    "gpuClass": "standard"
  },
  "cells": [
    {
      "cell_type": "markdown",
      "metadata": {
        "id": "view-in-github",
        "colab_type": "text"
      },
      "source": [
        "<a href=\"https://colab.research.google.com/github/axelpuyo/liasd/blob/master/perceptive_bias_model.ipynb\" target=\"_parent\"><img src=\"https://colab.research.google.com/assets/colab-badge.svg\" alt=\"Open In Colab\"/></a>"
      ]
    },
    {
      "cell_type": "code",
      "source": [
        "## Run once\n",
        "!pip install import-ipynb\n",
        "\n",
        "import os\n",
        "from google.colab import drive\n",
        "print(os.getcwd())\n",
        "print(os.listdir())\n",
        "\n",
        "#%cd your_path/Colab Notebooks\n",
        "%cd drive/MyDrive/Colab Notebooks"
      ],
      "metadata": {
        "colab": {
          "base_uri": "https://localhost:8080/"
        },
        "id": "feOUvwgQCRRm",
        "outputId": "758113ee-e0bf-44f7-83dd-b9f302e4603b"
      },
      "execution_count": 1,
      "outputs": [
        {
          "output_type": "stream",
          "name": "stdout",
          "text": [
            "Looking in indexes: https://pypi.org/simple, https://us-python.pkg.dev/colab-wheels/public/simple/\n",
            "Collecting import-ipynb\n",
            "  Downloading import_ipynb-0.1.4-py3-none-any.whl (4.1 kB)\n",
            "Requirement already satisfied: IPython in /usr/local/lib/python3.7/dist-packages (from import-ipynb) (5.5.0)\n",
            "Requirement already satisfied: nbformat in /usr/local/lib/python3.7/dist-packages (from import-ipynb) (5.4.0)\n",
            "Requirement already satisfied: decorator in /usr/local/lib/python3.7/dist-packages (from IPython->import-ipynb) (4.4.2)\n",
            "Requirement already satisfied: pickleshare in /usr/local/lib/python3.7/dist-packages (from IPython->import-ipynb) (0.7.5)\n",
            "Requirement already satisfied: setuptools>=18.5 in /usr/local/lib/python3.7/dist-packages (from IPython->import-ipynb) (57.4.0)\n",
            "Requirement already satisfied: traitlets>=4.2 in /usr/local/lib/python3.7/dist-packages (from IPython->import-ipynb) (5.1.1)\n",
            "Requirement already satisfied: pexpect in /usr/local/lib/python3.7/dist-packages (from IPython->import-ipynb) (4.8.0)\n",
            "Requirement already satisfied: prompt-toolkit<2.0.0,>=1.0.4 in /usr/local/lib/python3.7/dist-packages (from IPython->import-ipynb) (1.0.18)\n",
            "Requirement already satisfied: simplegeneric>0.8 in /usr/local/lib/python3.7/dist-packages (from IPython->import-ipynb) (0.8.1)\n",
            "Requirement already satisfied: pygments in /usr/local/lib/python3.7/dist-packages (from IPython->import-ipynb) (2.6.1)\n",
            "Requirement already satisfied: six>=1.9.0 in /usr/local/lib/python3.7/dist-packages (from prompt-toolkit<2.0.0,>=1.0.4->IPython->import-ipynb) (1.15.0)\n",
            "Requirement already satisfied: wcwidth in /usr/local/lib/python3.7/dist-packages (from prompt-toolkit<2.0.0,>=1.0.4->IPython->import-ipynb) (0.2.5)\n",
            "Requirement already satisfied: fastjsonschema in /usr/local/lib/python3.7/dist-packages (from nbformat->import-ipynb) (2.15.3)\n",
            "Requirement already satisfied: jupyter-core in /usr/local/lib/python3.7/dist-packages (from nbformat->import-ipynb) (4.11.1)\n",
            "Requirement already satisfied: jsonschema>=2.6 in /usr/local/lib/python3.7/dist-packages (from nbformat->import-ipynb) (4.3.3)\n",
            "Requirement already satisfied: typing-extensions in /usr/local/lib/python3.7/dist-packages (from jsonschema>=2.6->nbformat->import-ipynb) (4.1.1)\n",
            "Requirement already satisfied: importlib-metadata in /usr/local/lib/python3.7/dist-packages (from jsonschema>=2.6->nbformat->import-ipynb) (4.12.0)\n",
            "Requirement already satisfied: importlib-resources>=1.4.0 in /usr/local/lib/python3.7/dist-packages (from jsonschema>=2.6->nbformat->import-ipynb) (5.8.0)\n",
            "Requirement already satisfied: attrs>=17.4.0 in /usr/local/lib/python3.7/dist-packages (from jsonschema>=2.6->nbformat->import-ipynb) (21.4.0)\n",
            "Requirement already satisfied: pyrsistent!=0.17.0,!=0.17.1,!=0.17.2,>=0.14.0 in /usr/local/lib/python3.7/dist-packages (from jsonschema>=2.6->nbformat->import-ipynb) (0.18.1)\n",
            "Requirement already satisfied: zipp>=3.1.0 in /usr/local/lib/python3.7/dist-packages (from importlib-resources>=1.4.0->jsonschema>=2.6->nbformat->import-ipynb) (3.8.0)\n",
            "Requirement already satisfied: ptyprocess>=0.5 in /usr/local/lib/python3.7/dist-packages (from pexpect->IPython->import-ipynb) (0.7.0)\n",
            "Installing collected packages: import-ipynb\n",
            "Successfully installed import-ipynb-0.1.4\n",
            "/content\n",
            "['.config', 'drive', 'sample_data']\n",
            "/content/drive/MyDrive/Colab Notebooks\n"
          ]
        }
      ]
    },
    {
      "cell_type": "code",
      "source": [
        "import numpy as np\n",
        "import random as rd\n",
        "import import_ipynb\n",
        "import colored_mnist\n",
        "import tensorflow as tf\n",
        "import tensorflow.keras as keras\n",
        "import matplotlib.pyplot as plt"
      ],
      "metadata": {
        "id": "OQHN8yUonbU7",
        "colab": {
          "base_uri": "https://localhost:8080/",
          "height": 538
        },
        "outputId": "a74c8484-d6f5-4c11-f19a-2d3f702b628a"
      },
      "execution_count": 2,
      "outputs": [
        {
          "output_type": "stream",
          "name": "stdout",
          "text": [
            "importing Jupyter notebook from colored_mnist.ipynb\n"
          ]
        },
        {
          "output_type": "display_data",
          "data": {
            "text/plain": [
              "<Figure size 432x288 with 2 Axes>"
            ],
            "image/png": "[encoded data removed]"
          },
          "metadata": {
            "needs_background": "light"
          }
        },
        {
          "output_type": "display_data",
          "data": {
            "text/plain": [
              "<Figure size 432x288 with 2 Axes>"
            ],
            "image/png": "[encoded data removed]"
          },
          "metadata": {
            "needs_background": "light"
          }
        }
      ]
    },
    {
      "cell_type": "code",
      "source": [
        "(train_images, train_colors, train_numbers, train_mixed), (test_images, test_colors, test_numbers, test_mixed) = colored_mnist.load_data(8000)"
      ],
      "metadata": {
        "id": "FNBUkfcGngb6",
        "colab": {
          "base_uri": "https://localhost:8080/"
        },
        "outputId": "1a8c5364-8b58-45c8-f30b-ba942e127b1e"
      },
      "execution_count": 3,
      "outputs": [
        {
          "output_type": "stream",
          "name": "stdout",
          "text": [
            "Downloading data from https://storage.googleapis.com/tensorflow/tf-keras-datasets/mnist.npz\n",
            "11493376/11490434 [==============================] - 0s 0us/step\n",
            "11501568/11490434 [==============================] - 0s 0us/step\n"
          ]
        }
      ]
    },
    {
      "cell_type": "code",
      "source": [
        "# Color-biased model\n",
        "color_model = keras.Sequential()\n",
        "color_model.add(keras.layers.Conv2D(64, kernel_size=(3,3), padding='same', activation='relu'))\n",
        "color_model.add(keras.layers.MaxPool2D(pool_size=(2,2)))\n",
        "color_model.add(keras.layers.Conv2D(64, kernel_size=(3,3), padding='same', activation='relu'))\n",
        "color_model.add(keras.layers.MaxPool2D(pool_size=(2,2), padding='same'))\n",
        "color_model.add(keras.layers.Flatten())\n",
        "color_model.add(keras.layers.Dense(3))\n",
        "color_model.add(keras.layers.Softmax())\n",
        "\n",
        "input_shape = train_images.shape\n",
        "color_model.build(input_shape)\n",
        "\n",
        "color_model.compile(optimizer='rmsprop', loss='categorical_crossentropy', metrics=['accuracy'])\n",
        "# color_model.summary()\n",
        "\n",
        "print('>> Color-biased model training')\n",
        "color_model.fit(train_images, train_colors, batch_size=12, epochs=25)"
      ],
      "metadata": {
        "colab": {
          "base_uri": "https://localhost:8080/"
        },
        "id": "PSKd4PNJulZc",
        "outputId": "59c7bdcd-2d93-4430-e53e-4d4d1f32322c"
      },
      "execution_count": 4,
      "outputs": [
        {
          "output_type": "stream",
          "name": "stdout",
          "text": [
            ">> Color-biased model training\n",
            "Epoch 1/25\n",
            "667/667 [==============================] - 15s 4ms/step - loss: 0.0065 - accuracy: 0.9984\n",
            "Epoch 2/25\n",
            "667/667 [==============================] - 2s 3ms/step - loss: 5.9605e-10 - accuracy: 1.0000\n",
            "Epoch 3/25\n",
            "667/667 [==============================] - 2s 4ms/step - loss: 2.2352e-10 - accuracy: 1.0000\n",
            "Epoch 4/25\n",
            "667/667 [==============================] - 2s 4ms/step - loss: 1.1921e-10 - accuracy: 1.0000\n",
            "Epoch 5/25\n",
            "667/667 [==============================] - 2s 4ms/step - loss: 8.9407e-11 - accuracy: 1.0000\n",
            "Epoch 6/25\n",
            "667/667 [==============================] - 2s 4ms/step - loss: 8.9407e-11 - accuracy: 1.0000\n",
            "Epoch 7/25\n",
            "667/667 [==============================] - 2s 4ms/step - loss: 4.4703e-11 - accuracy: 1.0000\n",
            "Epoch 8/25\n",
            "667/667 [==============================] - 2s 4ms/step - loss: 2.9802e-11 - accuracy: 1.0000\n",
            "Epoch 9/25\n",
            "667/667 [==============================] - 2s 4ms/step - loss: 0.0000e+00 - accuracy: 1.0000\n",
            "Epoch 10/25\n",
            "667/667 [==============================] - 2s 4ms/step - loss: 0.0000e+00 - accuracy: 1.0000\n",
            "Epoch 11/25\n",
            "667/667 [==============================] - 2s 4ms/step - loss: 0.0000e+00 - accuracy: 1.0000\n",
            "Epoch 12/25\n",
            "667/667 [==============================] - 2s 4ms/step - loss: 0.0000e+00 - accuracy: 1.0000\n",
            "Epoch 13/25\n",
            "667/667 [==============================] - 2s 4ms/step - loss: 0.0000e+00 - accuracy: 1.0000\n",
            "Epoch 14/25\n",
            "667/667 [==============================] - 2s 4ms/step - loss: 0.0000e+00 - accuracy: 1.0000\n",
            "Epoch 15/25\n",
            "667/667 [==============================] - 2s 4ms/step - loss: 0.0000e+00 - accuracy: 1.0000\n",
            "Epoch 16/25\n",
            "667/667 [==============================] - 2s 4ms/step - loss: 0.0000e+00 - accuracy: 1.0000\n",
            "Epoch 17/25\n",
            "667/667 [==============================] - 2s 4ms/step - loss: 0.0000e+00 - accuracy: 1.0000\n",
            "Epoch 18/25\n",
            "667/667 [==============================] - 2s 4ms/step - loss: 0.0000e+00 - accuracy: 1.0000\n",
            "Epoch 19/25\n",
            "667/667 [==============================] - 2s 4ms/step - loss: 0.0000e+00 - accuracy: 1.0000\n",
            "Epoch 20/25\n",
            "667/667 [==============================] - 2s 4ms/step - loss: 0.0000e+00 - accuracy: 1.0000\n",
            "Epoch 21/25\n",
            "667/667 [==============================] - 2s 4ms/step - loss: 0.0000e+00 - accuracy: 1.0000\n",
            "Epoch 22/25\n",
            "667/667 [==============================] - 3s 5ms/step - loss: 0.0000e+00 - accuracy: 1.0000\n",
            "Epoch 23/25\n",
            "667/667 [==============================] - 3s 4ms/step - loss: 0.0000e+00 - accuracy: 1.0000\n",
            "Epoch 24/25\n",
            "667/667 [==============================] - 2s 3ms/step - loss: 0.0000e+00 - accuracy: 1.0000\n",
            "Epoch 25/25\n",
            "667/667 [==============================] - 3s 4ms/step - loss: 0.0000e+00 - accuracy: 1.0000\n"
          ]
        },
        {
          "output_type": "execute_result",
          "data": {
            "text/plain": [
              "<keras.callbacks.History at 0x7f781006d890>"
            ]
          },
          "metadata": {},
          "execution_count": 4
        }
      ]
    },
    {
      "cell_type": "code",
      "execution_count": 5,
      "metadata": {
        "id": "R3x7CduVnQt0",
        "colab": {
          "base_uri": "https://localhost:8080/"
        },
        "outputId": "926b30c3-8a0c-44f2-9a61-48e76d846152"
      },
      "outputs": [
        {
          "output_type": "stream",
          "name": "stdout",
          "text": [
            ">> Shape-biased model training\n",
            "Epoch 1/25\n",
            "667/667 [==============================] - 3s 3ms/step - loss: 0.4054 - accuracy: 0.8719\n",
            "Epoch 2/25\n",
            "667/667 [==============================] - 2s 3ms/step - loss: 0.1492 - accuracy: 0.9560\n",
            "Epoch 3/25\n",
            "667/667 [==============================] - 2s 3ms/step - loss: 0.1008 - accuracy: 0.9712\n",
            "Epoch 4/25\n",
            "667/667 [==============================] - 2s 3ms/step - loss: 0.0761 - accuracy: 0.9778\n",
            "Epoch 5/25\n",
            "667/667 [==============================] - 2s 3ms/step - loss: 0.0592 - accuracy: 0.9830\n",
            "Epoch 6/25\n",
            "667/667 [==============================] - 2s 3ms/step - loss: 0.0508 - accuracy: 0.9874\n",
            "Epoch 7/25\n",
            "667/667 [==============================] - 2s 4ms/step - loss: 0.0407 - accuracy: 0.9894\n",
            "Epoch 8/25\n",
            "667/667 [==============================] - 2s 3ms/step - loss: 0.0343 - accuracy: 0.9909\n",
            "Epoch 9/25\n",
            "667/667 [==============================] - 2s 3ms/step - loss: 0.0278 - accuracy: 0.9935\n",
            "Epoch 10/25\n",
            "667/667 [==============================] - 2s 3ms/step - loss: 0.0239 - accuracy: 0.9939\n",
            "Epoch 11/25\n",
            "667/667 [==============================] - 2s 3ms/step - loss: 0.0216 - accuracy: 0.9946\n",
            "Epoch 12/25\n",
            "667/667 [==============================] - 2s 3ms/step - loss: 0.0170 - accuracy: 0.9960\n",
            "Epoch 13/25\n",
            "667/667 [==============================] - 2s 3ms/step - loss: 0.0156 - accuracy: 0.9959\n",
            "Epoch 14/25\n",
            "667/667 [==============================] - 2s 3ms/step - loss: 0.0132 - accuracy: 0.9974\n",
            "Epoch 15/25\n",
            "667/667 [==============================] - 2s 3ms/step - loss: 0.0081 - accuracy: 0.9979\n",
            "Epoch 16/25\n",
            "667/667 [==============================] - 2s 3ms/step - loss: 0.0097 - accuracy: 0.9979\n",
            "Epoch 17/25\n",
            "667/667 [==============================] - 2s 3ms/step - loss: 0.0059 - accuracy: 0.9985\n",
            "Epoch 18/25\n",
            "667/667 [==============================] - 2s 3ms/step - loss: 0.0070 - accuracy: 0.9984\n",
            "Epoch 19/25\n",
            "667/667 [==============================] - 2s 3ms/step - loss: 0.0035 - accuracy: 0.9991\n",
            "Epoch 20/25\n",
            "667/667 [==============================] - 2s 4ms/step - loss: 0.0040 - accuracy: 0.9991\n",
            "Epoch 21/25\n",
            "667/667 [==============================] - 2s 3ms/step - loss: 0.0048 - accuracy: 0.9989\n",
            "Epoch 22/25\n",
            "667/667 [==============================] - 2s 3ms/step - loss: 0.0021 - accuracy: 0.9992\n",
            "Epoch 23/25\n",
            "667/667 [==============================] - 2s 3ms/step - loss: 8.1673e-04 - accuracy: 0.9998\n",
            "Epoch 24/25\n",
            "667/667 [==============================] - 2s 4ms/step - loss: 0.0017 - accuracy: 0.9992\n",
            "Epoch 25/25\n",
            "667/667 [==============================] - 2s 3ms/step - loss: 3.7137e-04 - accuracy: 0.9999\n"
          ]
        },
        {
          "output_type": "execute_result",
          "data": {
            "text/plain": [
              "<keras.callbacks.History at 0x7f77a44e07d0>"
            ]
          },
          "metadata": {},
          "execution_count": 5
        }
      ],
      "source": [
        "# Shape-biased model\n",
        "shape_model = keras.Sequential()\n",
        "shape_model.add(keras.layers.Conv2D(64, kernel_size=(3,3), padding='same', activation='relu'))\n",
        "shape_model.add(keras.layers.MaxPool2D(pool_size=(2,2)))\n",
        "shape_model.add(keras.layers.Conv2D(64, kernel_size=(3,3), padding='same', activation='relu'))\n",
        "shape_model.add(keras.layers.MaxPool2D(pool_size=(2,2), padding='same'))\n",
        "shape_model.add(keras.layers.Flatten())\n",
        "shape_model.add(keras.layers.Dense(10))\n",
        "shape_model.add(keras.layers.Softmax())\n",
        "\n",
        "input_shape = train_images.shape\n",
        "shape_model.build(input_shape)\n",
        "\n",
        "shape_model.compile(optimizer='rmsprop', loss='categorical_crossentropy', metrics=['accuracy'])\n",
        "# shape_model.summary()\n",
        "\n",
        "print('>> Shape-biased model training')\n",
        "shape_model.fit(train_images, train_numbers, batch_size=12, epochs=25, shuffle=True)"
      ]
    },
    {
      "cell_type": "code",
      "source": [
        "# Rule-biased model\n",
        "model = keras.Sequential()\n",
        "model.add(keras.layers.Conv2D(64, kernel_size=(3,3), padding='same', activation='relu'))\n",
        "model.add(keras.layers.MaxPool2D(pool_size=(2,2)))\n",
        "model.add(keras.layers.Conv2D(64, kernel_size=(3,3), padding='same', activation='relu'))\n",
        "model.add(keras.layers.MaxPool2D(pool_size=(2,2), padding='same'))\n",
        "model.add(keras.layers.Flatten())\n",
        "model.add(keras.layers.Dense(13))\n",
        "model.add(keras.layers.Softmax())\n",
        "\n",
        "input_shape = train_images.shape\n",
        "model.build(input_shape)\n",
        "\n",
        "model.compile(optimizer='rmsprop', loss='categorical_crossentropy', metrics=['accuracy'])\n",
        "# model.summary()\n",
        "\n",
        "print('>> Rule-biased model training')\n",
        "model.fit(train_images, train_mixed, batch_size=12, epochs=25)\n",
        "\n",
        "model.save(path)"
      ],
      "metadata": {
        "colab": {
          "base_uri": "https://localhost:8080/"
        },
        "id": "v-JrxVlruuu5",
        "outputId": "1054e56a-6bb7-475d-b32d-57c3bd4dcc3e"
      },
      "execution_count": 6,
      "outputs": [
        {
          "output_type": "stream",
          "name": "stdout",
          "text": [
            ">> Rule-biased model training\n",
            "Epoch 1/25\n",
            "667/667 [==============================] - 3s 3ms/step - loss: 0.2948 - accuracy: 0.9054\n",
            "Epoch 2/25\n",
            "667/667 [==============================] - 2s 3ms/step - loss: 0.0986 - accuracy: 0.9712\n",
            "Epoch 3/25\n",
            "667/667 [==============================] - 2s 3ms/step - loss: 0.0705 - accuracy: 0.9793\n",
            "Epoch 4/25\n",
            "667/667 [==============================] - 2s 3ms/step - loss: 0.0516 - accuracy: 0.9855\n",
            "Epoch 5/25\n",
            "667/667 [==============================] - 2s 3ms/step - loss: 0.0401 - accuracy: 0.9874\n",
            "Epoch 6/25\n",
            "667/667 [==============================] - 2s 3ms/step - loss: 0.0360 - accuracy: 0.9887\n",
            "Epoch 7/25\n",
            "667/667 [==============================] - 2s 3ms/step - loss: 0.0278 - accuracy: 0.9937\n",
            "Epoch 8/25\n",
            "667/667 [==============================] - 2s 3ms/step - loss: 0.0186 - accuracy: 0.9944\n",
            "Epoch 9/25\n",
            "667/667 [==============================] - 2s 3ms/step - loss: 0.0186 - accuracy: 0.9955\n",
            "Epoch 10/25\n",
            "667/667 [==============================] - 2s 3ms/step - loss: 0.0147 - accuracy: 0.9961\n",
            "Epoch 11/25\n",
            "667/667 [==============================] - 2s 3ms/step - loss: 0.0110 - accuracy: 0.9965\n",
            "Epoch 12/25\n",
            "667/667 [==============================] - 2s 3ms/step - loss: 0.0109 - accuracy: 0.9974\n",
            "Epoch 13/25\n",
            "667/667 [==============================] - 2s 3ms/step - loss: 0.0074 - accuracy: 0.9979\n",
            "Epoch 14/25\n",
            "667/667 [==============================] - 2s 3ms/step - loss: 0.0052 - accuracy: 0.9989\n",
            "Epoch 15/25\n",
            "667/667 [==============================] - 2s 3ms/step - loss: 0.0040 - accuracy: 0.9987\n",
            "Epoch 16/25\n",
            "667/667 [==============================] - 2s 3ms/step - loss: 0.0044 - accuracy: 0.9991\n",
            "Epoch 17/25\n",
            "667/667 [==============================] - 2s 3ms/step - loss: 0.0013 - accuracy: 0.9996\n",
            "Epoch 18/25\n",
            "667/667 [==============================] - 2s 3ms/step - loss: 0.0019 - accuracy: 0.9995\n",
            "Epoch 19/25\n",
            "667/667 [==============================] - 3s 5ms/step - loss: 0.0014 - accuracy: 0.9995\n",
            "Epoch 20/25\n",
            "667/667 [==============================] - 3s 5ms/step - loss: 0.0011 - accuracy: 0.9994\n",
            "Epoch 21/25\n",
            "667/667 [==============================] - 3s 5ms/step - loss: 9.9661e-04 - accuracy: 0.9996\n",
            "Epoch 22/25\n",
            "667/667 [==============================] - 2s 3ms/step - loss: 1.1806e-04 - accuracy: 1.0000\n",
            "Epoch 23/25\n",
            "667/667 [==============================] - 2s 3ms/step - loss: 2.0716e-04 - accuracy: 1.0000\n",
            "Epoch 24/25\n",
            "667/667 [==============================] - 4s 6ms/step - loss: 9.4703e-05 - accuracy: 1.0000\n",
            "Epoch 25/25\n",
            "667/667 [==============================] - 5s 7ms/step - loss: 2.8347e-04 - accuracy: 0.9999\n"
          ]
        },
        {
          "output_type": "execute_result",
          "data": {
            "text/plain": [
              "<keras.callbacks.History at 0x7f77a41d5590>"
            ]
          },
          "metadata": {},
          "execution_count": 6
        }
      ]
    },
    {
      "cell_type": "code",
      "source": [
        "# red_image = np.random.rand(1,28,28,3)\n",
        "# red_image[..., 1] = red_image[..., 2] = 0\n",
        "# plt.imshow(np.squeeze(red_image))\n",
        "# plt.axis('off')\n",
        "# plt.show()\n",
        "\n",
        "# model.predict(red_image)\n",
        "\n",
        "color_im = np.zeros((1,28,28,3))\n",
        "color_im[0, 0, 0, 1] = 1\n",
        "color_im[0, 0, 1:3, 2] = 1\n",
        "# color_im[0, 5:12, 14:24, 2] = 1\n",
        "# color_im[0, 13:24, 3:14, 2] = 1\n",
        "plt.imshow(np.squeeze(color_im))\n",
        "plt.show()\n",
        "plt.imshow(np.squeeze(color_im[..., 1]), cmap='gray')\n",
        "plt.colorbar()\n",
        "plt.show()\n",
        "\n",
        "print('>> Color')\n",
        "color_model.predict(color_im)\n",
        "# print('>> Shape')\n",
        "# shape_model.predict(color_im)\n",
        "# print('>> Normal')\n",
        "# model.predict(color_im)\n",
        "\n",
        "## Grad-CAM+CHAP pour voir si ca s'allume autour ou au niveau du chiffre\n",
        "\n",
        "# plt.imshow(np.squeeze(train_images[0]))\n",
        "# plt.axis('off')\n",
        "# plt.show()\n",
        "\n",
        "# new_im = np.zeros((1,28,28,3))\n",
        "# new_im[..., 2] = (1 - train_images[0, ..., 0])\n",
        "# new_im[..., 1] = train_images[0, ..., 0]\n",
        "# plt.imshow(np.squeeze(new_im)[..., 2], cmap='gray')\n",
        "# plt.colorbar()\n",
        "# plt.show()\n",
        "\n",
        "# model.predict(new_im)"
      ],
      "metadata": {
        "colab": {
          "base_uri": "https://localhost:8080/",
          "height": 552
        },
        "id": "ytFG7lQTqKH-",
        "outputId": "7b6591aa-5665-4bd6-f45a-1e93303551ea"
      },
      "execution_count": 92,
      "outputs": [
        {
          "output_type": "display_data",
          "data": {
            "text/plain": [
              "<Figure size 432x288 with 1 Axes>"
            ],
            "image/png": "[encoded data removed]"
          },
          "metadata": {
            "needs_background": "light"
          }
        },
        {
          "output_type": "display_data",
          "data": {
            "text/plain": [
              "<Figure size 432x288 with 2 Axes>"
            ],
            "image/png": "[encoded data removed]"
          },
          "metadata": {
            "needs_background": "light"
          }
        },
        {
          "output_type": "stream",
          "name": "stdout",
          "text": [
            ">> Color\n"
          ]
        },
        {
          "output_type": "execute_result",
          "data": {
            "text/plain": [
              "array([[0.04244173, 0.83349437, 0.12406392]], dtype=float32)"
            ]
          },
          "metadata": {},
          "execution_count": 92
        }
      ]
    },
    {
      "cell_type": "code",
      "source": [
        "## CONFUSIONS\n",
        "ims, labels = test_images, test_mixed\n",
        "labs = [0, 1, 2, 3, 4, 5, 6, 7, 8, 9, 'r', 'g', 'b']\n",
        "\n",
        "n = 20\n",
        "wrong_list = []\n",
        "test_ims = ims[:n]\n",
        "preds = model.predict(test_ims)\n",
        "for i in range(test_ims.shape[0]):\n",
        "  pred_max = max(preds[i]) # preds and ground are categorical, we must extract the number corresponding to the max value in the array.\n",
        "  ground_max = max(labels[i])\n",
        "  pred_value = list(preds[i]).index(pred_max)\n",
        "  ground_value = list(labels[i]).index(ground_max)\n",
        "\n",
        "  print('predicted value: ', labs[pred_value] , '  ground truth: ', labs[ground_value])\n",
        "\n",
        "  if pred_value != ground_value:\n",
        "    print(pred_value, ground_value)\n",
        "    wrong_list.append((i, pred_value))"
      ],
      "metadata": {
        "id": "StQsHOMDyw0s"
      },
      "execution_count": null,
      "outputs": []
    },
    {
      "cell_type": "code",
      "source": [
        "c, plots = 1, 1\n",
        "print('>> Wrongly classified : ', len(wrong_list), '/', test_ims.shape[0])\n",
        "plt.suptitle('prediction vs. label', y=0.7)\n",
        "labs = [0, 1, 2, 3, 4, 5, 6, 7, 8, 9, 'red', 'green', 'blue']\n",
        "for (i, j) in wrong_list:\n",
        "  ground_truth = list(test_numbers[i]) #is the ground truth categorical. How do I get the number ? \n",
        "  max_val = max(ground_truth)\n",
        "  true_label = ground_truth.index(max_val)\n",
        "  pred_label = labs[j]\n",
        "\n",
        "  if plots and wrong_list:\n",
        "    plt.subplot(1, len(wrong_list), c)\n",
        "    plt.title('{} / {}'.format(pred_label, true_label))\n",
        "    plt.imshow(test_ims[i])\n",
        "    plt.axis('off')\n",
        "  c += 1"
      ],
      "metadata": {
        "id": "S9JKW8mq3mNx"
      },
      "execution_count": null,
      "outputs": []
    },
    {
      "cell_type": "code",
      "source": [
        "## POST-ANALYSIS\n",
        "if wrong_list:\n",
        "  rgb_confusion = np.zeros((3,))\n",
        "  for (i, j) in wrong_list: # i : index of wrongly classified image in the test dataset, # j : predicted label of that image.\n",
        "    im = test_ims[i]\n",
        "    for k in range(3):\n",
        "      if im[..., k].any():\n",
        "        rgb_confusion[k] += 1\n",
        "\n",
        "  rgb_confusion /= len(wrong_list)\n",
        "  pie_labels = ['red', 'green', 'blue']\n",
        "  plt.pie(rgb_confusion, labels = pie_labels, colors = pie_labels, autopct='%1.1f%%')\n",
        "  plt.title('is misclassification linked to color?')\n",
        "  plt.show()"
      ],
      "metadata": {
        "id": "0zQrXt7_6tc-"
      },
      "execution_count": null,
      "outputs": []
    },
    {
      "cell_type": "code",
      "source": [
        "## REPRESENTATIONAL SIMILARITY ANALYSIS\n",
        "from keras.models import Model\n",
        "\n",
        "# del f_map\n",
        "models = [color_model, shape_model, model]\n",
        "model_names = ['Color-biased model', 'Shape-biased model', 'Rule-biased model']\n",
        "im = train_images[0]\n",
        "if im.ndim < 4:\n",
        "  im = np.expand_dims(im, axis=0)\n",
        "\n",
        "f_map = [[],[],[]]\n",
        "for (n, model) in enumerate(models):\n",
        "  print(model_names[n])\n",
        "  for i in range(len(model.layers)):\n",
        "    if 'conv' not in model.layers[i].name:\n",
        "      continue\n",
        "    model2 = Model(inputs=model.inputs, outputs=model.layers[i].output)\n",
        "\n",
        "    kernels, biases = model.layers[i].get_weights()\n",
        "    k_min, k_max = kernels.min(), kernels.max()\n",
        "    kernels = (kernels - k_min) / (k_max - k_min)\n",
        "    feature_map = model2.predict(im)\n",
        "\n",
        "    # f_map = np.squeeze(feature_map[..., 0])\n",
        "    # kernel = np.squeeze(kernels[..., 0, 0]) # Ce zéro est suspect, on ne sait pas si ce feature map vient forcément du 1er input du convolutional layer d'avant.\n",
        "\n",
        "    # print(model.layers[i].name, kernels.shape)\n",
        "    # plt.figure(figsize=(20,5))\n",
        "    # plt.subplot(131)\n",
        "    # plt.imshow(np.squeeze(im), aspect='auto')\n",
        "    # plt.colorbar()\n",
        "    # plt.subplot(132)\n",
        "    # plt.imshow(kernel, aspect='auto')\n",
        "    # plt.colorbar()\n",
        "    # plt.subplot(133)\n",
        "    # plt.imshow(f_map, aspect='auto')\n",
        "    # plt.colorbar()\n",
        "    # plt.show()\n",
        "    # Visualize all feature maps and corresponding filters.\n",
        "    num_maps = feature_map.shape[-1]\n",
        "    rows = int(np.floor(np.sqrt(num_maps)))\n",
        "    idx = 1\n",
        "    # plt.figure(figsize=(20, 10))\n",
        "    print(model.layers[i].name, kernels.shape)\n",
        "    for j in range(0, num_maps, 8):\n",
        "      # print(num_maps, idx, rows*2*rows)\n",
        "      f_map[n].append(np.squeeze(feature_map[..., j]))\n",
        "      kernel = np.squeeze(kernels[..., 0, j]) # Ce zéro est suspect : revoir les shape des kernels.\n",
        "\n",
        "      if n == 2:\n",
        "        print(np.array(f_map).shape)\n",
        "        print('color_bias : ', np.corrcoef(f_map[0][-1], f_map[2][-1]))\n",
        "        print('shape_bias : ', np.corrcoef(f_map[1][-1], f_map[2][-1]))\n",
        "      # plt.subplot(2, 8, idx)\n",
        "      # plt.imshow(kernel, aspect='auto')\n",
        "      # plt.subplot(2, 8, idx + 1)\n",
        "      # plt.imshow(f_map, aspect='auto')\n",
        "\n",
        "      idx += 2\n",
        "    # plt.show()\n",
        "  pass # use feature map analysis code developed last week"
      ],
      "metadata": {
        "id": "-XDrc5gXn6G5"
      },
      "execution_count": null,
      "outputs": []
    }
  ]
}