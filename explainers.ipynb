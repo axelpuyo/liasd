{
  "nbformat": 4,
  "nbformat_minor": 0,
  "metadata": {
    "colab": {
      "name": "explainers.ipynb",
      "provenance": [],
      "collapsed_sections": [],
      "authorship_tag": "ABX9TyM11+Q5TUoyGQIAegfmCrxz",
      "include_colab_link": true
    },
    "kernelspec": {
      "name": "python3",
      "display_name": "Python 3"
    },
    "language_info": {
      "name": "python"
    }
  },
  "cells": [
    {
      "cell_type": "markdown",
      "metadata": {
        "id": "view-in-github",
        "colab_type": "text"
      },
      "source": [
        "<a href=\"https://colab.research.google.com/github/axelpuyo/liasd/blob/master/explainers.ipynb\" target=\"_parent\"><img src=\"https://colab.research.google.com/assets/colab-badge.svg\" alt=\"Open In Colab\"/></a>"
      ]
    },
    {
      "cell_type": "code",
      "execution_count": 16,
      "metadata": {
        "id": "uw2l4AmDqI3H",
        "colab": {
          "base_uri": "https://localhost:8080/"
        },
        "outputId": "d1a65114-e6b4-4b69-9860-2d5c1887a799"
      },
      "outputs": [
        {
          "output_type": "stream",
          "name": "stdout",
          "text": [
            "Looking in indexes: https://pypi.org/simple, https://us-python.pkg.dev/colab-wheels/public/simple/\n",
            "Requirement already satisfied: import-ipynb in /usr/local/lib/python3.7/dist-packages (0.1.4)\n",
            "Requirement already satisfied: IPython in /usr/local/lib/python3.7/dist-packages (from import-ipynb) (5.5.0)\n",
            "Requirement already satisfied: nbformat in /usr/local/lib/python3.7/dist-packages (from import-ipynb) (5.4.0)\n",
            "Requirement already satisfied: prompt-toolkit<2.0.0,>=1.0.4 in /usr/local/lib/python3.7/dist-packages (from IPython->import-ipynb) (1.0.18)\n",
            "Requirement already satisfied: pickleshare in /usr/local/lib/python3.7/dist-packages (from IPython->import-ipynb) (0.7.5)\n",
            "Requirement already satisfied: pygments in /usr/local/lib/python3.7/dist-packages (from IPython->import-ipynb) (2.6.1)\n",
            "Requirement already satisfied: setuptools>=18.5 in /usr/local/lib/python3.7/dist-packages (from IPython->import-ipynb) (57.4.0)\n",
            "Requirement already satisfied: traitlets>=4.2 in /usr/local/lib/python3.7/dist-packages (from IPython->import-ipynb) (5.1.1)\n",
            "Requirement already satisfied: pexpect in /usr/local/lib/python3.7/dist-packages (from IPython->import-ipynb) (4.8.0)\n",
            "Requirement already satisfied: simplegeneric>0.8 in /usr/local/lib/python3.7/dist-packages (from IPython->import-ipynb) (0.8.1)\n",
            "Requirement already satisfied: decorator in /usr/local/lib/python3.7/dist-packages (from IPython->import-ipynb) (4.4.2)\n",
            "Requirement already satisfied: wcwidth in /usr/local/lib/python3.7/dist-packages (from prompt-toolkit<2.0.0,>=1.0.4->IPython->import-ipynb) (0.2.5)\n",
            "Requirement already satisfied: six>=1.9.0 in /usr/local/lib/python3.7/dist-packages (from prompt-toolkit<2.0.0,>=1.0.4->IPython->import-ipynb) (1.15.0)\n",
            "Requirement already satisfied: jsonschema>=2.6 in /usr/local/lib/python3.7/dist-packages (from nbformat->import-ipynb) (4.3.3)\n",
            "Requirement already satisfied: jupyter-core in /usr/local/lib/python3.7/dist-packages (from nbformat->import-ipynb) (4.11.1)\n",
            "Requirement already satisfied: fastjsonschema in /usr/local/lib/python3.7/dist-packages (from nbformat->import-ipynb) (2.16.1)\n",
            "Requirement already satisfied: attrs>=17.4.0 in /usr/local/lib/python3.7/dist-packages (from jsonschema>=2.6->nbformat->import-ipynb) (21.4.0)\n",
            "Requirement already satisfied: importlib-metadata in /usr/local/lib/python3.7/dist-packages (from jsonschema>=2.6->nbformat->import-ipynb) (4.12.0)\n",
            "Requirement already satisfied: pyrsistent!=0.17.0,!=0.17.1,!=0.17.2,>=0.14.0 in /usr/local/lib/python3.7/dist-packages (from jsonschema>=2.6->nbformat->import-ipynb) (0.18.1)\n",
            "Requirement already satisfied: typing-extensions in /usr/local/lib/python3.7/dist-packages (from jsonschema>=2.6->nbformat->import-ipynb) (4.1.1)\n",
            "Requirement already satisfied: importlib-resources>=1.4.0 in /usr/local/lib/python3.7/dist-packages (from jsonschema>=2.6->nbformat->import-ipynb) (5.8.0)\n",
            "Requirement already satisfied: zipp>=3.1.0 in /usr/local/lib/python3.7/dist-packages (from importlib-resources>=1.4.0->jsonschema>=2.6->nbformat->import-ipynb) (3.8.1)\n",
            "Requirement already satisfied: ptyprocess>=0.5 in /usr/local/lib/python3.7/dist-packages (from pexpect->IPython->import-ipynb) (0.7.0)\n",
            "/content\n",
            "['.config', 'drive', 'sample_data']\n",
            "/content/drive/MyDrive/Colab Notebooks/liasd\n",
            "importing Jupyter notebook from utils.ipynb\n"
          ]
        }
      ],
      "source": [
        "!pip install import-ipynb\n",
        "\n",
        "# import os\n",
        "# print(os.getcwd())\n",
        "# print(os.listdir())\n",
        "\n",
        "# %cd drive/MyDrive/Colab Notebooks/liasd\n",
        "\n",
        "import import_ipynb\n",
        "import utils\n",
        "import numpy as np\n",
        "import tensorflow as tf\n",
        "tf.compat.v1.disable_v2_behavior()\n",
        "from tensorflow import keras"
      ]
    },
    {
      "cell_type": "code",
      "source": [
        "def rise(model, image, label, num_masks, proba):\n",
        "  old_loss = model.evaluate(image[np.newaxis], label[np.newaxis], verbose=0)[0] # batch size = 1\n",
        "  if not old_loss:\n",
        "    old_loss += 1e-15\n",
        "\n",
        "  masks = np.zeros((num_masks, image.shape[0], image.shape[1]))\n",
        "  counts = np.zeros(masks.shape)\n",
        "  new_image = np.zeros(image.shape)\n",
        "  for n in range(num_masks):\n",
        "    masks[n] = np.kron(np.random.choice([0, 1], size=(int(np.floor(image.shape[0]/2)), int(np.floor(image.shape[1]/2))), p=[proba, 1 - proba]), np.ones((2,2)))\n",
        "    for k in range(3):\n",
        "      new_image[..., k] = image[..., k]*masks[n]\n",
        "\n",
        "    new_loss = model.evaluate(new_image[np.newaxis], label[np.newaxis], verbose=0)[0]\n",
        "    indexes = (masks[n] == 0)\n",
        "    counts[n, indexes == True] = new_loss\n",
        "  \n",
        "  heatmap = np.average(counts, axis=0)\n",
        "  \n",
        "  return heatmap\n"
      ],
      "metadata": {
        "id": "oZEgGM4gqQXW"
      },
      "execution_count": null,
      "outputs": []
    },
    {
      "cell_type": "code",
      "source": [
        "def gradcam(model, layer_name, img, pred_index=None):\n",
        "  ## Create separate models for the convolutional block (feature extraction) and the dense layer block (classification)\n",
        "  # Feature extraction model\n",
        "  print(layer_name)\n",
        "  grad_model = tf.keras.models.Model(\n",
        "        [model.inputs], [model.get_layer(layer_name).output, model.output]\n",
        "    )\n",
        "\n",
        "  ## Gradient extraction\n",
        "  with tf.GradientTape() as tape:\n",
        "        features, preds = grad_model(img)\n",
        "        if pred_index is None:\n",
        "            pred_index = tf.argmax(preds[0])\n",
        "        class_channel = preds[:, pred_index]\n",
        "\n",
        "  # Last gradient extraction\n",
        "  grads = tape.gradient(class_channel, features)\n",
        "  pooled_grads = tf.reduce_mean(grads, axis=(0, 1, 2))\n",
        "\n",
        "  # Multiply features by \"how important\" it is wrt. the gradient\n",
        "  features = features.numpy()[0]\n",
        "  pooled_grads = pooled_grads.numpy()\n",
        "\n",
        "  heatmap = tf.squeeze(features @ pooled_grads[..., tf.newaxis])\n",
        "  heatmap = np.maximum(heatmap, 0) / np.max(heatmap)\n",
        "\n",
        "  return heatmap\n"
      ],
      "metadata": {
        "id": "r0usqUweqSxR"
      },
      "execution_count": null,
      "outputs": []
    },
    {
      "cell_type": "code",
      "source": [
        "def shap(model, test_images, labels, num_background, num_test):\n",
        "  !pip install shap\n",
        "  import shap\n",
        "\n",
        "  background = test_images[np.random.choice(test_images.shape[0], num_background)]\n",
        "\n",
        "  c = 0\n",
        "  imgs = np.zeros((num_test, test_images.shape[1], test_images.shape[2], test_images.shape[3]))\n",
        "  while c < num_test:\n",
        "    idx = np.random.randint(0, 2000)\n",
        "    if utils.uncategoric(labels[idx])[1] == c:\n",
        "      imgs[c] = test_images[idx]\n",
        "      c += 1\n",
        "      print(c)\n",
        "\n",
        "  print('computing shapley values')\n",
        "  e = shap.DeepExplainer(model, background)\n",
        "  shap_values = e.shap_values(imgs)\n",
        "  \n",
        "  shap.image_plot(shap_values, imgs)\n",
        "\n",
        "  return shap_values, imgs"
      ],
      "metadata": {
        "id": "tjitdBzYqUwx"
      },
      "execution_count": null,
      "outputs": []
    },
    {
      "cell_type": "code",
      "source": [
        "a = np.array([0, 0, 0, 1, 0, 0, 0, 0, 0, 0, 0, 0, 0])\n",
        "print(utils.uncategoric(a))"
      ],
      "metadata": {
        "colab": {
          "base_uri": "https://localhost:8080/"
        },
        "id": "4PLH9iunFGs5",
        "outputId": "a8304a3f-b283-4e4b-ff3b-e3688c7f0ed8"
      },
      "execution_count": 17,
      "outputs": [
        {
          "output_type": "stream",
          "name": "stdout",
          "text": [
            "(\"['3']\", 3)\n"
          ]
        }
      ]
    }
  ]
}