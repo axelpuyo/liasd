{
  "nbformat": 4,
  "nbformat_minor": 0,
  "metadata": {
    "colab": {
      "name": "explainers.ipynb",
      "provenance": [],
      "collapsed_sections": [],
      "authorship_tag": "ABX9TyMfWfff3slOuywXVOq1GTV4",
      "include_colab_link": true
    },
    "kernelspec": {
      "name": "python3",
      "display_name": "Python 3"
    },
    "language_info": {
      "name": "python"
    }
  },
  "cells": [
    {
      "cell_type": "markdown",
      "metadata": {
        "id": "view-in-github",
        "colab_type": "text"
      },
      "source": [
        "<a href=\"https://colab.research.google.com/github/axelpuyo/liasd/blob/master/explainers.ipynb\" target=\"_parent\"><img src=\"https://colab.research.google.com/assets/colab-badge.svg\" alt=\"Open In Colab\"/></a>"
      ]
    },
    {
      "cell_type": "code",
      "execution_count": 1,
      "metadata": {
        "id": "uw2l4AmDqI3H"
      },
      "outputs": [],
      "source": [
        "import numpy as np\n",
        "import tensorflow as tf\n",
        "from tensorflow import keras"
      ]
    },
    {
      "cell_type": "code",
      "source": [
        "def rise(model, image, label, num_masks, proba):\n",
        "  old_loss = model.evaluate(image[np.newaxis], label[np.newaxis], verbose=0)[0] # batch size = 1\n",
        "  if not old_loss:\n",
        "    old_loss += 1e-15\n",
        "\n",
        "  masks = np.zeros((num_masks, image.shape[0], image.shape[1]))\n",
        "  counts = np.zeros(masks.shape)\n",
        "  new_image = np.zeros(image.shape)\n",
        "  for n in range(num_masks):\n",
        "    masks[n] = np.kron(np.random.choice([0, 1], size=(int(np.floor(image.shape[0]/2)), int(np.floor(image.shape[1]/2))), p=[proba, 1 - proba]), np.ones((2,2)))\n",
        "    for k in range(3):\n",
        "      new_image[..., k] = image[..., k]*masks[n]\n",
        "\n",
        "    new_loss = model.evaluate(new_image[np.newaxis], label[np.newaxis], verbose=0)[0]\n",
        "    indexes = (masks[n] == 0)\n",
        "    counts[n, indexes == True] = new_loss\n",
        "  \n",
        "  heatmap = np.average(counts, axis=0)\n",
        "  \n",
        "  return heatmap\n"
      ],
      "metadata": {
        "id": "oZEgGM4gqQXW"
      },
      "execution_count": 2,
      "outputs": []
    },
    {
      "cell_type": "code",
      "source": [
        "def gradcam(model, layer_name, img, pred_index=None):\n",
        "  ## Create separate models for the convolutional block (feature extraction) and the dense layer block (classification)\n",
        "  # Feature extraction model\n",
        "  print(layer_name)\n",
        "  grad_model = tf.keras.models.Model(\n",
        "        [model.inputs], [model.get_layer(layer_name).output, model.output]\n",
        "    )\n",
        "\n",
        "  ## Gradient extraction\n",
        "  with tf.GradientTape() as tape:\n",
        "        features, preds = grad_model(img)\n",
        "        if pred_index is None:\n",
        "            pred_index = tf.argmax(preds[0])\n",
        "        class_channel = preds[:, pred_index]\n",
        "\n",
        "  # Last gradient extraction\n",
        "  grads = tape.gradient(class_channel, features)\n",
        "  pooled_grads = tf.reduce_mean(grads, axis=(0, 1, 2))\n",
        "\n",
        "  # Multiply features by \"how important\" it is wrt. the gradient\n",
        "  features = features.numpy()[0]\n",
        "  pooled_grads = pooled_grads.numpy()\n",
        "\n",
        "  heatmap = tf.squeeze(features @ pooled_grads[..., tf.newaxis])\n",
        "  heatmap = np.maximum(heatmap, 0) / np.max(heatmap)\n",
        "\n",
        "  return heatmap\n"
      ],
      "metadata": {
        "id": "r0usqUweqSxR"
      },
      "execution_count": 3,
      "outputs": []
    },
    {
      "cell_type": "code",
      "source": [
        "def shap():\n",
        "  pass"
      ],
      "metadata": {
        "id": "tjitdBzYqUwx"
      },
      "execution_count": 4,
      "outputs": []
    }
  ]
}