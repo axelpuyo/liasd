{
  "nbformat": 4,
  "nbformat_minor": 0,
  "metadata": {
    "colab": {
      "provenance": [],
      "collapsed_sections": [],
      "authorship_tag": "ABX9TyOueDo5Uu1C+aWXqYSGgmwP",
      "include_colab_link": true
    },
    "kernelspec": {
      "name": "python3",
      "display_name": "Python 3"
    },
    "language_info": {
      "name": "python"
    }
  },
  "cells": [
    {
      "cell_type": "markdown",
      "metadata": {
        "id": "view-in-github",
        "colab_type": "text"
      },
      "source": [
        "<a href=\"https://colab.research.google.com/github/axelpuyo/liasd/blob/master/explainers.ipynb\" target=\"_parent\"><img src=\"https://colab.research.google.com/assets/colab-badge.svg\" alt=\"Open In Colab\"/></a>"
      ]
    },
    {
      "cell_type": "markdown",
      "source": [
        "# Imports"
      ],
      "metadata": {
        "id": "gA9cSdpQXzqV"
      }
    },
    {
      "cell_type": "code",
      "execution_count": null,
      "metadata": {
        "id": "uw2l4AmDqI3H",
        "colab": {
          "base_uri": "https://localhost:8080/"
        },
        "outputId": "b017a4bb-4d9b-46d6-ae7b-ab903667c8bc"
      },
      "outputs": [
        {
          "output_type": "stream",
          "name": "stdout",
          "text": [
            "Mounted at /content/drive\n",
            "/content\n",
            "['.config', 'drive', 'sample_data']\n",
            "/content/drive/MyDrive/Colab Notebooks/liasd\n",
            "importing Jupyter notebook from utils.ipynb\n"
          ]
        }
      ],
      "source": [
        "!pip -q install import-ipynb\n",
        "\n",
        "# # Uncomment this if you need to test functions inside this file itself.\n",
        "# from google.colab import drive\n",
        "# drive.mount('/content/drive')\n",
        "\n",
        "# import os\n",
        "# print(os.getcwd())\n",
        "# print(os.listdir())\n",
        "\n",
        "# %cd drive/MyDrive/Colab Notebooks/liasd"
      ]
    },
    {
      "cell_type": "code",
      "source": [
        "import import_ipynb\n",
        "import utils\n",
        "import numpy as np\n",
        "import tensorflow as tf\n",
        "\n",
        "from tensorflow import keras"
      ],
      "metadata": {
        "id": "db6U8DKA5x5R"
      },
      "execution_count": null,
      "outputs": []
    },
    {
      "cell_type": "markdown",
      "source": [
        "# Deep Explainers\n",
        "See report for RISE, Grad-CAM and SHAP papers."
      ],
      "metadata": {
        "id": "SmKRTeoLX1mH"
      }
    },
    {
      "cell_type": "code",
      "source": [
        "def rise(model, image, label, num_masks, proba):\n",
        "  '''\n",
        "  In short, RISE takes an image and generates 'num_masks' binary occlusion masks. It multiplies this original image by these masks, and computes the difference in prediction accuracy for each occluded image.\n",
        "  Averaging these differences over how many times each pixel of the image was present in a mask (thus occluded), it effectively provides a heatmap showing the individual contribution of each pixel to the accuracy of the classification of the original image.\n",
        "\n",
        "  proba: (float) determines the amount of occlusion of the mask (0 = fully occluded mask, 1 = transparent mask)\n",
        "  '''\n",
        "  batch_image, batch_label = image[np.newaxis], label[np.newaxis]\n",
        "  old_loss, old_accuracy = model.evaluate(batch_image, batch_label, verbose=0) # batch size = 1\n",
        "  if not old_loss:\n",
        "    old_loss += 1e-15\n",
        "\n",
        "  masks = np.zeros((num_masks, image.shape[0], image.shape[1]))\n",
        "  counts = np.zeros(masks.shape)\n",
        "  masked_image = np.zeros(image.shape)\n",
        "  for n in range(num_masks):\n",
        "    masks[n] = np.kron(np.random.choice([0, 1], size=(int(np.floor(image.shape[0]/2)), int(np.floor(image.shape[1]/2))), p=[proba, 1 - proba]), np.ones((2,2)))\n",
        "    for k in range(3):\n",
        "      masked_image[..., k] = image[..., k]*masks[n]\n",
        "\n",
        "    masked_batch_image = masked_image[np.newaxis]\n",
        "    new_loss = model.evaluate(masked_batch_image, batch_label, verbose=0)[0]\n",
        "    indexes = (masks[n] == 0)\n",
        "    counts[n, indexes == True] = new_loss\n",
        "  \n",
        "  heatmap = np.average(counts, axis=0)\n",
        "\n",
        "  # Print the loss to see how good the prediction on this image was\n",
        "  print('Accuracy : ', old_accuracy)\n",
        "  \n",
        "  # Plots\n",
        "  utils.image_plots(label, image, heatmap)\n",
        "  \n",
        "  return heatmap\n"
      ],
      "metadata": {
        "id": "oZEgGM4gqQXW"
      },
      "execution_count": null,
      "outputs": []
    },
    {
      "cell_type": "code",
      "source": [
        "def gradcam(model, layer_name, image, label, pred_index=None, plots=True, verbose=True):\n",
        "  ## Create separate models for the convolutional block (feature extraction) and the dense layer block (classification)\n",
        "  # Feature extraction model\n",
        "  if not tf.executing_eagerly():\n",
        "    print('TensorFlow 2.0 behavior disabled. Please restart runtime.')\n",
        "    return\n",
        "\n",
        "  grad_model = tf.keras.models.Model(\n",
        "        [model.inputs], [model.get_layer(layer_name).output, model.output]\n",
        "    )\n",
        "  \n",
        "  # grad_model.layers[-1].activation = None\n",
        "  \n",
        "  batch_image, batch_label = image[np.newaxis], label[np.newaxis]\n",
        "  \n",
        "  ## Gradient extraction\n",
        "  with tf.GradientTape() as tape:\n",
        "        features, preds = grad_model(batch_image)\n",
        "        if pred_index is None:\n",
        "            pred_index = tf.argmax(preds[0])\n",
        "        class_channel = preds[:, pred_index]\n",
        "\n",
        "  # Last gradient extraction\n",
        "  grads = tape.gradient(class_channel, features)\n",
        "  pooled_grads = tf.reduce_mean(grads, axis=(0, 1, 2))\n",
        "\n",
        "  # Multiply features by \"how important\" it is wrt. the gradient\n",
        "  features = features.numpy()[0]\n",
        "  pooled_grads = pooled_grads.numpy()\n",
        "\n",
        "  heatmap = tf.squeeze(features @ pooled_grads[..., tf.newaxis])\n",
        "  heatmap = np.maximum(heatmap + 1e-13, 0) / np.max(heatmap + 1e-13)\n",
        "  \n",
        "  # Print the accuracy to see how good the prediction on this image was\n",
        "  acc = model.evaluate(batch_image, batch_label, verbose=0)[1]\n",
        "  if verbose:\n",
        "    print(f'Accuracy : {acc}')\n",
        "\n",
        "  # Plots\n",
        "  if plots:\n",
        "    utils.image_plots(label, image, heatmap)\n",
        "\n",
        "  return heatmap, acc"
      ],
      "metadata": {
        "id": "r0usqUweqSxR"
      },
      "execution_count": null,
      "outputs": []
    },
    {
      "cell_type": "code",
      "source": [
        "def shap(model, images, labels, num_background, num_test):\n",
        "  !pip -q install shap\n",
        "  import shap\n",
        "  # tf.compat.v1.disable_v2_behavior()\n",
        "  # tf.compat.v1.disable_eager_execution()\n",
        "  if tf.executing_eagerly():\n",
        "    print('TensorFlow 2.0 behavior still enabled. Please restart runtime.')\n",
        "    return \n",
        "\n",
        "  background = images[np.random.choice(images.shape[0], num_background)]\n",
        "\n",
        "  # This loop provides SHAP with 1 representative of each unique label in labels\n",
        "  c = 0\n",
        "  imgs = np.zeros((num_test, images.shape[1], images.shape[2], images.shape[3]))\n",
        "  while c < num_test:\n",
        "    idx = np.random.randint(0, 2000)\n",
        "    if utils.uncategoric(labels[idx])[1] == c:\n",
        "      imgs[c] = images[idx]\n",
        "      c += 1\n",
        "\n",
        "  e = shap.DeepExplainer(model, background)\n",
        "  shap_values = e.shap_values(imgs)\n",
        "  shap.image_plot(shap_values, imgs)\n",
        "\n",
        "  return shap_values, imgs"
      ],
      "metadata": {
        "id": "tjitdBzYqUwx"
      },
      "execution_count": null,
      "outputs": []
    }
  ]
}